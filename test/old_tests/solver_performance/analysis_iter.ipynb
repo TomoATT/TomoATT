{
 "cells": [
  {
   "cell_type": "code",
   "execution_count": 7,
   "metadata": {},
   "outputs": [
    {
     "data": {
      "image/png": "[encoded data removed]",
      "text/plain": [
       "<Figure size 432x288 with 1 Axes>"
      ]
     },
     "metadata": {
      "needs_background": "light"
     },
     "output_type": "display_data"
    }
   ],
   "source": [
    "import matplotlib.pyplot as plt\n",
    "\n",
    "\n",
    "fcuda = \"iter_cuda.txt\"\n",
    "fcpu  = \"iter.txt\"\n",
    "\n",
    "v_cuda = []\n",
    "v_cpu  = []\n",
    "t_cuda = []\n",
    "t_cpu  = []\n",
    "\n",
    "\n",
    "# open file and read\n",
    "with open(fcuda, \"r\") as f:\n",
    "    cuda = f.readlines()\n",
    "    t = 0\n",
    "    for line in cuda:\n",
    "        v = float(line.split(',')[0].split(\":\")[1])\n",
    "        v_cuda.append(v)\n",
    "        t += float(line.split(',')[-1])\n",
    "        t_cuda.append(t)\n",
    "\n",
    "with open(fcpu, \"r\") as f:\n",
    "    cpu = f.readlines()\n",
    "    t = 0\n",
    "    for line in cpu:\n",
    "        v = float(line.split(',')[0].split(\":\")[1])\n",
    "        v_cpu.append(v)\n",
    "        t += float(line.split(',')[-1])\n",
    "        t_cpu.append(t)\n",
    "\n",
    "# plot\n",
    "plt.scatter(t_cuda, v_cuda, label=\"cuda\")\n",
    "plt.scatter(t_cpu, v_cpu, label=\"cpu\")\n",
    "#plt.plot(v_cuda, label=\"cuda\")\n",
    "#plt.plot(v_cpu, label=\"cpu\")\n",
    "\n",
    "plt.legend()\n",
    "plt.show()"
   ]
  },
  {
   "cell_type": "code",
   "execution_count": null,
   "metadata": {},
   "outputs": [],
   "source": []
  }
 ],
 "metadata": {
  "kernelspec": {
   "display_name": "Python 3.9.1 64-bit ('3.9.1')",
   "language": "python",
   "name": "python3"
  },
  "language_info": {
   "codemirror_mode": {
    "name": "ipython",
    "version": 3
   },
   "file_extension": ".py",
   "mimetype": "text/x-python",
   "name": "python",
   "nbconvert_exporter": "python",
   "pygments_lexer": "ipython3",
   "version": "3.9.1"
  },
  "orig_nbformat": 4,
  "vscode": {
   "interpreter": {
    "hash": "02f83e1f4cd9619657a6845405e2dd67c4de23753ba48bca5dce2ebf57b3813a"
   }
  }
 },
 "nbformat": 4,
 "nbformat_minor": 2
}
