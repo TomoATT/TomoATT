{
 "cells": [
  {
   "cell_type": "code",
   "execution_count": null,
   "metadata": {},
   "outputs": [],
   "source": [
    "# compare result from TOMOATT and fortran code\n",
    "\n",
    "fpath_kernel_fort = './fortran/ega5/output/kernel_step1_sum'\n",
    "fpath_synth_fort  = './fortran/ega5/output/syn_step1_event1' # Table\n",
    "fpath_adj_fort    = './fortran/ega5/output/adj_step1_event1' # TableADJ\n",
    "fpath_out_tomoatt = './out_data_sim_0.h5'\n",
    "\n",
    "# grid information in fortran code\n",
    "nr = 55\n",
    "nt = 55\n",
    "np = 55\n",
    "npoints = nr*nt*np\n",
    "\n",
    "# division\n",
    "ndiv_r = 1 \n",
    "ndiv_t = 1  \n",
    "ndiv_p = 1   "
   ]
  },
  {
   "cell_type": "code",
   "execution_count": null,
   "metadata": {},
   "outputs": [],
   "source": [
    "import h5py\n",
    "import numpy\n",
    "\n",
    "\n",
    "# read fortran test file and convert to numpy array\n",
    "def read_fortran_result_file(fpath):\n",
    "    with open(fpath, 'r') as f:\n",
    "        lines = f.readlines()\n",
    "        lines = [line.strip() for line in lines]\n",
    "        lines = [line for line in lines if line]\n",
    "        lines = [line.split() for line in lines]\n",
    "        lines = numpy.array(lines, dtype=numpy.float64)\n",
    "        return lines\n",
    "\n",
    "fortran_data = read_fortran_result_file(fpath_kernel_fort)\n",
    "## change dimension of fortran data\n",
    "Ks_fort = fortran_data[:,3].reshape(nr, nt, np)\n",
    "Kxi_fort = fortran_data[:,4].reshape(nr, nt, np)\n",
    "Keta_fort = fortran_data[:,5].reshape(nr, nt, np)\n",
    "\n",
    "fortran_synth_data = read_fortran_result_file(fpath_synth_fort).reshape(nr, nt, np)\n",
    "fortran_adj_data = read_fortran_result_file(fpath_adj_fort).reshape(nr, nt, np)"
   ]
  },
  {
   "cell_type": "code",
   "execution_count": null,
   "metadata": {},
   "outputs": [],
   "source": [
    "# read h5 data\n",
    "import sys\n",
    "sys.path.append(\"../../utils/\")\n",
    "\n",
    "from tomoatt_data_retrieval import get_data_from_h5\n",
    "\n",
    "#Ks_tomoatt = get_data_from_h5(fpath_out_tomoatt, \"Data/Ks_update_inv_0000\", nr, nt, np, ndiv_r, ndiv_t, ndiv_p, verbose=True)\n",
    "#Kxi_tomoatt = get_data_from_h5(fpath_out_tomoatt, \"Data/Kxi_update_inv_0000\", nr, nt, np, ndiv_r, ndiv_t, ndiv_p)\n",
    "#Keta_tomoatt = get_data_from_h5(fpath_out_tomoatt, \"Data/Keta_update_inv_0000\", nr, nt, np, ndiv_r, ndiv_t, ndiv_p)\n",
    "\n",
    "Ks_tomoatt = get_data_from_h5(fpath_out_tomoatt, \"Data/Ks_inv_0000\", nr, nt, np, ndiv_r, ndiv_t, ndiv_p, verbose=True)\n",
    "Kxi_tomoatt = get_data_from_h5(fpath_out_tomoatt, \"Data/Kxi_inv_0000\", nr, nt, np, ndiv_r, ndiv_t, ndiv_p)\n",
    "Keta_tomoatt = get_data_from_h5(fpath_out_tomoatt, \"Data/Keta_inv_0000\", nr, nt, np, ndiv_r, ndiv_t, ndiv_p)\n",
    "\n",
    "Syn_tomoatt = get_data_from_h5(fpath_out_tomoatt, \"Data/T_res_src_0_inv_0000\", nr, nt, np, ndiv_r, ndiv_t, ndiv_p)\n",
    "Adj_tomoatt = get_data_from_h5(fpath_out_tomoatt, \"Data/adjoint_field_src_0_inv_0000\", nr, nt, np, ndiv_r, ndiv_t, ndiv_p)"
   ]
  },
  {
   "cell_type": "code",
   "execution_count": null,
   "metadata": {},
   "outputs": [],
   "source": [
    "# plot slice of Ks_inv\n",
    "import matplotlib.pyplot as plt\n",
    "import matplotlib.animation as animation\n",
    "\n",
    "\n",
    "def plot_slice(data_es, data_fort, slice_ax, id_slice, contour=False, make_anime=False, tag=\"\"):\n",
    "\n",
    "    if (slice_ax == 'r'):\n",
    "        data_es_v   = data_es[  id_slice, :, :]\n",
    "        data_fort_v = data_fort[id_slice, :, :]\n",
    "    elif (slice_ax == 't'):\n",
    "        data_es_v   = data_es[  :, id_slice, :]\n",
    "        data_fort_v = data_fort[:, id_slice, :]\n",
    "    elif (slice_ax == 'p'):\n",
    "        data_es_v   = data_es[  :, :, id_slice]\n",
    "        data_fort_v = data_fort[:, :, id_slice]\n",
    "    else:\n",
    "        print(\"Error: slice_ax should be 'r', 't' or 'p'\")\n",
    "        return\n",
    "\n",
    "    # use the same color range for both tomoatt and fortran   \n",
    "    combined_data = numpy.array([data_es_v.flatten(),data_fort_v.flatten()])\n",
    "    #Get the min and max of all your data\n",
    "    _min, _max = numpy.amin(combined_data), numpy.amax(combined_data)\n",
    "    # make the color range symmetric\n",
    "    if (abs(_min) > abs(_max)):\n",
    "        if(_min < 0):\n",
    "            _max = -_min\n",
    "    else:\n",
    "            _min = -_max\n",
    "\n",
    "\n",
    "\n",
    "    # make the color range symmetric\n",
    "    diff_data = data_es_v-data_fort_v\n",
    "    _min_diff, _max_diff = numpy.amin(diff_data), numpy.amax(diff_data)\n",
    "    if (abs(_min_diff) > abs(_max_diff)):\n",
    "        if (_min_diff < 0):\n",
    "            _max_diff = -_min_diff\n",
    "    else:\n",
    "        _min_diff = -_max_diff\n",
    "\n",
    "    #cmap1=\"viridis\"\n",
    "    cmap1=\"seismic\"\n",
    "    cmap2=\"seismic\"\n",
    "\n",
    "    plt.figure(figsize=(20,10))\n",
    "\n",
    "    plt.subplot(1,3,1)\n",
    "    plt.imshow(data_es_v, cmap=cmap1, vmin=_min, vmax=_max)\n",
    "    plt.colorbar()\n",
    "    if(contour):\n",
    "        plt.contour(data_es_v, colors='k', linewidths=0.5)\n",
    "    plt.title('result_tomoatt')\n",
    "\n",
    "    plt.subplot(1,3,2)\n",
    "    plt.imshow(data_fort_v, cmap=cmap1, vmin=_min, vmax=_max)\n",
    "    plt.colorbar()\n",
    "    if(contour): \n",
    "        plt.contour(data_fort_v, colors='k', linewidths=0.5)\n",
    "    plt.title('result_fort')\n",
    "    \n",
    "    plt.subplot(1,3,3)\n",
    "    plt.imshow(diff_data, cmap=cmap2, vmin=_min_diff, vmax=_max_diff)\n",
    "    plt.colorbar()\n",
    "    if(contour):\n",
    "        plt.contour(diff_data, colors='k', linewidths=0.5) \n",
    "    plt.title('tomoatt-fort')\n",
    "\n",
    "    if (not make_anime):\n",
    "        plt.show()\n",
    "    else:\n",
    "        plt.savefig(\"out_\"+tag+\"_\"+slice_ax+str(id_slice).zfill(3)+\".png\")\n"
   ]
  },
  {
   "cell_type": "code",
   "execution_count": null,
   "metadata": {},
   "outputs": [],
   "source": [
    "plot_slice(Syn_tomoatt, fortran_synth_data, 'r', 20, contour=True)"
   ]
  },
  {
   "cell_type": "code",
   "execution_count": null,
   "metadata": {},
   "outputs": [],
   "source": [
    "\n",
    "def anime_slices(data_es, data_fort, slice_ax, tag):\n",
    "\n",
    "    if (slice_ax == 'r'):\n",
    "        n = nr\n",
    "    elif (slice_ax == 't'):\n",
    "        n = nt\n",
    "    elif (slice_ax == 'p'):\n",
    "        n = np\n",
    "\n",
    "    for i in range(0, n):\n",
    "        plot_slice(data_es, data_fort, slice_ax, i, contour=True, make_anime=True, tag=tag)\n",
    "\n",
    "    ## make png files to gif\n",
    "    import subprocess\n",
    "    subprocess.call([\"convert\", \"-delay\", \"20\", \"-loop\", \"0\", \"out_{}_{}*.png\".format(tag,slice_ax), \"out_{}_{}.gif\".format(tag,slice_ax)])\n",
    "    # erase png files\n",
    "    for i in range(0, nr):\n",
    "        subprocess.call([\"rm\", \"out_{}_{}\".format(tag,slice_ax)+str(i).zfill(3)+\".png\"])"
   ]
  },
  {
   "cell_type": "code",
   "execution_count": null,
   "metadata": {},
   "outputs": [],
   "source": [
    "anime_slices(Ks_tomoatt, Ks_fort, 'r', 'Ks')\n",
    "anime_slices(Ks_tomoatt, Ks_fort, 't', 'Ks')\n",
    "anime_slices(Ks_tomoatt, Ks_fort, 'p', 'Ks')\n"
   ]
  },
  {
   "cell_type": "code",
   "execution_count": null,
   "metadata": {},
   "outputs": [],
   "source": [
    "anime_slices(Adj_tomoatt, fortran_adj_data,'r', 'Adj')"
   ]
  },
  {
   "cell_type": "code",
   "execution_count": null,
   "metadata": {},
   "outputs": [],
   "source": [
    "anime_slices(Keta_tomoatt, Keta_fort, 'r', 'Keta')\n",
    "anime_slices(Keta_tomoatt, Keta_fort, 't', 'Keta')\n",
    "anime_slices(Keta_tomoatt, Keta_fort, 'p', 'Keta')\n"
   ]
  },
  {
   "cell_type": "code",
   "execution_count": null,
   "metadata": {},
   "outputs": [],
   "source": [
    "anime_slices(Kxi_tomoatt, Kxi_fort, 'r', 'Kxi')\n",
    "anime_slices(Kxi_tomoatt, Kxi_fort, 't', 'Kxi')\n",
    "anime_slices(Kxi_tomoatt, Kxi_fort, 'p', 'Kxi')\n"
   ]
  },
  {
   "cell_type": "code",
   "execution_count": null,
   "metadata": {},
   "outputs": [],
   "source": [
    "anime_slices(Adj_tomoatt, fortran_adj_data, 'r', 'adj')\n"
   ]
  },
  {
   "cell_type": "code",
   "execution_count": null,
   "metadata": {},
   "outputs": [],
   "source": []
  }
 ],
 "metadata": {
  "kernelspec": {
   "display_name": "Python 3.9.1 64-bit ('3.9.1')",
   "language": "python",
   "name": "python3"
  },
  "language_info": {
   "codemirror_mode": {
    "name": "ipython",
    "version": 3
   },
   "file_extension": ".py",
   "mimetype": "text/x-python",
   "name": "python",
   "nbconvert_exporter": "python",
   "pygments_lexer": "ipython3",
   "version": "3.9.1"
  },
  "vscode": {
   "interpreter": {
    "hash": "02f83e1f4cd9619657a6845405e2dd67c4de23753ba48bca5dce2ebf57b3813a"
   }
  }
 },
 "nbformat": 4,
 "nbformat_minor": 2
}
