{
 "cells": [
  {
   "cell_type": "code",
   "execution_count": 5,
   "metadata": {},
   "outputs": [
    {
     "name": "stdout",
     "output_type": "stream",
     "text": [
      "number of events:  100\n",
      "number of events:  100\n",
      "number of events:  100\n"
     ]
    }
   ],
   "source": [
    "# add ../../utils to the path\n",
    "import sys\n",
    "sys.path.append('../../utils')\n",
    "\n",
    "from src_rec_file_helper import *\n",
    "\n",
    "# read file\n",
    "fpath_true = \"./OUTPUT_FILES/src_rec_file_forward.dat\"\n",
    "event_list_true = read_src_rec_file(fpath_true)\n",
    "\n",
    "fpath_mod = \"./src_rec_test_out_modified.dat\"\n",
    "event_list_mod = read_src_rec_file(fpath_mod)\n",
    "\n",
    "fpath_res = \"./OUTPUT_FILES/src_rec_file_src_reloc.dat\"\n",
    "event_list_res = read_src_rec_file(fpath_res)"
   ]
  },
  {
   "cell_type": "code",
   "execution_count": 6,
   "metadata": {},
   "outputs": [
    {
     "data": {
      "text/plain": [
       "Text(0.5, 0, 'longitude')"
      ]
     },
     "execution_count": 6,
     "metadata": {},
     "output_type": "execute_result"
    },
    {
     "data": {
      "image/png": "[encoded data removed]",
      "text/plain": [
       "<Figure size 432x288 with 1 Axes>"
      ]
     },
     "metadata": {
      "needs_background": "light"
     },
     "output_type": "display_data"
    }
   ],
   "source": [
    "#plot\n",
    "import matplotlib.pyplot as plt\n",
    "import numpy as np\n",
    "\n",
    "fig, ax = plt.subplots(1, 1)\n",
    "for event_true, event_mod, event_res in zip(event_list_true, event_list_mod, event_list_res):\n",
    "\n",
    "    # true\n",
    "    ax.scatter(event_true.lat, event_true.lon, c='b', marker='o', label='true', s=10)\n",
    "    # modified\n",
    "    ax.scatter(event_mod.lat, event_mod.lon, c='r', marker='o', label='modified')\n",
    "    # result\n",
    "    ax.scatter(event_res.lat, event_res.lon, c='g', marker='o', label='result', alpha=0.5)\n",
    "\n",
    "ax.set_title(\"Earthquake Relocation\")\n",
    "ax.set_ylabel(\"latitude\")\n",
    "ax.set_xlabel(\"longitude\")\n"
   ]
  },
  {
   "cell_type": "code",
   "execution_count": null,
   "metadata": {},
   "outputs": [],
   "source": []
  },
  {
   "cell_type": "code",
   "execution_count": null,
   "metadata": {},
   "outputs": [],
   "source": []
  }
 ],
 "metadata": {
  "kernelspec": {
   "display_name": "Python 3.9.1 64-bit ('3.9.1')",
   "language": "python",
   "name": "python3"
  },
  "language_info": {
   "codemirror_mode": {
    "name": "ipython",
    "version": 3
   },
   "file_extension": ".py",
   "mimetype": "text/x-python",
   "name": "python",
   "nbconvert_exporter": "python",
   "pygments_lexer": "ipython3",
   "version": "3.9.1"
  },
  "orig_nbformat": 4,
  "vscode": {
   "interpreter": {
    "hash": "02f83e1f4cd9619657a6845405e2dd67c4de23753ba48bca5dce2ebf57b3813a"
   }
  }
 },
 "nbformat": 4,
 "nbformat_minor": 2
}
