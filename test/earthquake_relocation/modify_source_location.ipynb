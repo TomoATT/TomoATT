{
 "cells": [
  {
   "cell_type": "code",
   "execution_count": 13,
   "metadata": {},
   "outputs": [
    {
     "name": "stdout",
     "output_type": "stream",
     "text": [
      "number of events:  100\n"
     ]
    }
   ],
   "source": [
    "# add ../../utils to the path\n",
    "import sys\n",
    "sys.path.append('../../utils')\n",
    "\n",
    "from src_rec_file_helper import *\n",
    "\n",
    "# read file\n",
    "fpath = \"./OUTPUT_FILES/src_rec_file_forward.dat\"\n",
    "event_list = read_src_rec_file(fpath)"
   ]
  },
  {
   "cell_type": "code",
   "execution_count": 14,
   "metadata": {},
   "outputs": [
    {
     "data": {
      "text/plain": [
       "AttEvent class object: \n",
       "id: 0\n",
       "year: 1998\n",
       "month: 1\n",
       "day: 1\n",
       "hour: 0\n",
       "minute: 0\n",
       "sec: 0.0\n",
       "lat: 29.65\n",
       "lon: 14.9\n",
       "dep: 270.9\n",
       "mag: 3.0\n",
       "nrec: 4\n",
       "id_event: 1000"
      ]
     },
     "execution_count": 14,
     "metadata": {},
     "output_type": "execute_result"
    }
   ],
   "source": [
    "event_list[0]"
   ]
  },
  {
   "cell_type": "code",
   "execution_count": 15,
   "metadata": {},
   "outputs": [],
   "source": [
    "# copy event list\n",
    "import copy\n",
    "event_list_ori = copy.deepcopy(event_list)"
   ]
  },
  {
   "cell_type": "code",
   "execution_count": 16,
   "metadata": {},
   "outputs": [],
   "source": [
    "# modify source location\n",
    "# slightly shift the source location towards the center of the domain\n",
    "import math\n",
    "\n",
    "tt1=(30.0-1.5)\n",
    "tt2=(50.0+1.5)\n",
    "pp1=(15.0-1.5)\n",
    "pp2=(40.0+1.5)\n",
    "\n",
    "center_lon = (pp1+pp2)/2\n",
    "center_lat = (tt1+tt2)/2\n",
    "\n",
    "# shift amount is 5 %\n",
    "factor_shift =  0.05\n",
    "\n",
    "for event in event_list:\n",
    "    # shift direction vector\n",
    "    v_lon = center_lon - event.lon\n",
    "    v_lat = center_lat - event.lat\n",
    "\n",
    "    event.lon += v_lon * factor_shift \n",
    "    event.lat += v_lat * factor_shift \n"
   ]
  },
  {
   "cell_type": "code",
   "execution_count": 17,
   "metadata": {},
   "outputs": [
    {
     "data": {
      "image/png": "[encoded data removed]",
      "text/plain": [
       "<Figure size 432x288 with 1 Axes>"
      ]
     },
     "metadata": {
      "needs_background": "light"
     },
     "output_type": "display_data"
    }
   ],
   "source": [
    "# plot original and modified source location\n",
    "import matplotlib.pyplot as plt\n",
    "\n",
    "for event in event_list_ori:\n",
    "    plt.plot(event.lon, event.lat, color=\"red\", marker=\"o\", markersize=1)\n",
    "\n",
    "for event in event_list:\n",
    "    plt.plot(event.lon, event.lat, color=\"blue\", marker=\"o\", markersize=1)\n",
    "\n",
    "plt.xlabel(\"Longitude\")\n",
    "plt.ylabel(\"Latitude\")\n",
    "\n",
    "plt.show()"
   ]
  },
  {
   "cell_type": "code",
   "execution_count": 18,
   "metadata": {},
   "outputs": [],
   "source": [
    "# write out\n",
    "fpath=\"src_rec_test_out_modified.dat\"\n",
    "write_event_list(event_list, fpath)"
   ]
  },
  {
   "cell_type": "code",
   "execution_count": null,
   "metadata": {},
   "outputs": [],
   "source": []
  }
 ],
 "metadata": {
  "kernelspec": {
   "display_name": "Python 3.9.1 64-bit ('3.9.1')",
   "language": "python",
   "name": "python3"
  },
  "language_info": {
   "codemirror_mode": {
    "name": "ipython",
    "version": 3
   },
   "file_extension": ".py",
   "mimetype": "text/x-python",
   "name": "python",
   "nbconvert_exporter": "python",
   "pygments_lexer": "ipython3",
   "version": "3.9.1"
  },
  "orig_nbformat": 4,
  "vscode": {
   "interpreter": {
    "hash": "02f83e1f4cd9619657a6845405e2dd67c4de23753ba48bca5dce2ebf57b3813a"
   }
  }
 },
 "nbformat": 4,
 "nbformat_minor": 2
}
