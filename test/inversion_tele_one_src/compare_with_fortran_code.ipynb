{
 "cells": [
  {
   "cell_type": "code",
   "execution_count": null,
   "metadata": {},
   "outputs": [],
   "source": [
    "# compare result from TOMOATT and fortran code\n",
    "\n",
    "fpath_kernel_fort = './fortran_code/ega5/output/tele_event_kernel_ev1'\n",
    "#fpath_synth_fort = './fortran_code/ega5/output/syn_step1_event1' # Table\n",
    "#fpath_adj_fort = './fortran_code/ega5/output/adj_step1_event1' # TableADJ\n",
    "\n",
    "# HDF5 output\n",
    "fpath_out_tomoatt = './OUTPUT_FILES/out_data_sim_0.h5'\n",
    "# ASCII output\n",
    "fpath_out_tomoatt_ascii_Ks = './OUTPUT_FILES/Ks_inv_0000.dat'\n",
    "fpath_out_tomoatt_ascii_Keta = './OUTPUT_FILES/Keta_inv_0000.dat'\n",
    "fpath_out_tomoatt_ascii_Kxi = './OUTPUT_FILES/Kxi_inv_0000.dat'\n",
    "fpath_out_tomoatt_ascii_T  = './OUTPUT_FILES/T_res_inv_0000_src_0000.dat'\n",
    "fpath_out_tomoatt_ascii_adj = './OUTPUT_FILES/adjoint_field_inv_0000_src_0000.dat'\n",
    "\n",
    "# grid information in fortran code\n",
    "nr = 55\n",
    "nt = 55\n",
    "np = 55\n",
    "npoints = nr*nt*np\n",
    "\n",
    "# division\n",
    "ndiv_r = 1 \n",
    "ndiv_t = 3 \n",
    "ndiv_p = 3  "
   ]
  },
  {
   "cell_type": "code",
   "execution_count": null,
   "metadata": {},
   "outputs": [],
   "source": [
    "import h5py\n",
    "import numpy\n",
    "\n",
    "\n",
    "# read fortran test file and convert to numpy array\n",
    "def read_fortran_result_file(fpath):\n",
    "    with open(fpath, 'r') as f:\n",
    "        lines = f.readlines()\n",
    "        lines = [line.strip() for line in lines]\n",
    "        lines = [line for line in lines if line]\n",
    "        lines = [line.split() for line in lines]\n",
    "        lines = numpy.array(lines, dtype=numpy.float64)\n",
    "        return lines\n",
    "\n",
    "fortran_data = read_fortran_result_file(fpath_kernel_fort)\n",
    "## change dimension of fortran data\n",
    "Ks_fort = fortran_data[:,3].reshape(nr, nt, np)\n",
    "Kxi_fort = fortran_data[:,4].reshape(nr, nt, np)\n",
    "Keta_fort = fortran_data[:,5].reshape(nr, nt, np)\n",
    "Syn_fort = fortran_data[:,6].reshape(nr, nt, np)\n",
    "Adj_fort = fortran_data[:,7].reshape(nr, nt, np)\n",
    "\n",
    "#fortran_synth_data = read_fortran_result_file(fpath_synth_fort).reshape(nr, nt, np)\n",
    "#fortran_adj_data = read_fortran_result_file(fpath_adj_fort).reshape(nr, nt, np)"
   ]
  },
  {
   "cell_type": "code",
   "execution_count": null,
   "metadata": {},
   "outputs": [],
   "source": [
    "# read h5 data\n",
    "import sys\n",
    "sys.path.append(\"../../utils/\")\n",
    "\n",
    "from tomoatt_data_retrieval import get_data_from_h5\n",
    "from tomoatt_data_retrieval import get_data_from_ascii\n",
    "\n",
    "\n",
    "## from h5\n",
    "i_inv=0\n",
    "# fill 0 at flont of i_inv\n",
    "str_i_inv = str(i_inv).zfill(4)\n",
    "Ks_tomoatt = get_data_from_h5(fpath_out_tomoatt, \"Data/Ks_inv_{}\".format(str_i_inv), nr, nt, np, ndiv_r, ndiv_t, ndiv_p, verbose=True)\n",
    "Kxi_tomoatt = get_data_from_h5(fpath_out_tomoatt, \"Data/Kxi_inv_{}\".format(str_i_inv), nr, nt, np, ndiv_r, ndiv_t, ndiv_p)\n",
    "Keta_tomoatt = get_data_from_h5(fpath_out_tomoatt, \"Data/Keta_inv_{}\".format(str_i_inv), nr, nt, np, ndiv_r, ndiv_t, ndiv_p)\n",
    "Syn_tomoatt = get_data_from_h5(fpath_out_tomoatt, \"Data/T_res_src_0_inv_{}\".format(str_i_inv), nr, nt, np, ndiv_r, ndiv_t, ndiv_p)\n",
    "Adj_tomoatt = get_data_from_h5(fpath_out_tomoatt, \"Data/adjoint_field_src_0_inv_{}\".format(str_i_inv), nr, nt, np, ndiv_r, ndiv_t, ndiv_p)\n",
    "\n",
    "## from ascii\n",
    "#Ks_tomoatt = get_data_from_ascii(fpath_out_tomoatt_ascii_Ks, nr, nt, np, ndiv_r, ndiv_t, ndiv_p)\n",
    "#Kxi_tomoatt = get_data_from_ascii(fpath_out_tomoatt_ascii_Kxi, nr, nt, np, ndiv_r, ndiv_t, ndiv_p)\n",
    "#Keta_tomoatt = get_data_from_ascii(fpath_out_tomoatt_ascii_Keta, nr, nt, np, ndiv_r, ndiv_t, ndiv_p)\n",
    "#Syn_tomoatt = get_data_from_ascii(fpath_out_tomoatt_ascii_T, nr, nt, np, ndiv_r, ndiv_t, ndiv_p)\n",
    "#Adj_tomoatt = get_data_from_ascii(fpath_out_tomoatt_ascii_adj, nr, nt, np, ndiv_r, ndiv_t, ndiv_p)"
   ]
  },
  {
   "cell_type": "code",
   "execution_count": null,
   "metadata": {},
   "outputs": [],
   "source": [
    "# normalize Ks_tomoatt and Kxi_tomoatt and Keta_tomoatt\n",
    "Ks_tomoatt /= numpy.max(Ks_tomoatt)\n",
    "Kxi_tomoatt /= numpy.max(Kxi_tomoatt)\n",
    "Keta_tomoatt /= numpy.max(Keta_tomoatt)"
   ]
  },
  {
   "cell_type": "code",
   "execution_count": null,
   "metadata": {},
   "outputs": [],
   "source": [
    "# plot slice of Ks_inv\n",
    "import matplotlib.pyplot as plt\n",
    "\n",
    "def plot_slice(data_es, data_fort, slice_ax, id_slice, contour=False):\n",
    "\n",
    "    if (slice_ax == 'r'):\n",
    "        data_es_v   = data_es[  id_slice, :, :]\n",
    "        data_fort_v = data_fort[id_slice, :, :]\n",
    "    elif (slice_ax == 't'):\n",
    "        data_es_v   = data_es[  :, id_slice, :]\n",
    "        data_fort_v = data_fort[:, id_slice, :]\n",
    "    elif (slice_ax == 'p'):\n",
    "        data_es_v   = data_es[  :, :, id_slice]\n",
    "        data_fort_v = data_fort[:, :, id_slice]\n",
    "    else:\n",
    "        print(\"Error: slice_ax should be 'r', 't' or 'p'\")\n",
    "        return\n",
    "\n",
    "    # use the same color range for both tomoatt and fortran   \n",
    "    combined_data = numpy.array([data_es_v.flatten(),data_fort_v.flatten()])\n",
    "    #Get the min and max of all your data\n",
    "    _min, _max = numpy.amin(combined_data), numpy.amax(combined_data)\n",
    "\n",
    "    # make the color range symmetric\n",
    "    diff_data = data_es_v-data_fort_v\n",
    "    _min_diff, _max_diff = numpy.amin(diff_data), numpy.amax(diff_data)\n",
    "    if (abs(_min_diff) > abs(_max_diff)):\n",
    "        if (_min_diff < 0):\n",
    "            _max_diff = -_min_diff\n",
    "    else:\n",
    "        _min_diff = -_max_diff\n",
    "\n",
    "    cmap1=\"viridis\"\n",
    "    cmap2=\"seismic\"\n",
    "\n",
    "    plt.figure(figsize=(20,10))\n",
    "\n",
    "    plt.subplot(1,3,1)\n",
    "    plt.imshow(data_es_v, cmap=cmap1, vmin=_min, vmax=_max)\n",
    "    plt.colorbar()\n",
    "    if(contour):\n",
    "        plt.contour(data_es_v, colors='k', linewidths=0.5)\n",
    "    plt.title('result_tomoatt')\n",
    "\n",
    "    plt.subplot(1,3,2)\n",
    "    plt.imshow(data_fort_v, cmap=cmap1, vmin=_min, vmax=_max)\n",
    "    plt.colorbar()\n",
    "    if(contour): \n",
    "        plt.contour(data_fort_v, colors='k', linewidths=0.5)\n",
    "    plt.title('result_fort')\n",
    "    \n",
    "    plt.subplot(1,3,3)\n",
    "    plt.imshow(diff_data, cmap=cmap2, vmin=_min_diff, vmax=_max_diff)\n",
    "    plt.colorbar()\n",
    "    if(contour):\n",
    "        plt.contour(diff_data, colors='k', linewidths=0.5) \n",
    "    plt.title('tomoatt-fort')\n",
    "    plt.show()\n"
   ]
  },
  {
   "cell_type": "code",
   "execution_count": null,
   "metadata": {},
   "outputs": [],
   "source": [
    "plot_slice(Ks_tomoatt, Ks_fort, 'p', 28)\n",
    "plot_slice(Ks_tomoatt, Ks_fort, 't', 21)\n",
    "plot_slice(Ks_tomoatt, Ks_fort, 'r', 36)"
   ]
  },
  {
   "cell_type": "code",
   "execution_count": null,
   "metadata": {},
   "outputs": [],
   "source": [
    "plot_slice(Keta_tomoatt, Keta_fort, 'p', 21, contour=False)\n",
    "plot_slice(Keta_tomoatt, Keta_fort, 't', 21, contour=False)\n",
    "plot_slice(Keta_tomoatt, Keta_fort, 'r', 21, contour=False)\n"
   ]
  },
  {
   "cell_type": "code",
   "execution_count": null,
   "metadata": {},
   "outputs": [],
   "source": [
    "plot_slice(Kxi_tomoatt, Kxi_fort, 'p', 21, contour=False)\n",
    "plot_slice(Kxi_tomoatt, Kxi_fort, 't', 21, contour=False)\n",
    "plot_slice(Kxi_tomoatt, Kxi_fort, 'r', 21, contour=False)\n"
   ]
  },
  {
   "cell_type": "code",
   "execution_count": null,
   "metadata": {},
   "outputs": [],
   "source": [
    "plot_slice(Syn_tomoatt, Syn_fort, 'p', 21, contour=False)\n",
    "plot_slice(Syn_tomoatt, Syn_fort, 't', 21, contour=False)\n",
    "plot_slice(Syn_tomoatt, Syn_fort, 'r', 21, contour=False)"
   ]
  },
  {
   "cell_type": "code",
   "execution_count": null,
   "metadata": {},
   "outputs": [],
   "source": [
    "plot_slice(Adj_tomoatt, Adj_fort, 'p', 21, contour=False)\n",
    "plot_slice(Adj_tomoatt, Adj_fort, 't', 21, contour=False)\n",
    "plot_slice(Adj_tomoatt, Adj_fort, 'r', 21, contour=False)"
   ]
  },
  {
   "cell_type": "code",
   "execution_count": null,
   "metadata": {},
   "outputs": [],
   "source": []
  }
 ],
 "metadata": {
  "kernelspec": {
   "display_name": "Python 3.9.1 64-bit ('3.9.1')",
   "language": "python",
   "name": "python3"
  },
  "language_info": {
   "codemirror_mode": {
    "name": "ipython",
    "version": 3
   },
   "file_extension": ".py",
   "mimetype": "text/x-python",
   "name": "python",
   "nbconvert_exporter": "python",
   "pygments_lexer": "ipython3",
   "version": "3.9.1"
  },
  "vscode": {
   "interpreter": {
    "hash": "fbd0b2a7df497f398d93ab2f589d8a5daa3108cfb7ff2b90736653cca3aeadc0"
   }
  }
 },
 "nbformat": 4,
 "nbformat_minor": 2
}
