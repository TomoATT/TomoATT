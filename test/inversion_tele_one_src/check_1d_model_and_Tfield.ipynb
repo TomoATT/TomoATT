{
 "cells": [
  {
   "cell_type": "code",
   "execution_count": null,
   "metadata": {},
   "outputs": [],
   "source": [
    "# plot 1d_model.txt\n",
    "fname_gen='1d_model.txt'\n",
    "fname_ori='1d_ak135.txt'\n",
    "\n",
    "r_earth = 6371.0\n",
    "\n",
    "# read file\n",
    "\n",
    "dep_gen=[]\n",
    "vp_gen=[]\n",
    "\n",
    "with open(fname_gen, 'r') as f:\n",
    "    lines = f.readlines()\n",
    "\n",
    "    for line in lines:\n",
    "        line = line.strip()\n",
    "        if line.startswith('#'):\n",
    "            continue\n",
    "        else:\n",
    "            line = line.split(\",\")\n",
    "            dep_gen.append(r_earth-float(line[0]))\n",
    "            vp_gen.append(float(line[1]))\n",
    "\n",
    "dep_ori=[]\n",
    "vp_ori=[]\n",
    "\n",
    "with open(fname_ori,'r') as f:\n",
    "    lines = f.readlines()\n",
    "\n",
    "    for line in lines:\n",
    "        line = line.strip()\n",
    "        if line.startswith('#'):\n",
    "            continue\n",
    "        else:\n",
    "            line = line.split(\",\")\n",
    "            dep_ori.append(float(line[0]))\n",
    "            vp_ori.append(float(line[1]))\n",
    "\n",
    "\n",
    "# plot dep and vp\n",
    "import matplotlib.pyplot as plt\n",
    "\n",
    "plt.plot(dep_gen, vp_gen, linewidth=10, label=\"1d model in run\")\n",
    "plt.plot(dep_ori, vp_ori, label=\"reference 1d model\")\n",
    "\n",
    "plt.legend()\n",
    "plt.xlabel(\"depth (km)\")\n",
    "plt.ylabel(\"P-wave velocity (km/s)\")"
   ]
  },
  {
   "cell_type": "code",
   "execution_count": null,
   "metadata": {},
   "outputs": [],
   "source": [
    "# read 2D traveltime field and plot\n",
    "import h5py\n",
    "import matplotlib.pyplot as plt\n",
    "\n",
    "fname_Tfield='OUTPUT_FILES/2d_travel_time_field_0.h5'\n",
    "\n",
    "with h5py.File(fname_Tfield, 'r') as f:\n",
    "    T_2d = f['T'][:,:]\n",
    "    t_1d = f['t'][:]\n",
    "    r_1d = f['r'][:]\n",
    "\n",
    "plt.imshow(T_2d, extent=[t_1d[0], t_1d[-1], r_1d[0], r_1d[-1]], aspect='auto')\n",
    "plt.xlabel(\"epicentral distance (rad.)\")\n",
    "plt.ylabel(\"depth (km)\")\n",
    "plt.colorbar()\n",
    "#plt.imshow(T_2d)\n"
   ]
  },
  {
   "cell_type": "code",
   "execution_count": null,
   "metadata": {},
   "outputs": [],
   "source": []
  }
 ],
 "metadata": {
  "kernelspec": {
   "display_name": "Python 3.9.1 64-bit ('3.9.1')",
   "language": "python",
   "name": "python3"
  },
  "language_info": {
   "codemirror_mode": {
    "name": "ipython",
    "version": 3
   },
   "file_extension": ".py",
   "mimetype": "text/x-python",
   "name": "python",
   "nbconvert_exporter": "python",
   "pygments_lexer": "ipython3",
   "version": "3.9.1"
  },
  "vscode": {
   "interpreter": {
    "hash": "fbd0b2a7df497f398d93ab2f589d8a5daa3108cfb7ff2b90736653cca3aeadc0"
   }
  }
 },
 "nbformat": 4,
 "nbformat_minor": 2
}
