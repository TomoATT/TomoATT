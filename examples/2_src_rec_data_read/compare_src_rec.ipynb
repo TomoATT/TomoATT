{
 "cells": [
  {
   "cell_type": "code",
   "execution_count": 1,
   "metadata": {},
   "outputs": [],
   "source": [
    "import math\n",
    "import numpy as np\n",
    "\n",
    "RAD2DEG = 180/math.pi\n",
    "DEG2RAD = math.pi/180\n",
    "R_earth = 6371.0\n",
    "\n",
    "# read src_rec_file (only for abs time)\n",
    "def read_src_rec_file(filename):\n",
    "    doc = open(filename,'r')\n",
    "    doc_input = doc.readlines()\n",
    "    doc.close()\n",
    "\n",
    "    time = []\n",
    "    ev_time = []\n",
    "    cc = 0\n",
    "    for info in doc_input:\n",
    "        tmp=info.split()\n",
    "        if(cc == 0):    # ev info line            \n",
    "            ndata = int(tmp[11])\n",
    "            cc = cc + 1\n",
    "            tmp_ev_time = []\n",
    "        else:\n",
    "            if (len(tmp) < 10):     # abs data\n",
    "                time.append(float(tmp[7]))\n",
    "                tmp_ev_time.append(float(tmp[7]))\n",
    "                if(cc == ndata):\n",
    "                    ev_time.append(tmp_ev_time)\n",
    "                    cc = 0\n",
    "                else:\n",
    "                    cc = cc + 1\n",
    "            else:       # cs_dif or cr_dif\n",
    "                time.append(float(tmp[12]))\n",
    "                tmp_ev_time.append(float(tmp[12]))\n",
    "                if(cc == ndata):\n",
    "                    ev_time.append(tmp_ev_time)\n",
    "                    cc = 0\n",
    "                else:\n",
    "                    cc = cc + 1\n",
    "    return np.array(time),ev_time\n"
   ]
  },
  {
   "cell_type": "code",
   "execution_count": 2,
   "metadata": {},
   "outputs": [],
   "source": [
    "fname = 'src_rec_obs.dat'\n",
    "time_true,ev_time_true = read_src_rec_file(fname)\n",
    "\n",
    "fname = 'OUTPUT_FILES_no_swap_serial/src_rec_file_step_0000.dat'\n",
    "time_no_swap_serial,ev_time_no_swap_serial = read_src_rec_file(fname)\n",
    "\n",
    "fname = 'OUTPUT_FILES_no_swap_parallel/src_rec_file_step_0000.dat'\n",
    "time_no_swap_parallel,ev_time_no_swap_parallel = read_src_rec_file(fname)\n",
    "\n",
    "fname = 'OUTPUT_FILES_swap_serial/src_rec_file_step_0000.dat'\n",
    "time_swap_serial,ev_time_swap_serial = read_src_rec_file(fname)\n",
    "\n",
    "fname = 'OUTPUT_FILES_swap_parallel/src_rec_file_step_0000.dat'\n",
    "time_swap_parallel,ev_time_swap_parallel = read_src_rec_file(fname)\n",
    "\n"
   ]
  },
  {
   "cell_type": "code",
   "execution_count": 12,
   "metadata": {},
   "outputs": [
    {
     "name": "stdout",
     "output_type": "stream",
     "text": [
      "For no_swap_serial,   src_rec.dat read and output are CORRECT! (match coeffient: 0.9986460342912408)\n",
      "For no_swap_parallel, src_rec.dat read and output are CORRECT! (match coeffient: 0.9986460342912408)\n",
      "For swap_serial,      src_rec.dat read and output are CORRECT! (match coeffient: 0.9994013789951578)\n",
      "For swap_parallel,    src_rec.dat read and output are CORRECT! (match coeffient: 0.9994013789951578)\n"
     ]
    }
   ],
   "source": [
    "error_no_swap_serial = ((time_no_swap_serial-time_true))\n",
    "if (error_no_swap_serial.std() < 0.1):\n",
    "    print(\"For no_swap_serial,   src_rec.dat read and output are CORRECT! (match coeffient: %s)\"%(1-abs(error_no_swap_serial.std())))\n",
    "else:\n",
    "    print(\"For no_swap_serial,   output src_rec.dat is not CONSISTENT with the input src_rec.dat, please check the output src_rec file and the code! (match coeffient: %s)\"%(1-abs(error_no_swap_serial.std())))\n",
    "\n",
    "error_no_swap_parallel = ((time_no_swap_parallel-time_true))\n",
    "if (error_no_swap_parallel.std() < 0.1):\n",
    "    print(\"For no_swap_parallel, src_rec.dat read and output are CORRECT! (match coeffient: %s)\"%(1-abs(error_no_swap_parallel.std())))\n",
    "else:\n",
    "    print(\"For no_swap_parallel, output src_rec.dat is not CONSISTENT with the input src_rec.dat, please check the output src_rec file and the code! (match coeffient: %s)\"%(1-abs(error_no_swap_serial.std())))\n",
    "\n",
    "\n",
    "error_swap_serial = ((time_swap_serial-time_true))\n",
    "if (error_swap_serial.std() < 0.1):\n",
    "    print(\"For swap_serial,      src_rec.dat read and output are CORRECT! (match coeffient: %s)\"%(1-abs(error_swap_serial.std())))\n",
    "else:\n",
    "    print(\"For swap_serial,      output src_rec.dat is not CONSISTENT with the input src_rec.dat, please check the output src_rec file and the code! (match coeffient: %s)\"%(1-abs(error_no_swap_serial.std())))\n",
    "\n",
    "error_swap_parallel = ((time_swap_parallel-time_true))\n",
    "if (error_swap_parallel.std() < 0.1):\n",
    "    print(\"For swap_parallel,    src_rec.dat read and output are CORRECT! (match coeffient: %s)\"%(1-abs(error_swap_parallel.std())))\n",
    "else:\n",
    "    print(\"For swap_parallel,    output src_rec.dat is not CONSISTENT with the input src_rec.dat, please check the output src_rec file and the code! (match coeffient: %s)\"%(1-abs(error_no_swap_serial.std())))\n"
   ]
  }
 ],
 "metadata": {
  "kernelspec": {
   "display_name": "Python 3",
   "language": "python",
   "name": "python3"
  },
  "language_info": {
   "codemirror_mode": {
    "name": "ipython",
    "version": 3
   },
   "file_extension": ".py",
   "mimetype": "text/x-python",
   "name": "python",
   "nbconvert_exporter": "python",
   "pygments_lexer": "ipython3",
   "version": "3.10.4"
  },
  "orig_nbformat": 4
 },
 "nbformat": 4,
 "nbformat_minor": 2
}
