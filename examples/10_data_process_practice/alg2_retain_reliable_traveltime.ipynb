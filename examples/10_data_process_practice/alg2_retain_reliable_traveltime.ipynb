{
 "cells": [
  {
   "cell_type": "markdown",
   "metadata": {},
   "source": [
    "该脚本使用线性回归方法，筛选合适的走时数据\n",
    "\n",
    "This script uses the linear regression method to select appropriate traveltime data"
   ]
  },
  {
   "cell_type": "code",
   "execution_count": null,
   "metadata": {},
   "outputs": [],
   "source": [
    "# load functions for data processing\n",
    "%run ../utils/functions_for_data.ipynb"
   ]
  },
  {
   "cell_type": "code",
   "execution_count": null,
   "metadata": {},
   "outputs": [],
   "source": [
    "# 读取数据文件 read .dat file\n",
    "fname = \"output_data/alg1b_src_rec.dat\"\n",
    "[ev_info_obs, st_info_obs] = read_src_rec_file(fname)\n",
    "\n",
    "# 数据分布画图 plot data distribution\n",
    "fig_ev_st_distribution_dep(ev_info_obs, st_info_obs)\n"
   ]
  },
  {
   "cell_type": "code",
   "execution_count": null,
   "metadata": {},
   "outputs": [],
   "source": [
    "# 画出走时数据分布，走时相对于地震台站距离，以及去除异常值 traveltime visualization (traveltime with respect to distance) and discard outliers\n",
    "\n",
    "# selection parameters\n",
    "# retain data satisfying:     slope * dis + intercept + down < time < slope * dis + intercept + up\n",
    "slope = 0.16\n",
    "intercept = 0\n",
    "up = 10\n",
    "down = -10\n",
    "\n",
    "# range of distance from source to receiver 距离范围\n",
    "dis_min = 0 \n",
    "dis_max = 500\n",
    "\n",
    "ev_info_obs = fig_data_plot_remove_outliers(ev_info_obs,st_info_obs,slope,intercept,up,down,dis_min,dis_max)"
   ]
  },
  {
   "cell_type": "code",
   "execution_count": null,
   "metadata": {},
   "outputs": [],
   "source": [
    "# 画出不同震相的走时距离散点图，并做线性回归. plot distance-time scatter of given phases and do linear regression\n",
    "\n",
    "# given phases and colors for plotting\n",
    "phase_list = [\"Pn\",\"P\",\"Pg\",\"Pb\"]\n",
    "color_list = [\"k\",\"b\",\"r\",\"g\"]\n",
    "\n",
    "# range of distance from source to receiver 距离范围\n",
    "dis_min = 0 \n",
    "dis_max = 500\n",
    "\n",
    "# 画图 plot\n",
    "fig_data_plot_phase(ev_info_obs,st_info_obs,phase_list,color_list,dis_min,dis_max)"
   ]
  },
  {
   "cell_type": "code",
   "execution_count": null,
   "metadata": {},
   "outputs": [],
   "source": [
    "# 限制震中距 小于等于 100 km. discard data with distance > 100 km\n",
    "\n",
    "epi_dis1 = 100      # threshold of epicentral distance = 100 km 震中距限制 100 km\n",
    "epi_dis2 = 1000000\n",
    "ev_info_obs = limit_epi_dis(ev_info_obs, st_info_obs, epi_dis1, epi_dis2)\n",
    "\n",
    "\n",
    "# given phases and colors for plotting\n",
    "phase_list = [\"Pn\",\"P\",\"Pg\",\"Pb\"]\n",
    "color_list = [\"k\",\"b\",\"r\",\"g\"]\n",
    "\n",
    "# range of distance from source to receiver 距离范围\n",
    "dis_min = 0 \n",
    "dis_max = 110\n",
    "\n",
    "# 画图 plot\n",
    "fig_data_plot_phase(ev_info_obs,st_info_obs,phase_list,color_list,dis_min,dis_max)"
   ]
  },
  {
   "cell_type": "code",
   "execution_count": null,
   "metadata": {},
   "outputs": [],
   "source": [
    "# 保留指定震相 (P, Pg, Pb). retain given phases (P, Pg, Pb)\n",
    "\n",
    "phase_list = [\"P\",\"Pg\",\"Pb\"]\n",
    "ev_info_obs = limit_data_phase(ev_info_obs,phase_list)\n",
    "\n",
    "# given phases and colors for plotting\n",
    "color_list = [\"b\",\"r\",\"g\"]\n",
    "\n",
    "# range of distance from source to receiver 距离范围\n",
    "dis_min = 0 \n",
    "dis_max = 110\n",
    "\n",
    "# 画图 plot\n",
    "fig_data_plot_phase(ev_info_obs,st_info_obs,phase_list,color_list,dis_min,dis_max)"
   ]
  },
  {
   "cell_type": "code",
   "execution_count": null,
   "metadata": {},
   "outputs": [],
   "source": [
    "# 综合所有数据，做线性回归，保留残差在 3*SEE 之内的 数据. Do linear regression of all data and retain data with residual < 3*SEE\n",
    "\n",
    "[dis_obs,time_obs] = data_dis_time(ev_info_obs,st_info_obs)\n",
    "(slope,intercept,SEE) = linear_regression(dis_obs,time_obs)\n",
    "up      =  3*SEE\n",
    "down    = -3*SEE\n",
    "\n",
    "# range of distance from source to receiver 距离范围\n",
    "dis_min = 0 \n",
    "dis_max = 110\n",
    "\n",
    "ev_info_obs = fig_data_plot_remove_outliers(ev_info_obs,st_info_obs,slope,intercept,up,down,dis_min,dis_max)\n",
    "[dis_obs,time_obs] = data_dis_time(ev_info_obs,st_info_obs)\n",
    "(slope_2,intercept_2,SEE_2) = linear_regression(dis_obs,time_obs)\n",
    "\n",
    "print(\"The (slope,intercept,SEE) of original data is (%6.3f,%6.3f,%6.3f)\",slope,intercept,SEE)\n",
    "print(\"The (slope,intercept,SEE) of filtered data is (%6.3f,%6.3f,%6.3f)\",slope_2,intercept_2,SEE_2)"
   ]
  },
  {
   "cell_type": "code",
   "execution_count": null,
   "metadata": {},
   "outputs": [],
   "source": [
    "# output data 输出数据\n",
    "out_path = \"output_data\"\n",
    "\n",
    "# 保存用于TomoATT反演的数据文件 save data for TomoATT\n",
    "out_fname = \"%s/alg2_src_rec.dat\"%(out_path)\n",
    "write_src_rec_file(out_fname,ev_info_obs,st_info_obs)\n",
    "\n",
    "# 保存用于画图的地震列表文件 save earthquake list for plotting\n",
    "out_fname_ev = \"%s/alg2_ev_list.dat\"%(out_path)\n",
    "write_src_list_file(out_fname_ev,ev_info_obs)\n",
    "\n",
    "# 保存用于画图的台站列表文件 save station list for plotting\n",
    "out_fname_st = \"%s/alg2_st_list.dat\"%(out_path)\n",
    "write_rec_list_file(out_fname_st,ev_info_obs,st_info_obs)"
   ]
  }
 ],
 "metadata": {
  "kernelspec": {
   "display_name": "Python 3",
   "language": "python",
   "name": "python3"
  },
  "language_info": {
   "codemirror_mode": {
    "name": "ipython",
    "version": 3
   },
   "file_extension": ".py",
   "mimetype": "text/x-python",
   "name": "python",
   "nbconvert_exporter": "python",
   "pygments_lexer": "ipython3",
   "version": "3.10.4"
  }
 },
 "nbformat": 4,
 "nbformat_minor": 2
}
