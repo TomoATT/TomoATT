{
 "cells": [
  {
   "cell_type": "markdown",
   "metadata": {},
   "source": [
    "该脚本提供了若干种给地震、台站、数据添加权重的方法\n",
    "\n",
    "This script provides several methods to add weights to earthquake, station and traveltime data"
   ]
  },
  {
   "cell_type": "code",
   "execution_count": 1,
   "metadata": {},
   "outputs": [],
   "source": [
    "# load functions for data processing\n",
    "import sys\n",
    "sys.path.append('../utils')\n",
    "import functions_for_data as ffd"
   ]
  },
  {
   "cell_type": "code",
   "execution_count": null,
   "metadata": {},
   "outputs": [],
   "source": [
    "# 读取数据文件 read .dat file\n",
    "fname = \"output_data/alg3_src_rec.dat\"\n",
    "[ev_info_obs, st_info_obs] = ffd.read_src_rec_file(fname)\n",
    "\n",
    "# 权重分布画图 plot weight distribution\n",
    "ffd.fig_ev_st_distribution_wt(ev_info_obs, st_info_obs)\n"
   ]
  },
  {
   "cell_type": "code",
   "execution_count": null,
   "metadata": {},
   "outputs": [],
   "source": [
    "# 选项1 (推荐)，给地震增加 box weighting. 将区域划分为若干个box，每个box内的台站权重相同，均设置为 1/sqrt(N)，其中 N 是该box内台站总数量。\n",
    "# Option 1 (recommended) , assign box weighting to the earthquake. Divide the region into several boxes, and the station weights in each box are the same, all set to 1/sqrt(N), where N is the total number of stations in the box.\n",
    "\n",
    "# box size is dlon*dlat*ddep (degree, degree, km)\n",
    "dlon = 0.4; dlat = 0.4; ddep = 5\n",
    "ev_info_obs = ffd.box_weighting_ev(ev_info_obs,dlon,dlat,ddep)\n",
    "\n",
    "# 权重分布画图 plot weight distribution\n",
    "ffd.fig_ev_st_distribution_wt(ev_info_obs, st_info_obs)\n"
   ]
  },
  {
   "cell_type": "code",
   "execution_count": 4,
   "metadata": {},
   "outputs": [],
   "source": [
    "# # 选项2，给地震增加 geographical weighting (粗糙版). inspired by [Youyi Ruan et al., 2019, GJI]\n",
    "# # Option 2, assign geographical weighting to the earthquake roughly.\n",
    "\n",
    "# # box size is dlon*dlat*ddep (degree, degree, km)\n",
    "# dlon = 0.2; dlat = 0.2; ddep = 5\n",
    "# ev_info_obs = geographical_weighting_ev_rough(ev_info_obs,dlon,dlat,ddep)\n",
    "\n",
    "# # 权重分布画图 plot weight distribution\n",
    "# fig_ev_st_distribution_wt(ev_info_obs, st_info_obs)\n"
   ]
  },
  {
   "cell_type": "code",
   "execution_count": 5,
   "metadata": {},
   "outputs": [],
   "source": [
    "# # 选项3，不对地震加权，而是对地震做 declustering. 将区域划分为若干个subdomain，按照到时数量排序，每个box内仅保留到时数量最多的若干个的地震，\n",
    "# # option 3, declustering. Divide the region into several subdomains, retain the top N earthquakes in terms of the number of arrival times in each subdomain.\n",
    "\n",
    "# dlon = 0.02; dlat = 0.02; ddep = 1;  # subdomain size (degree, degree, km)\n",
    "# Top_N = 1 # retain the top N earthquakes in each subdomain\n",
    "# ev_info_obs = limit_earthquake_decluster_Nt(ev_info_obs, dlon, dlat, ddep,Top_N)\n",
    "\n",
    "# # 权重分布画图 plot weight distribution\n",
    "# fig_ev_st_distribution_wt(ev_info_obs, st_info_obs)"
   ]
  },
  {
   "cell_type": "code",
   "execution_count": 6,
   "metadata": {},
   "outputs": [],
   "source": [
    "# # 选项4，对台站加权 box_weighting. add box weighting to the stations.\n",
    "# # Option 5 (recommended), add box weighting to the stations\n",
    "\n",
    "# # box size is dlon*dlat*ddep (degree, degree, km)\n",
    "# dlon = 0.2; dlat = 0.2; \n",
    "# (ev_info_obs,st_info_obs) = box_weighting_st(ev_info_obs,st_info_obs,dlon,dlat)\n",
    "\n",
    "# # 权重分布画图 plot weight distribution\n",
    "# fig_ev_st_distribution_wt(ev_info_obs, st_info_obs)"
   ]
  },
  {
   "cell_type": "code",
   "execution_count": null,
   "metadata": {},
   "outputs": [],
   "source": [
    "# 选项5 (推荐)，对台站加权 geographical_weighting.  [Youyi Ruan et al., 2019, GJI]\n",
    "# Option 5 (recommended), add geographical weighting to the stations.\n",
    "\n",
    "(ev_info_obs,st_info_obs) = ffd.geographical_weighting_st(ev_info_obs,st_info_obs)\n",
    "\n",
    "# 权重分布画图 plot weight distribution\n",
    "ffd.fig_ev_st_distribution_wt(ev_info_obs, st_info_obs)"
   ]
  },
  {
   "cell_type": "code",
   "execution_count": null,
   "metadata": {},
   "outputs": [],
   "source": [
    "# output data 输出数据\n",
    "out_path = \"output_data\"\n",
    "\n",
    "# 保存用于TomoATT反演的数据文件 save data for TomoATT\n",
    "out_fname = \"%s/alg4_src_rec.dat\"%(out_path)\n",
    "ffd.write_src_rec_file(out_fname,ev_info_obs,st_info_obs)\n",
    "\n",
    "# 保存用于画图的地震列表文件 save earthquake list for plotting\n",
    "out_fname_ev = \"%s/alg4_ev_list.dat\"%(out_path)\n",
    "ffd.write_src_list_file(out_fname_ev,ev_info_obs)\n",
    "\n",
    "# 保存用于画图的台站列表文件 save station list for plotting\n",
    "out_fname_st = \"%s/alg4_st_list.dat\"%(out_path)\n",
    "ffd.write_rec_list_file(out_fname_st,ev_info_obs,st_info_obs)"
   ]
  }
 ],
 "metadata": {
  "kernelspec": {
   "display_name": "Python 3",
   "language": "python",
   "name": "python3"
  },
  "language_info": {
   "codemirror_mode": {
    "name": "ipython",
    "version": 3
   },
   "file_extension": ".py",
   "mimetype": "text/x-python",
   "name": "python",
   "nbconvert_exporter": "python",
   "pygments_lexer": "ipython3",
   "version": "3.10.4"
  }
 },
 "nbformat": 4,
 "nbformat_minor": 2
}
