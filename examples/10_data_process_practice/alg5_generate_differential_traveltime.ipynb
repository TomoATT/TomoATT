{
 "cells": [
  {
   "cell_type": "markdown",
   "metadata": {},
   "source": [
    "该脚本提供了基于绝对到时数据，生成共源双差数据和共台站双差数据的方法\n",
    "\n",
    "This script aims at generating common source differential traveltime and common receiver differential traveltime based on absolute traveltime "
   ]
  },
  {
   "cell_type": "code",
   "execution_count": 1,
   "metadata": {},
   "outputs": [],
   "source": [
    "# load functions for data processing\n",
    "import sys\n",
    "sys.path.append('../utils')\n",
    "import functions_for_data as ffd"
   ]
  },
  {
   "cell_type": "code",
   "execution_count": null,
   "metadata": {},
   "outputs": [],
   "source": [
    "# 读取数据文件 read .dat file\n",
    "fname = \"output_data/alg4_src_rec.dat\"\n",
    "[ev_info_obs, st_info_obs] = ffd.read_src_rec_file(fname)\n",
    "\n",
    "# 地震分布画图 plot data distribution\n",
    "ffd.fig_ev_st_distribution_dep(ev_info_obs, st_info_obs)"
   ]
  },
  {
   "cell_type": "code",
   "execution_count": null,
   "metadata": {},
   "outputs": [],
   "source": [
    "# generate common source differential traveltime\n",
    "\n",
    "dis_thd = 100 # distance between two stations should be less than 100 km\n",
    "azi_thd = 30  # the angle bwteen two great circle paths from the common source to two separated receivers should be less than 30\n",
    "\n",
    "ev_info = ffd.generate_cs_dif(ev_info_obs,st_info_obs,dis_thd,azi_thd)"
   ]
  },
  {
   "cell_type": "code",
   "execution_count": null,
   "metadata": {},
   "outputs": [],
   "source": [
    "# output data 输出数据\n",
    "out_path = \"output_data\"\n",
    "\n",
    "# 保存用于TomoATT反演的数据文件 save data for TomoATT\n",
    "out_fname = \"%s/alg5_src_rec_Abs_Cs.dat\"%(out_path)\n",
    "ffd.write_src_rec_file(out_fname,ev_info_obs,st_info_obs)\n"
   ]
  },
  {
   "cell_type": "code",
   "execution_count": null,
   "metadata": {},
   "outputs": [],
   "source": [
    "# generate common receiver differential traveltime\n",
    "%run ../utils/functions_for_data.ipynb\n",
    "dis_thd = 3  # distance between two earthquakes should be less than 3 km\n",
    "azi_thd = 5  # the angle bwteen two great circle paths from the common receiver to two separated sources should be less than 5 degree\n",
    "\n",
    "ev_info = ffd.generate_cr_dif(ev_info_obs,st_info_obs,dis_thd,azi_thd)"
   ]
  },
  {
   "cell_type": "code",
   "execution_count": null,
   "metadata": {},
   "outputs": [],
   "source": [
    "# output data 输出数据\n",
    "out_path = \"output_data\"\n",
    "\n",
    "# 保存用于TomoATT反演的数据文件 save data for TomoATT\n",
    "out_fname = \"%s/alg5_src_rec_Abs_Cs_Cr.dat\"%(out_path)\n",
    "ffd.write_src_rec_file(out_fname,ev_info_obs,st_info_obs)"
   ]
  }
 ],
 "metadata": {
  "kernelspec": {
   "display_name": "Python 3",
   "language": "python",
   "name": "python3"
  },
  "language_info": {
   "codemirror_mode": {
    "name": "ipython",
    "version": 3
   },
   "file_extension": ".py",
   "mimetype": "text/x-python",
   "name": "python",
   "nbconvert_exporter": "python",
   "pygments_lexer": "ipython3",
   "version": "3.10.4"
  }
 },
 "nbformat": 4,
 "nbformat_minor": 2
}
