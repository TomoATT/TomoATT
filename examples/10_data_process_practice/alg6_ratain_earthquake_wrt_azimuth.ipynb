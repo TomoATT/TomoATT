{
 "cells": [
  {
   "cell_type": "code",
   "execution_count": 1,
   "metadata": {},
   "outputs": [],
   "source": [
    "# load functions for data processing\n",
    "import sys\n",
    "sys.path.append('../utils')\n",
    "import functions_for_data as ffd"
   ]
  },
  {
   "cell_type": "code",
   "execution_count": null,
   "metadata": {},
   "outputs": [],
   "source": [
    "# 读取数据文件 read .dat file\n",
    "fname = \"output_data/alg2_src_rec.dat\"\n",
    "[ev_info_obs, st_info_obs] = ffd.read_src_rec_file(fname)\n",
    "\n",
    "# 数据分布画图 plot data distribution\n",
    "ffd.fig_ev_st_distribution_dep(ev_info_obs, st_info_obs)"
   ]
  },
  {
   "cell_type": "code",
   "execution_count": null,
   "metadata": {},
   "outputs": [],
   "source": [
    "# 计算所有地震的方位角gap，并删除 gap > 180 度的地震. calculate azimuthal gap for all events and delete events with gap > 180 degrees. \n",
    "# illustration of azimuthal gap for https://www.researchgate.net/publication/284086572_Local_seismic_network_for_monitoring_of_a_potential_nuclear_power_plant_area/figures\n",
    "\n",
    "gap_thd = 180\n",
    "ev_info_obs = ffd.limit_azi_gap(gap_thd, ev_info_obs, st_info_obs)\n",
    "\n",
    "# 数据分布画图 plot data distribution\n",
    "ffd.fig_ev_st_distribution_dep(ev_info_obs, st_info_obs)"
   ]
  },
  {
   "cell_type": "code",
   "execution_count": null,
   "metadata": {},
   "outputs": [],
   "source": [
    "# output data 输出数据\n",
    "out_path = \"output_data\"\n",
    "\n",
    "# 保存用于TomoATT反演的数据文件 save data for TomoATT\n",
    "out_fname = \"%s/alg6_src_rec.dat\"%(out_path)\n",
    "ffd.write_src_rec_file(out_fname,ev_info_obs,st_info_obs)\n",
    "\n",
    "# 保存用于画图的地震列表文件 save earthquake list for plotting\n",
    "out_fname_ev = \"%s/alg6_ev_list.dat\"%(out_path)\n",
    "ffd.write_src_list_file(out_fname_ev,ev_info_obs)\n",
    "\n",
    "# 保存用于画图的台站列表文件 save station list for plotting\n",
    "out_fname_st = \"%s/alg6_st_list.dat\"%(out_path)\n",
    "ffd.write_rec_list_file(out_fname_st,ev_info_obs,st_info_obs)"
   ]
  }
 ],
 "metadata": {
  "kernelspec": {
   "display_name": "Python 3",
   "language": "python",
   "name": "python3"
  },
  "language_info": {
   "codemirror_mode": {
    "name": "ipython",
    "version": 3
   },
   "file_extension": ".py",
   "mimetype": "text/x-python",
   "name": "python",
   "nbconvert_exporter": "python",
   "pygments_lexer": "ipython3",
   "version": "3.10.4"
  }
 },
 "nbformat": 4,
 "nbformat_minor": 2
}
