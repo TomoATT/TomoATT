{
 "cells": [
  {
   "cell_type": "markdown",
   "metadata": {},
   "source": [
    "该脚本用于保留倾斜方形研究区域内的地震和台站，删除超出研究区域的数据。\n",
    "\n",
    "This script aims at retaining the earthquakes and stations within the study region of a oblique box"
   ]
  },
  {
   "cell_type": "code",
   "execution_count": 1,
   "metadata": {},
   "outputs": [],
   "source": [
    "# load functions for data processing\n",
    "import sys\n",
    "sys.path.append('../utils')\n",
    "import functions_for_data as ffd"
   ]
  },
  {
   "cell_type": "code",
   "execution_count": null,
   "metadata": {},
   "outputs": [],
   "source": [
    "# 读取数据文件 read .dat file\n",
    "fname = \"input_data/src_rec_Turkey.dat\"\n",
    "[ev_info_obs, st_info_obs] = ffd.read_src_rec_file(fname)\n",
    "\n",
    "# 数据分布画图 plot data distribution\n",
    "ffd.fig_ev_st_distribution_dep(ev_info_obs, st_info_obs)\n"
   ]
  },
  {
   "cell_type": "code",
   "execution_count": null,
   "metadata": {},
   "outputs": [],
   "source": [
    "# 我们保留区域中心在 37N,37E，倾斜角为45度，纵向[-2,3]，横向[-1.3,1.3]，深度范围在0.5-40公里的地震和台站\n",
    "# we only retain the earthquakes and stations within the target study region: \n",
    "# center of the region: 37N,37E  x-axis: [-1.3,1.3] (degree), y-axis [-2,3] degree, z-axis: 0.5-40 km.\n",
    "\n",
    "central_lat = 37.0\n",
    "central_lon = 37.0\n",
    "rotation_angle = 45.0\n",
    "\n",
    "# 第一步，将地震和台站旋转到指定研究区域，区域坐标为(0,0) \n",
    "# step 1: rotate the source and receiver locations to the new coordinate system. The center of the region is (0,0)\n",
    "[ev_info_obs, st_info_obs] = ffd.rotate_src_rec(ev_info_obs,st_info_obs,central_lat,central_lon,rotation_angle)\n",
    "\n",
    "# 数据分布画图 plot data distribution\n",
    "ffd.fig_ev_st_distribution_dep(ev_info_obs, st_info_obs)"
   ]
  },
  {
   "cell_type": "code",
   "execution_count": null,
   "metadata": {},
   "outputs": [],
   "source": [
    "# 第二步, 我们保留x范围在[-1.3,1.3]度，y范围在[-2,3]度，深度范围在0.5-40公里的地震和台站\n",
    "# we only retain the earthquakes and stations within the study region:  x-axis: [-1.3,1.3] (degree), y-axis [-2,3] degree, z-axis: 0.5-40 km.\n",
    "\n",
    "lat1 = -2.0;    lat2 = 3.0; \n",
    "lon1 = -1.3;    lon2 = 1.3; \n",
    "dep1 =  0.5;    dep2 = 40.0; \n",
    "\n",
    "# 限制地震分布区域 limit earthquake region\n",
    "ev_info_obs = ffd.limit_ev_region(ev_info_obs,lat1,lat2,lon1,lon2,dep1,dep2)\n",
    "\n",
    "# 限制台站分布区域 limit station region\n",
    "ev_info_obs = ffd.limit_st_region(ev_info_obs,st_info_obs,lat1,lat2,lon1,lon2)\n",
    "\n",
    "# 数据分布画图 plot data distribution\n",
    "ffd.fig_ev_st_distribution_dep(ev_info_obs, st_info_obs)"
   ]
  },
  {
   "cell_type": "code",
   "execution_count": null,
   "metadata": {},
   "outputs": [],
   "source": [
    "# 第三步，将地震和台站坐标旋转回来\n",
    "# step 3: rotate the source and receiver locations back to the original coordinate system.\n",
    "[ev_info_obs, st_info_obs] = ffd.rotate_src_rec_reverse(ev_info_obs, st_info_obs,central_lat,central_lon,rotation_angle)\n",
    "\n",
    "ffd.fig_ev_st_distribution_dep(ev_info_obs, st_info_obs)"
   ]
  },
  {
   "cell_type": "code",
   "execution_count": null,
   "metadata": {},
   "outputs": [],
   "source": [
    "# output data 输出数据\n",
    "out_path = \"output_data\"\n",
    "\n",
    "# 保存用于TomoATT反演的数据文件 save data for TomoATT\n",
    "out_fname = \"%s/alg1b_src_rec.dat\"%(out_path)\n",
    "ffd.write_src_rec_file(out_fname,ev_info_obs,st_info_obs)\n",
    "\n",
    "# 保存用于画图的地震列表文件 save earthquake list for plotting\n",
    "out_fname_ev = \"%s/alg1b_ev_list.dat\"%(out_path)\n",
    "ffd.write_src_list_file(out_fname_ev,ev_info_obs)\n",
    "\n",
    "# 保存用于画图的台站列表文件 save station list for plotting\n",
    "out_fname_st = \"%s/alg1b_st_list.dat\"%(out_path)\n",
    "ffd.write_rec_list_file(out_fname_st,ev_info_obs,st_info_obs)\n"
   ]
  }
 ],
 "metadata": {
  "kernelspec": {
   "display_name": "Python 3",
   "language": "python",
   "name": "python3"
  },
  "language_info": {
   "codemirror_mode": {
    "name": "ipython",
    "version": 3
   },
   "file_extension": ".py",
   "mimetype": "text/x-python",
   "name": "python",
   "nbconvert_exporter": "python",
   "pygments_lexer": "ipython3",
   "version": "3.10.4"
  },
  "orig_nbformat": 4,
  "vscode": {
   "interpreter": {
    "hash": "cdd74c396a461f81d13d16403c726c38089d3c42a4b6e59262cdb9511d16556b"
   }
  }
 },
 "nbformat": 4,
 "nbformat_minor": 2
}
