{
 "cells": [
  {
   "cell_type": "markdown",
   "metadata": {},
   "source": [
    "该脚本用于删除到时数量小于指定阈值的地震\n",
    "\n",
    "This script is used to delete earthquakes with the number of arrival times less than a specified threshold"
   ]
  },
  {
   "cell_type": "code",
   "execution_count": 1,
   "metadata": {},
   "outputs": [],
   "source": [
    "# load functions for data processing\n",
    "import sys\n",
    "sys.path.append('../utils')\n",
    "import functions_for_data as ffd"
   ]
  },
  {
   "cell_type": "code",
   "execution_count": null,
   "metadata": {},
   "outputs": [],
   "source": [
    "# 读取数据文件 read .dat file\n",
    "fname = \"output_data/alg2_src_rec.dat\"\n",
    "[ev_info_obs, st_info_obs] = ffd.read_src_rec_file(fname)\n",
    "\n",
    "# 数据分布画图 plot data distribution\n",
    "ffd.fig_ev_st_distribution_dep(ev_info_obs, st_info_obs)"
   ]
  },
  {
   "cell_type": "code",
   "execution_count": null,
   "metadata": {},
   "outputs": [],
   "source": [
    "# 去除到时数量小于5个的地震，所有地震的到时数据均大于等于5个. remove the earthquakes with less than 5 arrival times.\n",
    "min_Nt_thd = 5\n",
    "ev_info_obs = ffd.limit_min_Nt(min_Nt_thd, ev_info_obs)\n",
    "\n",
    "# 数据分布画图 plot data distribution\n",
    "ffd.fig_ev_st_distribution_dep(ev_info_obs, st_info_obs)"
   ]
  },
  {
   "cell_type": "code",
   "execution_count": null,
   "metadata": {},
   "outputs": [],
   "source": [
    "# output data 输出数据\n",
    "out_path = \"output_data\"\n",
    "\n",
    "# 保存用于TomoATT反演的数据文件 save data for TomoATT\n",
    "out_fname = \"%s/alg3_src_rec.dat\"%(out_path)\n",
    "ffd.write_src_rec_file(out_fname,ev_info_obs,st_info_obs)\n",
    "\n",
    "# 保存用于画图的地震列表文件 save earthquake list for plotting\n",
    "out_fname_ev = \"%s/alg3_ev_list.dat\"%(out_path)\n",
    "ffd.write_src_list_file(out_fname_ev,ev_info_obs)\n",
    "\n",
    "# 保存用于画图的台站列表文件 save station list for plotting\n",
    "out_fname_st = \"%s/alg3_st_list.dat\"%(out_path)\n",
    "ffd.write_rec_list_file(out_fname_st,ev_info_obs,st_info_obs)"
   ]
  }
 ],
 "metadata": {
  "kernelspec": {
   "display_name": "Python 3",
   "language": "python",
   "name": "python3"
  },
  "language_info": {
   "codemirror_mode": {
    "name": "ipython",
    "version": 3
   },
   "file_extension": ".py",
   "mimetype": "text/x-python",
   "name": "python",
   "nbconvert_exporter": "python",
   "pygments_lexer": "ipython3",
   "version": "3.10.4"
  }
 },
 "nbformat": 4,
 "nbformat_minor": 2
}
