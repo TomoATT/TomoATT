{
 "cells": [
  {
   "cell_type": "code",
   "execution_count": null,
   "metadata": {},
   "outputs": [],
   "source": [
    "# load functions for data processing\n",
    "import sys\n",
    "sys.path.append('../utils')\n",
    "import functions_for_data as ffd"
   ]
  },
  {
   "cell_type": "code",
   "execution_count": null,
   "metadata": {},
   "outputs": [],
   "source": [
    "# 读取数据文件 read .dat file\n",
    "fname = \"output_data/alg5_src_rec_Abs_Cs.dat\"\n",
    "[ev_info_obs, st_info_obs] = ffd.read_src_rec_file(fname)\n",
    "\n",
    "# 数据分布画图 plot data distribution\n",
    "ffd.fig_ev_st_distribution_dep(ev_info_obs, st_info_obs)"
   ]
  },
  {
   "cell_type": "code",
   "execution_count": null,
   "metadata": {},
   "outputs": [],
   "source": [
    "# 给数据添加高斯噪声，绝对到时增加 G(0,sigma) 高斯噪声，双差数据由绝对到时相减得到\n",
    "# add Gaussian noise to data, add G(0,sigma) noise to absolute arrival time, double-difference data is obtained by subtracting absolute arrival time\n",
    "\n",
    "sigma = 0.5\n",
    "ev_info_obs = ffd.assign_gaussian_noise(ev_info_obs, sigma)\n"
   ]
  },
  {
   "cell_type": "code",
   "execution_count": null,
   "metadata": {},
   "outputs": [],
   "source": [
    "# output data 输出数据\n",
    "out_path = \"output_data\"\n",
    "\n",
    "# 保存用于TomoATT反演的数据文件 save data for TomoATT\n",
    "out_fname = \"%s/alg7_src_rec_noised.dat\"%(out_path)\n",
    "ffd.write_src_rec_file(out_fname,ev_info_obs,st_info_obs)\n",
    "\n",
    "# # 保存用于画图的地震列表文件 save earthquake list for plotting\n",
    "# out_fname_ev = \"%s/alg7_ev_list.dat\"%(out_path)\n",
    "# write_src_list_file(out_fname_ev,ev_info_obs)\n",
    "\n",
    "# # 保存用于画图的台站列表文件 save station list for plotting\n",
    "# out_fname_st = \"%s/alg7_st_list.dat\"%(out_path)\n",
    "# write_rec_list_file(out_fname_st,ev_info_obs,st_info_obs)"
   ]
  },
  {
   "cell_type": "code",
   "execution_count": null,
   "metadata": {},
   "outputs": [],
   "source": [
    "# 画图观察噪声分布 plot the distribution of noise\n",
    "\n",
    "fn_A = \"output_data/alg5_src_rec_Abs_Cs.dat\"\n",
    "fn_B = \"output_data/alg7_src_rec_noised.dat\"\n",
    "range_l = -2\n",
    "range_r = 2\n",
    "Nbar = 30\n",
    "\n",
    "ffd.fig_data_difference_histogram(fn_A,fn_B,range_l,range_r,Nbar)"
   ]
  }
 ],
 "metadata": {
  "kernelspec": {
   "display_name": "Python 3",
   "language": "python",
   "name": "python3"
  },
  "language_info": {
   "codemirror_mode": {
    "name": "ipython",
    "version": 3
   },
   "file_extension": ".py",
   "mimetype": "text/x-python",
   "name": "python",
   "nbconvert_exporter": "python",
   "pygments_lexer": "ipython3",
   "version": "3.10.4"
  }
 },
 "nbformat": 4,
 "nbformat_minor": 2
}
