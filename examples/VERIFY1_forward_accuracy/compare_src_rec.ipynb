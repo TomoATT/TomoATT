{
 "cells": [
  {
   "cell_type": "code",
   "execution_count": 9,
   "metadata": {},
   "outputs": [],
   "source": [
    "import math\n",
    "import numpy as np\n",
    "\n",
    "RAD2DEG = 180/math.pi\n",
    "DEG2RAD = math.pi/180\n",
    "R_earth = 6371.0\n",
    "\n",
    "# read src_rec_file (only for abs time)\n",
    "def read_src_rec_file(filename):\n",
    "    doc = open(filename,'r')\n",
    "    doc_input = doc.readlines()\n",
    "    doc.close()\n",
    "\n",
    "    time = []\n",
    "    ev_time = []\n",
    "    cc = 0\n",
    "    for info in doc_input:\n",
    "        tmp=info.split()\n",
    "        if(cc == 0):    # ev info line\n",
    "            \n",
    "            ndata = int(tmp[11])\n",
    "            cc = cc + 1\n",
    "            tmp_ev_time = []\n",
    "        else:\n",
    "            time.append(float(tmp[7]))\n",
    "            tmp_ev_time.append(float(tmp[7]))\n",
    "            if(cc == ndata):\n",
    "                ev_time.append(tmp_ev_time)\n",
    "                cc = 0\n",
    "            else:\n",
    "                cc = cc + 1\n",
    "    return np.array(time),ev_time\n"
   ]
  },
  {
   "cell_type": "code",
   "execution_count": 10,
   "metadata": {},
   "outputs": [],
   "source": [
    "fname = 'src_rec_true.dat'\n",
    "time_true,ev_time_true = read_src_rec_file(fname)\n",
    "\n",
    "fname = 'OUTPUT_FILES_N41_41_41/src_rec_file_forward.dat'\n",
    "time_N41,ev_time_N41 = read_src_rec_file(fname)\n",
    "\n",
    "fname = 'OUTPUT_FILES_N61_61_61/src_rec_file_forward.dat'\n",
    "time_N61,ev_time_N61 = read_src_rec_file(fname)\n",
    "\n",
    "fname = 'OUTPUT_FILES_N81_81_81/src_rec_file_forward.dat'\n",
    "time_N81,ev_time_N81 = read_src_rec_file(fname)\n",
    "\n",
    "fname = 'OUTPUT_FILES_N121_121_121/src_rec_file_forward.dat'\n",
    "time_N121,ev_time_N121 = read_src_rec_file(fname)\n",
    "\n",
    "fname = 'OUTPUT_FILES_N161_161_161/src_rec_file_forward.dat'\n",
    "time_N161,ev_time_N161 = read_src_rec_file(fname)\n"
   ]
  },
  {
   "cell_type": "code",
   "execution_count": 11,
   "metadata": {},
   "outputs": [
    {
     "name": "stdout",
     "output_type": "stream",
     "text": [
      "The numerical error in a mesh of 41^3 is:  0.124 s (mean),  0.112 s (std),  0.430 (max)\n",
      "The numerical error in a mesh of 61^3 is:  0.086 s (mean),  0.079 s (std),  0.301 (max), order of accuracy is  0.91\n",
      "The numerical error in a mesh of 81^3 is:  0.065 s (mean),  0.060 s (std),  0.234 (max), order of accuracy is  0.95\n",
      "The numerical error in a mesh of 121^3 is:  0.045 s (mean),  0.042 s (std),  0.161 (max), order of accuracy is  0.91\n",
      "The numerical error in a mesh of 161^3 is:  0.034 s (mean),  0.032 s (std),  0.160 (max), order of accuracy is  0.98\n"
     ]
    }
   ],
   "source": [
    "error_N41 = abs((time_N41-time_true))\n",
    "print(\"The numerical error in a mesh of 41^3 is: %6.3f s (mean), %6.3f s (std), %6.3f (max)\"%(error_N41.mean(),error_N41.std(),error_N41.max()))\n",
    "\n",
    "error_N61 = abs((time_N61-time_true))\n",
    "order = math.log(error_N61.mean()/error_N41.mean())/math.log(40/60)\n",
    "print(\"The numerical error in a mesh of 61^3 is: %6.3f s (mean), %6.3f s (std), %6.3f (max), order of accuracy is %5.2f\"%\n",
    "      (error_N61.mean(),error_N61.std(),error_N61.max(),order))\n",
    "\n",
    "error_N81 = abs((time_N81-time_true))\n",
    "order = math.log(error_N81.mean()/error_N61.mean())/math.log(60/80)\n",
    "print(\"The numerical error in a mesh of 81^3 is: %6.3f s (mean), %6.3f s (std), %6.3f (max), order of accuracy is %5.2f\"%\n",
    "      (error_N81.mean(),error_N81.std(),error_N81.max(),order))\n",
    "\n",
    "error_N121 = abs((time_N121-time_true))\n",
    "order = math.log(error_N121.mean()/error_N81.mean())/math.log(80/120)\n",
    "print(\"The numerical error in a mesh of 121^3 is: %6.3f s (mean), %6.3f s (std), %6.3f (max), order of accuracy is %5.2f\"%\n",
    "      (error_N121.mean(),error_N121.std(),error_N121.max(),order))\n",
    "\n",
    "error_N161 = abs((time_N161-time_true))\n",
    "order = math.log(error_N161.mean()/error_N121.mean())/math.log(120/160)\n",
    "print(\"The numerical error in a mesh of 161^3 is: %6.3f s (mean), %6.3f s (std), %6.3f (max), order of accuracy is %5.2f\"%\n",
    "      (error_N161.mean(),error_N161.std(),error_N161.max(),order))\n",
    "\n"
   ]
  },
  {
   "cell_type": "code",
   "execution_count": 12,
   "metadata": {},
   "outputs": [
    {
     "name": "stdout",
     "output_type": "stream",
     "text": [
      "computational complexity is :  -2.659605866681124 -2.8714084060123115 -2.8514944305986063 -2.9189440029916476\n"
     ]
    }
   ],
   "source": [
    "computational_time = [0.9718, 2.8570, 6.5262, 20.7388, 48.0256]\n",
    "order1 = math.log(computational_time[1]/computational_time[0])/math.log(40/60)\n",
    "order2 = math.log(computational_time[2]/computational_time[1])/math.log(60/80)\n",
    "order3 = math.log(computational_time[3]/computational_time[2])/math.log(80/120)\n",
    "order4 = math.log(computational_time[4]/computational_time[3])/math.log(120/160)\n",
    "print(\"computational complexity is : \", order1, order2, order3, order4)"
   ]
  }
 ],
 "metadata": {
  "kernelspec": {
   "display_name": "Python 3",
   "language": "python",
   "name": "python3"
  },
  "language_info": {
   "codemirror_mode": {
    "name": "ipython",
    "version": 3
   },
   "file_extension": ".py",
   "mimetype": "text/x-python",
   "name": "python",
   "nbconvert_exporter": "python",
   "pygments_lexer": "ipython3",
   "version": "3.10.4"
  },
  "orig_nbformat": 4
 },
 "nbformat": 4,
 "nbformat_minor": 2
}
