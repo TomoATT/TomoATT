{
 "cells": [
  {
   "cell_type": "markdown",
   "metadata": {},
   "source": [
    "# Read sensitivity kernel"
   ]
  },
  {
   "cell_type": "code",
   "execution_count": null,
   "metadata": {},
   "outputs": [],
   "source": [
    "from pytomoatt.data import ATTData\n",
    "import numpy as np"
   ]
  },
  {
   "cell_type": "code",
   "execution_count": null,
   "metadata": {},
   "outputs": [],
   "source": [
    "# file to be read\n",
    "input_file = 'OUTPUT_FILES/OUTPUT_FILES_fields/out_data_sim_group_0.h5'\n",
    "# input parameters file\n",
    "par_file = '3_input_params/input_params_inv.yaml'\n",
    "# grid file\n",
    "grid_file = 'OUTPUT_FILES/OUTPUT_FILES_fields/out_data_grid.h5'\n",
    "\n",
    "# read sensitivity kernel\n",
    "group   = \"model\"          # \"src_$src_name\"\n",
    "dataset = \"Ks_inv_0000\"  # \"T_res_inv_$iter\"\n",
    "data = ATTData.read(input_file, par_file, grid_file, group, dataset)\n",
    "data_field = data.to_xarray()\n",
    "\n",
    "# we can access 3D kernel related to slowness\n",
    "tmp = data_field[dataset]\n",
    "print(\"3D slowness kernel shape: \", tmp.shape)\n",
    "\n",
    "# or we can interp it to a 2D slice at depth\n",
    "depth = 0.0\n",
    "tmp = data_field.interp_dep(depth, field=dataset)\n",
    "lon   = tmp[:,0]\n",
    "lat   = tmp[:,1]\n",
    "Ks    = tmp[:,2]\n",
    "\n",
    "# Similarly, we do the same process for kernels related to xi and eta\n",
    "dataset = \"Kxi_inv_0000\"\n",
    "data = ATTData.read(input_file, par_file, grid_file, group, dataset)\n",
    "data_field = data.to_xarray()\n",
    "Kxi = data_field.interp_dep(depth, field=dataset)[:,2]\n",
    "\n",
    "dataset = \"Keta_inv_0000\"\n",
    "data = ATTData.read(input_file, par_file, grid_file, group, dataset)\n",
    "data_field = data.to_xarray()\n",
    "Keta = data_field.interp_dep(depth, field=dataset)[:,2]"
   ]
  },
  {
   "cell_type": "code",
   "execution_count": null,
   "metadata": {},
   "outputs": [],
   "source": [
    "import sys\n",
    "sys.path.append('../utils')\n",
    "from functions_for_plot import plot_map\n",
    "\n",
    "dx = 0.01; dy = 0.01\n",
    "\n",
    "fname = 'img/4a_kernel_s.png'\n",
    "fig = plot_map(lon,lat,Ks,dx,dy,\n",
    "            fname = fname, \n",
    "            x_label = \"Longtitude\",\n",
    "            y_label = \"Latitude\",\n",
    "            colorbar = \"Ks\",\n",
    "            cpt_range = [-0.02, 0.02],)\n",
    "\n",
    "fname = 'img/4b_kernel_xi.png'\n",
    "fig = plot_map(lon,lat,Kxi,dx,dy,\n",
    "            fname = fname, \n",
    "            x_label = \"Longtitude\",\n",
    "            y_label = \"Latitude\",\n",
    "            colorbar = \"Kxi\",\n",
    "            cpt_range = [-0.02, 0.02],)\n",
    "\n",
    "fname = 'img/4c_kernel_eta.png'\n",
    "fig = plot_map(lon,lat,Keta,dx,dy,\n",
    "            fname = fname, \n",
    "            x_label = \"Longtitude\",\n",
    "            y_label = \"Latitude\",\n",
    "            colorbar = \"Keta\",\n",
    "            cpt_range = [-0.02, 0.02],)"
   ]
  },
  {
   "cell_type": "code",
   "execution_count": null,
   "metadata": {},
   "outputs": [],
   "source": [
    "dataset = \"Ks_over_Kden_inv_0000\"\n",
    "data = ATTData.read(input_file, par_file, grid_file, group, dataset)\n",
    "data_field = data.to_xarray()\n",
    "Ks_over_Kden = data_field.interp_dep(depth, field=dataset)[:,2]\n",
    "\n",
    "dataset = \"Kxi_over_Kden_inv_0000\"\n",
    "data = ATTData.read(input_file, par_file, grid_file, group, dataset)\n",
    "data_field = data.to_xarray()\n",
    "Kxi_over_Kden = data_field.interp_dep(depth, field=dataset)[:,2]\n",
    "\n",
    "dataset = \"Keta_over_Kden_inv_0000\"\n",
    "data = ATTData.read(input_file, par_file, grid_file, group, dataset)\n",
    "data_field = data.to_xarray()\n",
    "Keta_over_Kden = data_field.interp_dep(depth, field=dataset)[:,2]"
   ]
  },
  {
   "cell_type": "code",
   "execution_count": null,
   "metadata": {},
   "outputs": [],
   "source": [
    "fname = 'img/4d_kernel_over_den_s.png'\n",
    "fig = plot_map(lon,lat,Ks_over_Kden,dx,dy,\n",
    "            fname = fname, \n",
    "            x_label = \"Longtitude\",\n",
    "            y_label = \"Latitude\",\n",
    "            colorbar = \"Ks_mg\",\n",
    "            cpt_range = [-0.02, 0.02],)\n",
    "\n",
    "fname = 'img/4e_kernel_over_den_xi.png'\n",
    "fig = plot_map(lon,lat,Kxi_over_Kden,dx,dy,\n",
    "            fname = fname, \n",
    "            x_label = \"Longtitude\",\n",
    "            y_label = \"Latitude\",\n",
    "            colorbar = \"Kxi_mg\",\n",
    "            cpt_range = [-0.02, 0.02],)\n",
    "\n",
    "fname = 'img/4f_kernel_over_den_eta.png'\n",
    "fig = plot_map(lon,lat,Keta_over_Kden,dx,dy,\n",
    "            fname = fname, \n",
    "            x_label = \"Longtitude\",\n",
    "            y_label = \"Latitude\",\n",
    "            colorbar = \"Keta_mg\",\n",
    "            cpt_range = [-0.02, 0.02],)"
   ]
  },
  {
   "cell_type": "markdown",
   "metadata": {},
   "source": [
    "# read and plot kernel smoothed by multiple-grid parameterization\n",
    "\n",
    "Update of slowness, xi, and eta can be regarded as the rescaled sensitivity kernel of slowness, xi, and eta smoothed by inversion grid parameterizartion."
   ]
  },
  {
   "cell_type": "code",
   "execution_count": null,
   "metadata": {},
   "outputs": [],
   "source": [
    "dataset = \"Ks_update_inv_0000\"\n",
    "data = ATTData.read(input_file, par_file, grid_file, group, dataset)\n",
    "data_field = data.to_xarray()\n",
    "Ks_mg = data_field.interp_dep(depth, field=dataset)[:,2]\n",
    "\n",
    "dataset = \"Kxi_update_inv_0000\"\n",
    "data = ATTData.read(input_file, par_file, grid_file, group, dataset)\n",
    "data_field = data.to_xarray()\n",
    "Kxi_mg = data_field.interp_dep(depth, field=dataset)[:,2]\n",
    "\n",
    "dataset = \"Keta_update_inv_0000\"\n",
    "data = ATTData.read(input_file, par_file, grid_file, group, dataset)\n",
    "data_field = data.to_xarray()\n",
    "Keta_mg = data_field.interp_dep(depth, field=dataset)[:,2]"
   ]
  },
  {
   "cell_type": "code",
   "execution_count": null,
   "metadata": {},
   "outputs": [],
   "source": [
    "fname = 'img/4g_kernel_mg_s.png'\n",
    "fig = plot_map(lon,lat,Ks_mg,dx,dy,\n",
    "            fname = fname, \n",
    "            x_label = \"Longtitude\",\n",
    "            y_label = \"Latitude\",\n",
    "            colorbar = \"Ks_mg\",\n",
    "            cpt_range = [-1, 1],)\n",
    "\n",
    "fname = 'img/4h_kernel_mg_xi.png'\n",
    "fig = plot_map(lon,lat,Kxi_mg,dx,dy,\n",
    "            fname = fname, \n",
    "            x_label = \"Longtitude\",\n",
    "            y_label = \"Latitude\",\n",
    "            colorbar = \"Kxi_mg\",\n",
    "            cpt_range = [-1, 1],)\n",
    "\n",
    "fname = 'img/4i_kernel_mg_eta.png'\n",
    "fig = plot_map(lon,lat,Keta_mg,dx,dy,\n",
    "            fname = fname, \n",
    "            x_label = \"Longtitude\",\n",
    "            y_label = \"Latitude\",\n",
    "            colorbar = \"Keta_mg\",\n",
    "            cpt_range = [-1, 1],)"
   ]
  }
 ],
 "metadata": {
  "kernelspec": {
   "display_name": "Python 3",
   "language": "python",
   "name": "python3"
  },
  "language_info": {
   "codemirror_mode": {
    "name": "ipython",
    "version": 3
   },
   "file_extension": ".py",
   "mimetype": "text/x-python",
   "name": "python",
   "nbconvert_exporter": "python",
   "pygments_lexer": "ipython3",
   "version": "3.10.4"
  }
 },
 "nbformat": 4,
 "nbformat_minor": 2
}
