{
 "cells": [
  {
   "attachments": {},
   "cell_type": "markdown",
   "metadata": {},
   "source": [
    "# notebook for create init and true test model"
   ]
  },
  {
   "cell_type": "code",
   "execution_count": null,
   "metadata": {},
   "outputs": [],
   "source": [
    "import numpy as np\n",
    "import math\n",
    "import os\n",
    "\n",
    "# study region\n",
    "R_earth = 6371.0\n",
    "\n",
    "r_min = R_earth - 0.3  # 0.3 km below the surface   (radial coordinate)\n",
    "r_max = R_earth + 0.3  # 0.3 km above the surface   (radial coordinate)\n",
    "t_min = 0.0          # 0 degrees latitude\n",
    "t_max = 1.0          # 1 degrees latitude\n",
    "p_min = 0.0          # 0 degrees longitude\n",
    "p_max = 1.0          # 1 degrees longitude\n",
    "\n",
    "# number of points in the radial, latitudinal, and longitudinal directions\n",
    "n_rtp = [7,201,201]\n",
    "\n",
    "try:\n",
    "    os.mkdir(\"2_models\")\n",
    "except:\n",
    "    print(\"dir models exists\")\n"
   ]
  },
  {
   "cell_type": "code",
   "execution_count": 2,
   "metadata": {},
   "outputs": [],
   "source": [
    "# build the initial model\n",
    "import h5py\n",
    "\n",
    "dr = (r_max - r_min)/(n_rtp[0]-1)\n",
    "dt = (t_max - t_min)/(n_rtp[1]-1)\n",
    "dp = (p_max - p_min)/(n_rtp[2]-1)\n",
    "rr = np.array([r_min + x*dr for x in range(n_rtp[0])])\n",
    "tt = np.array([t_min + x*dt for x in range(n_rtp[1])])\n",
    "pp = np.array([p_min + x*dp for x in range(n_rtp[2])])\n",
    "\n",
    "vel_init    = np.zeros(n_rtp)   # velocity\n",
    "xi_init     = np.zeros(n_rtp)   # xi and eta are azimuthal anisotropy\n",
    "eta_init    = np.zeros(n_rtp)\n",
    "zeta_init   = np.zeros(n_rtp)\n",
    "\n",
    "\n",
    "for ir in range(n_rtp[0]):\n",
    "    for it in range(n_rtp[1]):\n",
    "        for ip in range(n_rtp[2]):\n",
    "\n",
    "            dep = R_earth - rr[ir]\n",
    "            vel_init[ir,it,ip]  = 5.0\n",
    "            \n",
    "            xi_init[ir,it,ip]   = 0.0\n",
    "            eta_init[ir,it,ip]  = 0.0\n",
    "            zeta_init[ir,it,ip] = 0.0\n",
    "\n",
    "\n",
    "# write out in hdf5 format\n",
    "\n",
    "with h5py.File('2_models/model_init_N{:d}_{:d}_{:d}.h5'.format(*n_rtp), 'w') as fout_init:\n",
    "# write out the arrays eta_init, xi_init, zeta_init, fun_init, a_init, b_init, c_init, f_init\n",
    "    fout_init.create_dataset('eta', data=eta_init)\n",
    "    fout_init.create_dataset('xi', data=xi_init)\n",
    "    fout_init.create_dataset('zeta', data=zeta_init)\n",
    "    fout_init.create_dataset('vel', data=vel_init)\n"
   ]
  }
 ],
 "metadata": {
  "kernelspec": {
   "display_name": "Python 3",
   "language": "python",
   "name": "python3"
  },
  "language_info": {
   "codemirror_mode": {
    "name": "ipython",
    "version": 3
   },
   "file_extension": ".py",
   "mimetype": "text/x-python",
   "name": "python",
   "nbconvert_exporter": "python",
   "pygments_lexer": "ipython3",
   "version": "3.10.4"
  },
  "orig_nbformat": 4,
  "vscode": {
   "interpreter": {
    "hash": "c8112a80bcc57e66f52aa6c921b20667122cfa5e8b1ad09e9dfbd3a3ba336bd6"
   }
  }
 },
 "nbformat": 4,
 "nbformat_minor": 2
}
