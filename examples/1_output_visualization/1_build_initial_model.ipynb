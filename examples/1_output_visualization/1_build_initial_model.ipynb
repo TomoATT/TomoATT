{
 "cells": [
  {
   "attachments": {},
   "cell_type": "markdown",
   "metadata": {},
   "source": [
    "# notebook for create init and true test model"
   ]
  },
  {
   "cell_type": "code",
   "execution_count": 1,
   "metadata": {},
   "outputs": [
    {
     "name": "stdout",
     "output_type": "stream",
     "text": [
      "dir models exists\n"
     ]
    }
   ],
   "source": [
    "import numpy as np\n",
    "import os\n",
    "import h5py\n",
    "from pytomoatt.para import ATTPara\n",
    "\n",
    "\n",
    "class BuildInitialModel():\n",
    "    def __init__(self, par_file=\"./3_input_params/0_input_params_forward_simulation.yaml\", output_dir=\"2_models\"):\n",
    "        \"\"\"\n",
    "        Build initial model for tomography inversion\n",
    "        \"\"\"\n",
    "        self.ip = ATTPara(par_file)\n",
    "        self.dep, self.lat, self.lon, self.dd, self.dt, self.dp = self.ip.init_axis()\n",
    "        self.output_dir = output_dir\n",
    "\n",
    "    def build_initial_model(self):\n",
    "        \"\"\"\n",
    "        Build initial model for tomography inversion\n",
    "        \"\"\"\n",
    "        n_rtp = self.ip.input_params['domain']['n_rtp']\n",
    "        self.vel_init    = np.zeros(n_rtp)   # velocity\n",
    "        self.xi_init     = np.zeros(n_rtp)   # xi and eta are azimuthal anisotropy\n",
    "        self.eta_init    = np.zeros(n_rtp)\n",
    "        self.zeta_init   = np.zeros(n_rtp)   # zeta is radial anisotropy\n",
    "\n",
    "        for ir in range(n_rtp[0]):\n",
    "            for it in range(n_rtp[1]):\n",
    "                for ip in range(n_rtp[2]):\n",
    "                    dep = self.dep[ir]\n",
    "                    if (dep < 0):\n",
    "                        self.vel_init[ir,it,ip]  = 6.0\n",
    "                    elif (dep >= 0  and dep < 40):\n",
    "                        self.vel_init[ir,it,ip]  = 6.0 + dep/40*2.0\n",
    "                    else:\n",
    "                        self.vel_init[ir,it,ip]  = 8.0\n",
    "\n",
    "                    self.xi_init[ir,it,ip]   = 0.0\n",
    "                    self.eta_init[ir,it,ip]  = 0.0\n",
    "                    self.zeta_init[ir,it,ip] = 0.0\n",
    "\n",
    "\n",
    "    def write(self):\n",
    "        \"\"\"\n",
    "        write out in hdf5 format\n",
    "        \"\"\"\n",
    "        os.makedirs(self.output_dir, exist_ok=True)\n",
    "        with h5py.File('{}/model_init_N{:d}_{:d}_{:d}.h5'.format(self.output_dir, *self.ip.input_params['domain']['n_rtp']), 'w') as fout_init:\n",
    "        # write out the arrays eta_init, xi_init, zeta_init, fun_init, a_init, b_init, c_init, f_init\n",
    "            fout_init.create_dataset('eta', data=self.eta_init)\n",
    "            fout_init.create_dataset('xi', data=self.xi_init)\n",
    "            fout_init.create_dataset('zeta', data=self.zeta_init)\n",
    "            fout_init.create_dataset('vel', data=self.vel_init)\n",
    "\n",
    "\n",
    "\n",
    "if __name__ == \"__main__\":\n",
    "    bim = BuildInitialModel()\n",
    "    bim.build_initial_model()\n",
    "    bim.write()\n"
   ]
  }
 ],
 "metadata": {
  "kernelspec": {
   "display_name": "Python 3",
   "language": "python",
   "name": "python3"
  },
  "language_info": {
   "codemirror_mode": {
    "name": "ipython",
    "version": 3
   },
   "file_extension": ".py",
   "mimetype": "text/x-python",
   "name": "python",
   "nbconvert_exporter": "python",
   "pygments_lexer": "ipython3",
   "version": "3.10.4"
  },
  "orig_nbformat": 4,
  "vscode": {
   "interpreter": {
    "hash": "c8112a80bcc57e66f52aa6c921b20667122cfa5e8b1ad09e9dfbd3a3ba336bd6"
   }
  }
 },
 "nbformat": 4,
 "nbformat_minor": 2
}
