{
 "cells": [
  {
   "cell_type": "markdown",
   "metadata": {},
   "source": [
    "# Read checkerboard model and plot velocity and azimuthal anisotropy in horizontal section"
   ]
  },
  {
   "cell_type": "code",
   "execution_count": null,
   "metadata": {},
   "outputs": [],
   "source": [
    "from pytomoatt.model import ATTModel\n",
    "import numpy as np\n",
    "# initial model hdf5 file\n",
    "init_model_file = '2_models/model_init_N7_201_201.h5'\n",
    "# checkerboard model hdf5 file\n",
    "ckb_model_file = '2_models/model_ckb_N7_201_201.h5'\n",
    "# input parameters file\n",
    "par_file = '3_input_params/input_params_inv.yaml'\n",
    "\n",
    "# read model file by pytomoatt\n",
    "model = ATTModel.read(init_model_file, par_file)\n",
    "init_model = model.to_xarray()\n",
    "\n",
    "model = ATTModel.read(ckb_model_file, par_file)\n",
    "ckb_model = model.to_xarray()\n",
    "\n",
    "\n",
    "\n",
    "# we can access the velocity at arbitrary depth\n",
    "depth = 0.0\n",
    "tmp = ckb_model.interp_dep(depth, field='vel')\n",
    "lon = tmp[:,0]\n",
    "lat = tmp[:,1]\n",
    "vel_ckb = tmp[:,2]\n",
    "vel_init = init_model.interp_dep(depth, field='vel')[:,2]\n",
    "vel_pert = (vel_ckb - vel_init)/vel_init * 100.0\n",
    "\n",
    "# similarly, anisotropic parameters xi and eta\n",
    "xi_ckb  = ckb_model.interp_dep(depth, field='xi')[:,2]\n",
    "eta_ckb = ckb_model.interp_dep(depth, field='eta')[:,2]\n",
    "\n",
    "# magnitude and direction of anisotropy\n",
    "tmp     = ckb_model.interp_dep(depth, field='phi', samp_interval=20) # fast velocity direction, samp_interval is the sampling one point every 20 points in each axis\n",
    "ani_lon = tmp[:,0]\n",
    "ani_lat = tmp[:,1]\n",
    "ani_phi = tmp[:,2]\n",
    "ani_epsilon = ckb_model.interp_dep(depth, field='epsilon', samp_interval=20)[:,2]\n",
    "\n",
    "epsilon = ckb_model.interp_dep(depth, field='epsilon')[:,2]"
   ]
  },
  {
   "cell_type": "markdown",
   "metadata": {},
   "source": [
    "# Pygmt plot velocity perturbation related to initial model, xi, eta, fast velocity directions"
   ]
  },
  {
   "cell_type": "code",
   "execution_count": null,
   "metadata": {},
   "outputs": [],
   "source": [
    "# pygmt plot\n",
    "import pygmt\n",
    "pygmt.config(FONT=\"16p\", IO_SEGMENT_MARKER=\"<<<\")\n",
    "\n",
    "region = [0,1,0,1]\n",
    "projection = \"X10c/10c\"\n",
    "frame = [\"xa0.5+lLongitude\", \"ya0.5+lLatitude\", \"nSWe\"]\n",
    "\n",
    "fig = pygmt.Figure()\n",
    "\n",
    "# ----------- plot velocity model ------------\n",
    "pygmt.makecpt(cmap=\"seis\", series=[-5, 5], background=True, reverse=False)\n",
    "grid = pygmt.xyz2grd(x=longitude, y=latitude, z=vel_pert, spacing=0.005,region=region,)\n",
    "fig.grdimage(frame=frame,grid = grid,projection=projection, region=region) # nan_transparent may work\n",
    "\n",
    "fig.shift_origin(xshift= 1, yshift=-2)\n",
    "fig.colorbar(frame = [\"a%f\"%(5),\"y+ldlnVp (%)\"], position=\"+w4c/0.3c+h\") # +e,默认是双箭头，f表示forward，b表示background ，w表示长宽，h表示水平\n",
    "fig.shift_origin(xshift=-1, yshift=+2)\n",
    "\n",
    "# ----------- plot xi model ------------\n",
    "fig.shift_origin(xshift= 12)\n",
    "pygmt.makecpt(cmap=\"seis\", series=[-0.05, 0.05], background=True, reverse=False)\n",
    "grid = pygmt.xyz2grd(x=longitude, y=latitude, z=xi_ckb, spacing=0.005,region=region,)\n",
    "fig.grdimage(frame=frame,grid = grid,projection=projection, region=region) # nan_transparent may work\n",
    "\n",
    "fig.shift_origin(xshift= 1, yshift=-2)\n",
    "fig.colorbar(frame = [\"a%f\"%(0.05),\"y+lXi\"], position=\"+w4c/0.3c+h\") # +e,默认是双箭头，f表示forward，b表示background ，w表示长宽，h表示水平\n",
    "fig.shift_origin(xshift=-1, yshift=+2)\n",
    "\n",
    "# ----------- plot eta model ------------\n",
    "fig.shift_origin(xshift= -12, yshift=-14)\n",
    "pygmt.makecpt(cmap=\"seis\", series=[-0.05, 0.05], background=True, reverse=False)\n",
    "grid = pygmt.xyz2grd(x=longitude, y=latitude, z=eta_ckb, spacing=0.005,region=region,)\n",
    "fig.grdimage(frame=frame,grid = grid,projection=projection, region=region) # nan_transparent may work\n",
    "\n",
    "fig.shift_origin(xshift= 1, yshift=-2)\n",
    "fig.colorbar(frame = [\"a%f\"%(0.05),\"y+lEta\"], position=\"+w4c/0.3c+h\") # +e,默认是双箭头，f表示forward，b表示background ，w表示长宽，h表示水平\n",
    "fig.shift_origin(xshift=-1, yshift=+2)\n",
    "\n",
    "# ----------- plot fast velocity direction ------------\n",
    "fig.shift_origin(xshift= 12)\n",
    "pygmt.makecpt(cmap=\"cool\", series=[0, 0.07], background=True)\n",
    "grid = pygmt.xyz2grd(x=longitude, y=latitude, z=epsilon, spacing=0.005,region=region,)\n",
    "fig.grdimage(frame=frame,grid = grid,projection=projection, region=region) # nan_transparent may work\n",
    "\n",
    "ani = np.hstack([ani_lon[:,None], ani_lat[:,None], ani_phi[:,None], ani_epsilon[:,None]*20, np.ones((ani_phi.shape[0],1))*0.1])\n",
    "fig = plot_map(lon,lat,epsilon,dx,dy,\n",
    "            anisotropy = ani,\n",
    "            fname = fname, \n",
    "            axis_label = [\"Longtitude\",\"Latitude\"],\n",
    "            colorbar = \"epsilon\",\n",
    "            cmap = \"cool\",\n",
    "            cpt_range = [0,0.05],)"
   ]
  }
 ],
 "metadata": {
  "kernelspec": {
   "display_name": "Python 3",
   "language": "python",
   "name": "python3"
  },
  "language_info": {
   "codemirror_mode": {
    "name": "ipython",
    "version": 3
   },
   "file_extension": ".py",
   "mimetype": "text/x-python",
   "name": "python",
   "nbconvert_exporter": "python",
   "pygments_lexer": "ipython3",
   "version": "3.12.4"
  }
 },
 "nbformat": 4,
 "nbformat_minor": 2
}
