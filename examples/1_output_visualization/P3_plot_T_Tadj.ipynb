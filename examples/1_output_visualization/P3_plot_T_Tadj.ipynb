{
 "cells": [
  {
   "cell_type": "markdown",
   "metadata": {},
   "source": [
    "# Read traveltime field and adjoint field."
   ]
  },
  {
   "cell_type": "code",
   "execution_count": null,
   "metadata": {},
   "outputs": [],
   "source": [
    "from pytomoatt.data import ATTData\n",
    "import numpy as np"
   ]
  },
  {
   "cell_type": "code",
   "execution_count": null,
   "metadata": {},
   "outputs": [],
   "source": [
    "# file to be read\n",
    "input_file = 'OUTPUT_FILES/OUTPUT_FILES_fields/out_data_sim_group_1.h5'\n",
    "# input parameters file\n",
    "par_file = '3_input_params/input_params_inv.yaml'\n",
    "# grid file\n",
    "grid_file = 'OUTPUT_FILES/OUTPUT_FILES_fields/out_data_grid.h5'\n",
    "\n",
    "# read traveltime field\n",
    "group   = \"src_s1\"          # \"src_$src_name\"\n",
    "dataset = \"T_res_inv_0000\"  # \"T_res_inv_$iter\"\n",
    "data = ATTData.read(input_file, par_file, grid_file, group, dataset)\n",
    "time_field = data.to_xarray()\n",
    "\n",
    "# we can access 3D time field data by\n",
    "time_field_data = time_field[dataset]\n",
    "print(\"3D time field array shape: \", time_field_data.shape)\n",
    "\n",
    "# or we can interp it to a 2D slice at depth\n",
    "depth = 0.0\n",
    "tmp = time_field.interp_dep(depth, field=dataset)\n",
    "lon   = tmp[:,0]\n",
    "lat   = tmp[:,1]\n",
    "time  = tmp[:,2]\n",
    "\n",
    "# Similarly, we can do the same for adjoint field\n",
    "dataset = \"adjoint_field_inv_0000\"  # \"adjoint_field_inv_$iter\"\n",
    "data = ATTData.read(input_file, par_file, grid_file, group, dataset)\n",
    "adjoint_field = data.to_xarray()\n",
    "\n",
    "# we can access 3D adjoint field data by\n",
    "adjoint_field_data = adjoint_field[dataset]\n",
    "\n",
    "# or we can interp it to a 2D slice at depth\n",
    "depth = 0.0\n",
    "adjoint = adjoint_field.interp_dep(depth, field=dataset)[:,2]"
   ]
  },
  {
   "cell_type": "markdown",
   "metadata": {},
   "source": [
    "# Pygmt plot time field and adjoint field"
   ]
  },
  {
   "cell_type": "code",
   "execution_count": null,
   "metadata": {},
   "outputs": [],
   "source": [
    "import sys\n",
    "sys.path.append('../utils')\n",
    "from functions_for_plot import plot_map\n",
    "\n",
    "dx = 0.01; dy = 0.01\n",
    "\n",
    "fname = 'img/3a_traveltime.png'\n",
    "fig = plot_map(lon,lat,time,dx,dy,\n",
    "            fname = fname, \n",
    "            contour = True,\n",
    "            levels = 5,\n",
    "            x_label = \"Longtitude\",\n",
    "            y_label = \"Latitude\",\n",
    "            colorbar = \"Traveltime (s)\",\n",
    "            cpt_range = [0,25],)\n",
    "\n",
    "fname = 'img/3b_adjoint.png'\n",
    "fig = plot_map(lon,lat,adjoint,dx,dy,\n",
    "            fname = fname, \n",
    "            x_label = \"Longtitude\",\n",
    "            y_label = \"Latitude\",\n",
    "            colorbar = \"Adjoint field\",\n",
    "            cpt_range = [-0.3,0.3],)"
   ]
  }
 ],
 "metadata": {
  "kernelspec": {
   "display_name": "Python 3",
   "language": "python",
   "name": "python3"
  },
  "language_info": {
   "codemirror_mode": {
    "name": "ipython",
    "version": 3
   },
   "file_extension": ".py",
   "mimetype": "text/x-python",
   "name": "python",
   "nbconvert_exporter": "python",
   "pygments_lexer": "ipython3",
   "version": "3.10.4"
  }
 },
 "nbformat": 4,
 "nbformat_minor": 2
}
