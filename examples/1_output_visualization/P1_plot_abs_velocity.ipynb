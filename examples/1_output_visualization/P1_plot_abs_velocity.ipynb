{
 "cells": [
  {
   "cell_type": "markdown",
   "metadata": {},
   "source": [
    "# Read initial model and plot velocity in horizontal section"
   ]
  },
  {
   "cell_type": "code",
   "execution_count": null,
   "metadata": {},
   "outputs": [],
   "source": [
    "from pytomoatt.model import ATTModel\n",
    "import numpy as np\n",
    "# initial model hdf5 file\n",
    "initial_model_file = '2_models/model_init_N7_201_201.h5'\n",
    "# input parameters file\n",
    "par_file = '3_input_params/input_params_inv.yaml'\n",
    "\n",
    "# read model file by pytomoatt\n",
    "model = ATTModel.read(initial_model_file, par_file)\n",
    "initial_model = model.to_xarray()\n",
    "\n",
    "# we can access the velocity at arbitrary depth\n",
    "depth = 0.0\n",
    "tmp = initial_model.interp_dep(depth, field='vel')\n",
    "print(\"The shape of initial model array is \", tmp.shape)\n",
    "lon = tmp[:,0]\n",
    "lat = tmp[:,1]\n",
    "vel = tmp[:,2]"
   ]
  },
  {
   "cell_type": "markdown",
   "metadata": {},
   "source": [
    "# Pygmt plot"
   ]
  },
  {
   "cell_type": "code",
   "execution_count": null,
   "metadata": {},
   "outputs": [],
   "source": [
    "# pygmt plot\n",
    "import pygmt\n",
    "pygmt.config(FONT=\"16p\", IO_SEGMENT_MARKER=\"<<<\")\n",
    "\n",
    "fname = 'img/1a_initial_model.png'\n",
    "fig = plot_map(lon,lat,vel,0.01,0.01,\n",
    "            fname = fname, \n",
    "            x_label = \"Longtitude\",\n",
    "            y_label = \"Latitude\",\n",
    "            colorbar = \"Vp (km/s)\", \n",
    "            cpt_range = [4.75,5.25])"
   ]
  }
 ],
 "metadata": {
  "kernelspec": {
   "display_name": "Python 3",
   "language": "python",
   "name": "python3"
  },
  "language_info": {
   "codemirror_mode": {
    "name": "ipython",
    "version": 3
   },
   "file_extension": ".py",
   "mimetype": "text/x-python",
   "name": "python",
   "nbconvert_exporter": "python",
   "pygments_lexer": "ipython3",
   "version": "3.12.4"
  }
 },
 "nbformat": 4,
 "nbformat_minor": 2
}
