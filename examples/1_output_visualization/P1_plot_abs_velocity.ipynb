{
 "cells": [
  {
   "cell_type": "markdown",
   "metadata": {},
   "source": [
    "# Read initial model and plot velocity in horizontal section"
   ]
  },
  {
   "cell_type": "code",
   "execution_count": 1,
   "metadata": {},
   "outputs": [
    {
     "name": "stdout",
     "output_type": "stream",
     "text": [
      "The shape of initial model array is  (40401, 3)\n"
     ]
    }
   ],
   "source": [
    "from pytomoatt.model import ATTModel\n",
    "import numpy as np\n",
    "# initial model hdf5 file\n",
    "initial_model_file = '2_models/model_init_N7_201_201.h5'\n",
    "# input parameters file\n",
    "par_file = '3_input_params/input_params_inv.yaml'\n",
    "\n",
    "# read model file by pytomoatt\n",
    "model = ATTModel.read(initial_model_file, par_file)\n",
    "initial_model = model.to_xarray()\n",
    "\n",
    "# we can access the velocity at arbitrary depth\n",
    "depth = 0.0\n",
    "tmp = initial_model.interp_dep(depth, field='vel')\n",
    "print(\"The shape of initial model array is \", tmp.shape)\n",
    "lon = tmp[:,0]\n",
    "lat = tmp[:,1]\n",
    "vel = tmp[:,2]"
   ]
  },
  {
   "cell_type": "markdown",
   "metadata": {},
   "source": [
    "# Pygmt plot"
   ]
  },
  {
   "cell_type": "code",
   "execution_count": 2,
   "metadata": {},
   "outputs": [
    {
     "ename": "NameError",
     "evalue": "name 'plot_map' is not defined",
     "output_type": "error",
     "traceback": [
      "\u001b[1;31m---------------------------------------------------------------------------\u001b[0m",
      "\u001b[1;31mNameError\u001b[0m                                 Traceback (most recent call last)",
      "Input \u001b[1;32mIn [2]\u001b[0m, in \u001b[0;36m<cell line: 6>\u001b[1;34m()\u001b[0m\n\u001b[0;32m      3\u001b[0m pygmt\u001b[38;5;241m.\u001b[39mconfig(FONT\u001b[38;5;241m=\u001b[39m\u001b[38;5;124m\"\u001b[39m\u001b[38;5;124m16p\u001b[39m\u001b[38;5;124m\"\u001b[39m, IO_SEGMENT_MARKER\u001b[38;5;241m=\u001b[39m\u001b[38;5;124m\"\u001b[39m\u001b[38;5;124m<<<\u001b[39m\u001b[38;5;124m\"\u001b[39m)\n\u001b[0;32m      5\u001b[0m fname \u001b[38;5;241m=\u001b[39m \u001b[38;5;124m'\u001b[39m\u001b[38;5;124mimg/1a_initial_model.png\u001b[39m\u001b[38;5;124m'\u001b[39m\n\u001b[1;32m----> 6\u001b[0m fig \u001b[38;5;241m=\u001b[39m \u001b[43mplot_map\u001b[49m(lon,lat,vel,\u001b[38;5;241m0.01\u001b[39m,\u001b[38;5;241m0.01\u001b[39m,\n\u001b[0;32m      7\u001b[0m             fname \u001b[38;5;241m=\u001b[39m fname, \n\u001b[0;32m      8\u001b[0m             x_label \u001b[38;5;241m=\u001b[39m \u001b[38;5;124m\"\u001b[39m\u001b[38;5;124mLongtitude\u001b[39m\u001b[38;5;124m\"\u001b[39m,\n\u001b[0;32m      9\u001b[0m             y_label \u001b[38;5;241m=\u001b[39m \u001b[38;5;124m\"\u001b[39m\u001b[38;5;124mLatitude\u001b[39m\u001b[38;5;124m\"\u001b[39m,\n\u001b[0;32m     10\u001b[0m             colorbar \u001b[38;5;241m=\u001b[39m \u001b[38;5;124m\"\u001b[39m\u001b[38;5;124mVp (km/s)\u001b[39m\u001b[38;5;124m\"\u001b[39m, \n\u001b[0;32m     11\u001b[0m             cpt_range \u001b[38;5;241m=\u001b[39m [\u001b[38;5;241m4.75\u001b[39m,\u001b[38;5;241m5.25\u001b[39m])\n",
      "\u001b[1;31mNameError\u001b[0m: name 'plot_map' is not defined"
     ]
    }
   ],
   "source": [
    "# pygmt plot\n",
    "import pygmt\n",
    "pygmt.config(FONT=\"16p\", IO_SEGMENT_MARKER=\"<<<\")\n",
    "\n",
    "fname = 'img/1a_initial_model.png'\n",
    "fig = plot_map(lon,lat,vel,0.01,0.01,\n",
    "            fname = fname, \n",
    "            x_label = \"Longtitude\",\n",
    "            y_label = \"Latitude\",\n",
    "            colorbar = \"Vp (km/s)\", \n",
    "            cpt_range = [4.75,5.25])"
   ]
  }
 ],
 "metadata": {
  "kernelspec": {
   "display_name": "Python 3",
   "language": "python",
   "name": "python3"
  },
  "language_info": {
   "codemirror_mode": {
    "name": "ipython",
    "version": 3
   },
   "file_extension": ".py",
   "mimetype": "text/x-python",
   "name": "python",
   "nbconvert_exporter": "python",
   "pygments_lexer": "ipython3",
   "version": "3.10.4"
  }
 },
 "nbformat": 4,
 "nbformat_minor": 2
}
