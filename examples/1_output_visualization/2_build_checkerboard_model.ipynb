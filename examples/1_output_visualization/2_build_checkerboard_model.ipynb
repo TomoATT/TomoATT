{
 "cells": [
  {
   "attachments": {},
   "cell_type": "markdown",
   "metadata": {},
   "source": [
    "# notebook for create init and true test model"
   ]
  },
  {
   "cell_type": "code",
   "execution_count": 1,
   "metadata": {},
   "outputs": [],
   "source": [
    "from pytomoatt.checkerboard import Checker\n",
    "\n",
    "# number of points in the radial, latitudinal, and longitudinal directions\n",
    "n_rtp = [7,201,201]\n",
    "\n",
    "checker_model = Checker('2_models/model_init_N{:d}_{:d}_{:d}.h5'.format(*n_rtp))\n",
    "# study region\n",
    "R_earth = 6371.0\n",
    "\n",
    "r_min = R_earth - 0.3    # 0.3 km below the surface   (radial coordinate)\n",
    "r_max = R_earth + 0.3    # 0.3 km above the surface   (radial coordinate)\n",
    "t_min = 0.0          # 0 degrees latitude\n",
    "t_max = 1.0          # 1 degrees latitude\n",
    "p_min = 0.0          # 0 degrees longitude\n",
    "p_max = 1.0          # 1 degrees longitude\n",
    "\n",
    "\n",
    "\n",
    "checker_model.init_axis([R_earth-r_max, R_earth-r_min], [t_min, t_max], [p_min, p_max], n_rtp)\n",
    "\n",
    "\n",
    "# checkerboard model\n",
    "checker_model.checkerboard(\n",
    "    2, 2, 1,\n",
    "    pert_vel=0.05, pert_ani=0.05,\n",
    "    lim_x=[0, 1], lim_y=[0, 1], lim_z=[-0.3, 0.3]\n",
    ")\n",
    "\n",
    "checker_model.write('2_models/model_ckb_N{:d}_{:d}_{:d}.h5'.format(*n_rtp))\n"
   ]
  }
 ],
 "metadata": {
  "kernelspec": {
   "display_name": "Python 3",
   "language": "python",
   "name": "python3"
  },
  "language_info": {
   "codemirror_mode": {
    "name": "ipython",
    "version": 3
   },
   "file_extension": ".py",
   "mimetype": "text/x-python",
   "name": "python",
   "nbconvert_exporter": "python",
   "pygments_lexer": "ipython3",
   "version": "3.10.4"
  },
  "orig_nbformat": 4,
  "vscode": {
   "interpreter": {
    "hash": "c8112a80bcc57e66f52aa6c921b20667122cfa5e8b1ad09e9dfbd3a3ba336bd6"
   }
  }
 },
 "nbformat": 4,
 "nbformat_minor": 2
}
