{
 "cells": [
  {
   "cell_type": "code",
   "execution_count": 13,
   "metadata": {},
   "outputs": [],
   "source": [
    "import h5py\n",
    "import numpy as np"
   ]
  },
  {
   "cell_type": "code",
   "execution_count": 17,
   "metadata": {},
   "outputs": [
    {
     "name": "stdout",
     "output_type": "stream",
     "text": [
      "<KeysViewHDF5 ['model', 'src_s0']>\n",
      "<KeysViewHDF5 ['Kdensity_update_inv_0000', 'Kdensity_update_inv_0001', 'Kdensity_update_inv_0002', 'Kdensity_update_inv_0003', 'eta_inv_0000', 'eta_inv_0001', 'eta_inv_0002', 'eta_inv_0003', 'eta_inv_0004', 'vel_inv_0000', 'vel_inv_0001', 'vel_inv_0002', 'vel_inv_0003', 'vel_inv_0004', 'xi_inv_0000', 'xi_inv_0001', 'xi_inv_0002', 'xi_inv_0003', 'xi_inv_0004']>\n",
      "(284214,)\n",
      "(284214,)\n",
      "<KeysViewHDF5 ['src_s1']>\n",
      "<KeysViewHDF5 ['T_res_inv_0000', 'T_res_inv_0001', 'T_res_inv_0002', 'T_res_inv_0003', 'adjoint_field_inv_0000', 'adjoint_field_inv_0001', 'adjoint_field_inv_0002', 'adjoint_field_inv_0003']>\n",
      "<KeysViewHDF5 ['Mesh']>\n",
      "<KeysViewHDF5 ['elem_conn', 'node_coords_p', 'node_coords_r', 'node_coords_t', 'node_coords_x', 'node_coords_y', 'node_coords_z', 'procid']>\n",
      "(284214,) [0.    0.005 0.01  0.015 0.02  0.025 0.03  0.035 0.04  0.045]\n",
      "(284214,) [6370.21647959 6370.22130665 6370.22608521 6370.23081525 6370.23549678\n",
      " 6370.24012979 6370.2447143  6370.24925029 6370.25373777 6370.25817673]\n",
      "<KeysViewHDF5 ['eta', 'vel', 'xi']>\n",
      "(7, 201, 201)\n"
     ]
    }
   ],
   "source": [
    "fname = \"OUTPUT_FILES/OUTPUT_FILES_fields/out_data_sim_group_0.h5\"\n",
    "with h5py.File(fname, \"r\") as f:\n",
    "    print(f.keys())\n",
    "    model = f[\"model\"]\n",
    "    print(model.keys())\n",
    "    print(model[\"Kdensity_update_inv_0002\"].shape)\n",
    "    print(model[\"vel_inv_0002\"].shape)\n",
    "\n",
    "fname = \"OUTPUT_FILES/OUTPUT_FILES_fields/out_data_sim_group_1.h5\"\n",
    "with h5py.File(fname, \"r\") as f:\n",
    "    print(f.keys())\n",
    "    src = f[\"src_s1\"]\n",
    "    print(src.keys())\n",
    "    # print(model[\"Kdensity_update_inv_0002\"].shape)\n",
    "    # print(model[\"vel_inv_0002\"].shape)\n",
    "\n",
    "fname = \"OUTPUT_FILES/OUTPUT_FILES_fields/out_data_grid.h5\"\n",
    "with h5py.File(fname, \"r\") as f:\n",
    "    print(f.keys())\n",
    "    Mesh = f[\"Mesh\"]\n",
    "    print(Mesh.keys())\n",
    "    elem_conn = np.array(Mesh[\"elem_conn\"])\n",
    "    node_coords_p = np.array(Mesh[\"node_coords_p\"])\n",
    "    print(node_coords_p.shape, node_coords_p[0:10])\n",
    "    node_coords_x = np.array(Mesh[\"node_coords_x\"])\n",
    "    print(node_coords_x.shape, node_coords_x[0:10])\n",
    "\n",
    "fname = \"OUTPUT_FILES/OUTPUT_FILES_fields/final_model.h5\"\n",
    "with h5py.File(fname, \"r\") as f:\n",
    "    print(f.keys())\n",
    "    eta = f[\"eta\"]\n",
    "    print(eta.shape)"
   ]
  },
  {
   "cell_type": "code",
   "execution_count": 5,
   "metadata": {},
   "outputs": [],
   "source": [
    "from pytomoatt.model import ATTModel\n",
    "from pytomoatt.para import ATTPara\n",
    "from pytomoatt.data import ATTData\n",
    "import pygmt\n",
    "import numpy as np"
   ]
  },
  {
   "cell_type": "code",
   "execution_count": 6,
   "metadata": {},
   "outputs": [
    {
     "ename": "FileNotFoundError",
     "evalue": "[Errno 2] Unable to synchronously open file (unable to open file: name = './OUTPUT_FILES/OUTPUT_FILES_fields/final_model.h5', errno = 2, error message = 'No such file or directory', flags = 0, o_flags = 0)",
     "output_type": "error",
     "traceback": [
      "\u001b[1;31m---------------------------------------------------------------------------\u001b[0m",
      "\u001b[1;31mFileNotFoundError\u001b[0m                         Traceback (most recent call last)",
      "Input \u001b[1;32mIn [6]\u001b[0m, in \u001b[0;36m<cell line: 7>\u001b[1;34m()\u001b[0m\n\u001b[0;32m      4\u001b[0m par \u001b[38;5;241m=\u001b[39m ATTPara(par_file)\n\u001b[0;32m      6\u001b[0m \u001b[38;5;66;03m# -------- plot the final model ------------\u001b[39;00m\n\u001b[1;32m----> 7\u001b[0m model \u001b[38;5;241m=\u001b[39m \u001b[43mATTModel\u001b[49m\u001b[38;5;241;43m.\u001b[39;49m\u001b[43mread\u001b[49m\u001b[43m(\u001b[49m\u001b[43mfinal_model_file\u001b[49m\u001b[43m,\u001b[49m\u001b[43m \u001b[49m\u001b[43mpar_file\u001b[49m\u001b[43m)\u001b[49m\n\u001b[0;32m      9\u001b[0m model\u001b[38;5;241m.\u001b[39mcalc_dv(par\u001b[38;5;241m.\u001b[39minput_params[\u001b[38;5;124m'\u001b[39m\u001b[38;5;124mmodel\u001b[39m\u001b[38;5;124m'\u001b[39m][\u001b[38;5;124m'\u001b[39m\u001b[38;5;124minit_model_path\u001b[39m\u001b[38;5;124m'\u001b[39m])\n\u001b[0;32m     11\u001b[0m all_dep \u001b[38;5;241m=\u001b[39m [\u001b[38;5;241m0.0\u001b[39m,\u001b[38;5;241m0.0\u001b[39m]\n",
      "File \u001b[1;32md:\\my_software\\python\\lib\\site-packages\\pytomoatt\\model.py:52\u001b[0m, in \u001b[0;36mATTModel.read\u001b[1;34m(cls, model_fname, para_fname)\u001b[0m\n\u001b[0;32m     44\u001b[0m \u001b[38;5;250m\u001b[39m\u001b[38;5;124;03m\"\"\"Read an exists model\u001b[39;00m\n\u001b[0;32m     45\u001b[0m \n\u001b[0;32m     46\u001b[0m \u001b[38;5;124;03m:param model_fname: Path to the exists model\u001b[39;00m\n\u001b[1;32m   (...)\u001b[0m\n\u001b[0;32m     49\u001b[0m \u001b[38;5;124;03m:type para_fname: str, optional\u001b[39;00m\n\u001b[0;32m     50\u001b[0m \u001b[38;5;124;03m\"\"\"\u001b[39;00m\n\u001b[0;32m     51\u001b[0m mod \u001b[38;5;241m=\u001b[39m \u001b[38;5;28mcls\u001b[39m(para_fname)\n\u001b[1;32m---> 52\u001b[0m f \u001b[38;5;241m=\u001b[39m \u001b[43mh5py\u001b[49m\u001b[38;5;241;43m.\u001b[39;49m\u001b[43mFile\u001b[49m\u001b[43m(\u001b[49m\u001b[43mmodel_fname\u001b[49m\u001b[43m)\u001b[49m\n\u001b[0;32m     53\u001b[0m mod\u001b[38;5;241m.\u001b[39mvel \u001b[38;5;241m=\u001b[39m f[\u001b[38;5;124m'\u001b[39m\u001b[38;5;124mvel\u001b[39m\u001b[38;5;124m'\u001b[39m][:]\n\u001b[0;32m     54\u001b[0m mod\u001b[38;5;241m.\u001b[39mxi \u001b[38;5;241m=\u001b[39m f[\u001b[38;5;124m'\u001b[39m\u001b[38;5;124mxi\u001b[39m\u001b[38;5;124m'\u001b[39m][:]\n",
      "File \u001b[1;32md:\\my_software\\python\\lib\\site-packages\\h5py\\_hl\\files.py:562\u001b[0m, in \u001b[0;36mFile.__init__\u001b[1;34m(self, name, mode, driver, libver, userblock_size, swmr, rdcc_nslots, rdcc_nbytes, rdcc_w0, track_order, fs_strategy, fs_persist, fs_threshold, fs_page_size, page_buf_size, min_meta_keep, min_raw_keep, locking, alignment_threshold, alignment_interval, meta_block_size, **kwds)\u001b[0m\n\u001b[0;32m    553\u001b[0m     fapl \u001b[38;5;241m=\u001b[39m make_fapl(driver, libver, rdcc_nslots, rdcc_nbytes, rdcc_w0,\n\u001b[0;32m    554\u001b[0m                      locking, page_buf_size, min_meta_keep, min_raw_keep,\n\u001b[0;32m    555\u001b[0m                      alignment_threshold\u001b[38;5;241m=\u001b[39malignment_threshold,\n\u001b[0;32m    556\u001b[0m                      alignment_interval\u001b[38;5;241m=\u001b[39malignment_interval,\n\u001b[0;32m    557\u001b[0m                      meta_block_size\u001b[38;5;241m=\u001b[39mmeta_block_size,\n\u001b[0;32m    558\u001b[0m                      \u001b[38;5;241m*\u001b[39m\u001b[38;5;241m*\u001b[39mkwds)\n\u001b[0;32m    559\u001b[0m     fcpl \u001b[38;5;241m=\u001b[39m make_fcpl(track_order\u001b[38;5;241m=\u001b[39mtrack_order, fs_strategy\u001b[38;5;241m=\u001b[39mfs_strategy,\n\u001b[0;32m    560\u001b[0m                      fs_persist\u001b[38;5;241m=\u001b[39mfs_persist, fs_threshold\u001b[38;5;241m=\u001b[39mfs_threshold,\n\u001b[0;32m    561\u001b[0m                      fs_page_size\u001b[38;5;241m=\u001b[39mfs_page_size)\n\u001b[1;32m--> 562\u001b[0m     fid \u001b[38;5;241m=\u001b[39m \u001b[43mmake_fid\u001b[49m\u001b[43m(\u001b[49m\u001b[43mname\u001b[49m\u001b[43m,\u001b[49m\u001b[43m \u001b[49m\u001b[43mmode\u001b[49m\u001b[43m,\u001b[49m\u001b[43m \u001b[49m\u001b[43muserblock_size\u001b[49m\u001b[43m,\u001b[49m\u001b[43m \u001b[49m\u001b[43mfapl\u001b[49m\u001b[43m,\u001b[49m\u001b[43m \u001b[49m\u001b[43mfcpl\u001b[49m\u001b[43m,\u001b[49m\u001b[43m \u001b[49m\u001b[43mswmr\u001b[49m\u001b[38;5;241;43m=\u001b[39;49m\u001b[43mswmr\u001b[49m\u001b[43m)\u001b[49m\n\u001b[0;32m    564\u001b[0m \u001b[38;5;28;01mif\u001b[39;00m \u001b[38;5;28misinstance\u001b[39m(libver, \u001b[38;5;28mtuple\u001b[39m):\n\u001b[0;32m    565\u001b[0m     \u001b[38;5;28mself\u001b[39m\u001b[38;5;241m.\u001b[39m_libver \u001b[38;5;241m=\u001b[39m libver\n",
      "File \u001b[1;32md:\\my_software\\python\\lib\\site-packages\\h5py\\_hl\\files.py:235\u001b[0m, in \u001b[0;36mmake_fid\u001b[1;34m(name, mode, userblock_size, fapl, fcpl, swmr)\u001b[0m\n\u001b[0;32m    233\u001b[0m     \u001b[38;5;28;01mif\u001b[39;00m swmr \u001b[38;5;129;01mand\u001b[39;00m swmr_support:\n\u001b[0;32m    234\u001b[0m         flags \u001b[38;5;241m|\u001b[39m\u001b[38;5;241m=\u001b[39m h5f\u001b[38;5;241m.\u001b[39mACC_SWMR_READ\n\u001b[1;32m--> 235\u001b[0m     fid \u001b[38;5;241m=\u001b[39m \u001b[43mh5f\u001b[49m\u001b[38;5;241;43m.\u001b[39;49m\u001b[43mopen\u001b[49m\u001b[43m(\u001b[49m\u001b[43mname\u001b[49m\u001b[43m,\u001b[49m\u001b[43m \u001b[49m\u001b[43mflags\u001b[49m\u001b[43m,\u001b[49m\u001b[43m \u001b[49m\u001b[43mfapl\u001b[49m\u001b[38;5;241;43m=\u001b[39;49m\u001b[43mfapl\u001b[49m\u001b[43m)\u001b[49m\n\u001b[0;32m    236\u001b[0m \u001b[38;5;28;01melif\u001b[39;00m mode \u001b[38;5;241m==\u001b[39m \u001b[38;5;124m'\u001b[39m\u001b[38;5;124mr+\u001b[39m\u001b[38;5;124m'\u001b[39m:\n\u001b[0;32m    237\u001b[0m     fid \u001b[38;5;241m=\u001b[39m h5f\u001b[38;5;241m.\u001b[39mopen(name, h5f\u001b[38;5;241m.\u001b[39mACC_RDWR, fapl\u001b[38;5;241m=\u001b[39mfapl)\n",
      "File \u001b[1;32mh5py\\\\_objects.pyx:54\u001b[0m, in \u001b[0;36mh5py._objects.with_phil.wrapper\u001b[1;34m()\u001b[0m\n",
      "File \u001b[1;32mh5py\\\\_objects.pyx:55\u001b[0m, in \u001b[0;36mh5py._objects.with_phil.wrapper\u001b[1;34m()\u001b[0m\n",
      "File \u001b[1;32mh5py\\\\h5f.pyx:102\u001b[0m, in \u001b[0;36mh5py.h5f.open\u001b[1;34m()\u001b[0m\n",
      "\u001b[1;31mFileNotFoundError\u001b[0m: [Errno 2] Unable to synchronously open file (unable to open file: name = './OUTPUT_FILES/OUTPUT_FILES_fields/final_model.h5', errno = 2, error message = 'No such file or directory', flags = 0, o_flags = 0)"
     ]
    }
   ],
   "source": [
    "final_model_file = './OUTPUT_FILES/OUTPUT_FILES_fields/final_model.h5'\n",
    "target_model_file = '2_models/model_ckb_N61_61_61.h5'\n",
    "par_file = '3_input_params/input_params_inv.yaml'\n",
    "par = ATTPara(par_file)\n",
    "\n",
    "# -------- plot the final model ------------\n",
    "model = ATTModel.read(final_model_file, par_file)\n",
    "\n",
    "model.calc_dv(par.input_params['model']['init_model_path'])\n",
    "\n",
    "all_dep = [0.0,0.0]\n",
    "dv_dep = []\n",
    "phi_dep = []\n",
    "epsilon_dep = []\n",
    "epsilon_dep_samp = []\n",
    "\n",
    "for i, dep in enumerate(all_dep):\n",
    "    da = model.to_xarray()\n",
    "    dv_dep.append(da.interp_dep(dep, field='dlnv'))\n",
    "    phi_dep.append(da.interp_dep(dep, field='phi', samp_interval=5))\n",
    "    epsilon_dep.append(da.interp_dep(dep, field='epsilon'))\n",
    "    epsilon_dep_samp.append(da.interp_dep(dep, field='epsilon', samp_interval=5))"
   ]
  },
  {
   "cell_type": "code",
   "execution_count": null,
   "metadata": {},
   "outputs": [
    {
     "name": "stdout",
     "output_type": "stream",
     "text": [
      "KeysView(<xarray.Dataset>\n",
      "Dimensions:                   (r: 7, t: 201, p: 201)\n",
      "Coordinates:\n",
      "    dep                       (r) float64 0.3 0.2 0.1 0.0 -0.1 -0.2 -0.3\n",
      "    rad                       (r) float64 6.371e+03 6.371e+03 ... 6.371e+03\n",
      "    lat                       (t) float64 0.0 0.005 0.01 ... 0.99 0.995 1.0\n",
      "    lon                       (p) float64 0.0 0.005 0.01 ... 0.99 0.995 1.0\n",
      "Dimensions without coordinates: r, t, p\n",
      "Data variables:\n",
      "    Kdensity_update_inv_0000  (r, t, p) float64 1.96e+05 1.96e+05 ... 1.934e+05)\n",
      "(7, 201, 201)\n"
     ]
    }
   ],
   "source": [
    "fname = \"OUTPUT_FILES/OUTPUT_FILES_fields/out_data_sim_group_0.h5\"\n",
    "fname_params = \"3_input_params/input_params_inv.yaml\"\n",
    "fname_grid = \"OUTPUT_FILES/OUTPUT_FILES_fields/out_data_grid.h5\"\n",
    "model2 = ATTData.read(fname, fname_params, fname_grid, group_name=\"model\", dataset_name=\"Kdensity_update_inv_0000\")\n",
    "\n",
    "kd = model2.to_xarray()\n",
    "print(kd.keys())\n",
    "print(kd[\"Kdensity_update_inv_0000\"].shape)\n",
    "\n"
   ]
  }
 ],
 "metadata": {
  "kernelspec": {
   "display_name": "Python 3",
   "language": "python",
   "name": "python3"
  },
  "language_info": {
   "codemirror_mode": {
    "name": "ipython",
    "version": 3
   },
   "file_extension": ".py",
   "mimetype": "text/x-python",
   "name": "python",
   "nbconvert_exporter": "python",
   "pygments_lexer": "ipython3",
   "version": "3.10.4"
  }
 },
 "nbformat": 4,
 "nbformat_minor": 2
}
