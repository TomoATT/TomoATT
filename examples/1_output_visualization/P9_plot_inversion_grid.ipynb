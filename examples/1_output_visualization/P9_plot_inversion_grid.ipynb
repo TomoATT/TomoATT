{
 "cells": [
  {
   "cell_type": "markdown",
   "metadata": {},
   "source": [
    "# Read initial model and plot velocity in horizontal section"
   ]
  },
  {
   "cell_type": "markdown",
   "metadata": {},
   "source": [
    "# Pygmt plot"
   ]
  },
  {
   "cell_type": "code",
   "execution_count": 1,
   "metadata": {},
   "outputs": [],
   "source": [
    "import sys\n",
    "sys.path.append('../utils/')\n",
    "import functions_for_data as ffd"
   ]
  },
  {
   "cell_type": "code",
   "execution_count": null,
   "metadata": {},
   "outputs": [],
   "source": [
    "# pygmt plot\n",
    "import pygmt\n",
    "pygmt.config(FONT=\"16p\", IO_SEGMENT_MARKER=\"<<<\")\n"
   ]
  },
  {
   "cell_type": "code",
   "execution_count": null,
   "metadata": {},
   "outputs": [],
   "source": [
    "inv_grid_vel, inv_grid_ani = ffd.read_inversion_grid_file(\"OUTPUT_FILES/OUTPUT_FILES_fields\")\n",
    "\n",
    "print(inv_grid_vel.shape)\n",
    "print(inv_grid_ani.shape)\n",
    "\n",
    "Nset    = inv_grid_vel.shape[0]\n",
    "Ngrid   = inv_grid_vel.shape[1]\n",
    "\n",
    "colorlist = [\"green\",\"blue\",\"red\",\"purple\",\"orange\",\"yellow\",\"black\",\"gray\",\"pink\",\"cyan\"]"
   ]
  },
  {
   "cell_type": "code",
   "execution_count": null,
   "metadata": {},
   "outputs": [],
   "source": [
    "region = [0,1,0,1]\n",
    "projection = \"M10c\"\n",
    "frame = [\"xa1+lLon\", \"ya1+lLat\", \"nSWe\"]\n",
    "\n",
    "fig = pygmt.Figure()\n",
    "\n",
    "fig.basemap(region=region, projection=projection, frame=frame)\n",
    "\n",
    "for i in range(Nset):\n",
    "    x = inv_grid_vel[i,:,0]\n",
    "    y = inv_grid_vel[i,:,1]\n",
    "    fig.plot(x=x, y=y, style=\"c0.1c\", fill=colorlist[i])\n",
    "\n",
    "fig.savefig(\"img/9a_inversion_grid.png\")\n",
    "fig.show()"
   ]
  },
  {
   "cell_type": "code",
   "execution_count": null,
   "metadata": {},
   "outputs": [],
   "source": [
    "region = [0,1,-1,1]\n",
    "projection = \"X10c/-3c\"\n",
    "frame = [\"xa1+lLon\", \"ya1+lDep\", \"nSWe\"]\n",
    "\n",
    "fig = pygmt.Figure()\n",
    "\n",
    "fig.basemap(region=region, projection=projection, frame=frame)\n",
    "\n",
    "for i in range(Nset):\n",
    "    x = inv_grid_vel[i,:,0]\n",
    "    y = inv_grid_vel[i,:,2]\n",
    "    fig.plot(x=x, y=y, style=\"c0.1c\", fill=colorlist[i])\n",
    "\n",
    "fig.savefig(\"img/9b_inversion_grid_vertial.png\")\n",
    "fig.show()"
   ]
  }
 ],
 "metadata": {
  "kernelspec": {
   "display_name": "Python 3",
   "language": "python",
   "name": "python3"
  },
  "language_info": {
   "codemirror_mode": {
    "name": "ipython",
    "version": 3
   },
   "file_extension": ".py",
   "mimetype": "text/x-python",
   "name": "python",
   "nbconvert_exporter": "python",
   "pygments_lexer": "ipython3",
   "version": "3.10.4"
  }
 },
 "nbformat": 4,
 "nbformat_minor": 2
}
