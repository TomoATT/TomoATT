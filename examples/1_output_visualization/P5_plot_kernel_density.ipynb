{
 "cells": [
  {
   "cell_type": "markdown",
   "metadata": {},
   "source": [
    "# Read kernel density\n",
    "\n",
    "kernel density reflects the density of data distribution. It is similar to the so-called ray density."
   ]
  },
  {
   "cell_type": "code",
   "execution_count": null,
   "metadata": {},
   "outputs": [],
   "source": [
    "from pytomoatt.data import ATTData\n",
    "import numpy as np"
   ]
  },
  {
   "cell_type": "code",
   "execution_count": null,
   "metadata": {},
   "outputs": [],
   "source": [
    "# file to be read\n",
    "input_file = 'OUTPUT_FILES/OUTPUT_FILES_fields/out_data_sim_group_0.h5'\n",
    "# input parameters file\n",
    "par_file = '3_input_params/input_params_inv.yaml'\n",
    "# grid file\n",
    "grid_file = 'OUTPUT_FILES/OUTPUT_FILES_fields/out_data_grid.h5'\n",
    "\n",
    "# read sensitivity kernel\n",
    "group   = \"model\"          # \"src_$src_name\"\n",
    "dataset = \"Kdensity_inv_0000\"  # \"T_res_inv_$iter\"\n",
    "data = ATTData.read(input_file, par_file, grid_file, group, dataset)\n",
    "data_field = data.to_xarray()\n",
    "\n",
    "# we can access 3D kernel related to slowness\n",
    "tmp = data_field[dataset]\n",
    "print(\"3D slowness kernel shape: \", tmp.shape)\n",
    "\n",
    "# or we can interp it to a 2D slice at depth\n",
    "depth = 0.0\n",
    "tmp = data_field.interp_dep(depth, field=dataset)\n",
    "lon   = tmp[:,0]\n",
    "lat   = tmp[:,1]\n",
    "Kden  = tmp[:,2]\n",
    "\n",
    "# Similarly, we do the same process for smoothed kernel density\n",
    "dataset = \"Kdensity_update_inv_0000\"\n",
    "data = ATTData.read(input_file, par_file, grid_file, group, dataset)\n",
    "data_field = data.to_xarray()\n",
    "Kden_mg = data_field.interp_dep(depth, field=dataset)[:,2]\n"
   ]
  },
  {
   "cell_type": "markdown",
   "metadata": {},
   "source": [
    "# Pygmt kernel density"
   ]
  },
  {
   "cell_type": "code",
   "execution_count": null,
   "metadata": {},
   "outputs": [],
   "source": [
    "# pygmt plot\n",
    "import pygmt\n",
    "pygmt.config(FONT=\"16p\", IO_SEGMENT_MARKER=\"<<<\")\n",
    "\n",
    "\n",
    "region = [0,1,0,1]\n",
    "projection = \"X10c/10c\"\n",
    "frame = [\"xa0.5+lLongitude\", \"ya0.5+lLatitude\", \"nSWe\"]\n",
    "\n",
    "fig = pygmt.Figure()\n",
    "\n",
    "# ----------- plot Ks field ------------\n",
    "pygmt.makecpt(cmap=\"seis\", series=[-5, 5], background=True, reverse=False)\n",
    "grid = pygmt.xyz2grd(x=longitude, y=latitude, z=Kden, spacing=0.005,region=region,)\n",
    "fig.grdimage(frame=frame,grid = grid,projection=projection, region=region) # nan_transparent may work\n",
    "\n",
    "fig.shift_origin(xshift= 5, yshift=-2)\n",
    "fig.colorbar(frame = [\"a%f\"%(1),\"y+lKernel density\"], position=\"+w4c/0.3c+h\") # +e,默认是双箭头，f表示forward，b表示background ，w表示长宽，h表示水平\n",
    "fig.shift_origin(xshift=-1, yshift=+2)\n",
    "\n",
    "\n",
    "dx = 0.01; dy = 0.01\n",
    "\n",
    "fname = 'img/5a_kernel_density.png'\n",
    "fig = plot_map(lon,lat,Kden,dx,dy,\n",
    "            fname = fname, \n",
    "            x_label = \"Longtitude\",\n",
    "            y_label = \"Latitude\",\n",
    "            colorbar = \"Kernel density\",\n",
    "            cpt_range = [-5, 5],)\n",
    "\n",
    "fname = 'img/5b_kernel_density_mg.png'\n",
    "fig = plot_map(lon,lat,Kden_mg,dx,dy,\n",
    "            fname = fname, \n",
    "            x_label = \"Longtitude\",\n",
    "            y_label = \"Latitude\",\n",
    "            colorbar = \"Kernel density (mg)\",\n",
    "            cpt_range = [-1, 1],)\n"
   ]
  }
 ],
 "metadata": {
  "kernelspec": {
   "display_name": "Python 3",
   "language": "python",
   "name": "python3"
  },
  "language_info": {
   "codemirror_mode": {
    "name": "ipython",
    "version": 3
   },
   "file_extension": ".py",
   "mimetype": "text/x-python",
   "name": "python",
   "nbconvert_exporter": "python",
   "pygments_lexer": "ipython3",
   "version": "3.10.4"
  }
 },
 "nbformat": 4,
 "nbformat_minor": 2
}
