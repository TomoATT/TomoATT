{
 "cells": [
  {
   "attachments": {},
   "cell_type": "markdown",
   "metadata": {},
   "source": [
    "# notebook for create init and true test model"
   ]
  },
  {
   "cell_type": "code",
   "execution_count": 1,
   "metadata": {},
   "outputs": [
    {
     "name": "stdout",
     "output_type": "stream",
     "text": [
      "dir models exists\n"
     ]
    }
   ],
   "source": [
    "import numpy as np\n",
    "import math\n",
    "import os\n",
    "\n",
    "# study region\n",
    "R_earth = 6371.0\n",
    "\n",
    "rr1=R_earth - 50\n",
    "rr2=R_earth + 10\n",
    "tt1=(30.0)\n",
    "tt2=(32.0)\n",
    "pp1=(30.0)\n",
    "pp2=(32.0)\n",
    "\n",
    "try:\n",
    "    os.mkdir(\"2_models\")\n",
    "except:\n",
    "    print(\"dir models exists\")\n"
   ]
  },
  {
   "cell_type": "code",
   "execution_count": 2,
   "metadata": {},
   "outputs": [],
   "source": [
    "# read initial model\n",
    "import h5py\n",
    "\n",
    "model_fname = \"2_models/model_init_N61_61_61.h5\"   # 检测板反演的最终模型\n",
    "fmodel  = h5py.File(model_fname, 'r')\n",
    "\n",
    "vel_init    = np.array(fmodel['vel'])\n",
    "xi_init     = np.array(fmodel['xi'])\n",
    "eta_init    = np.array(fmodel['eta'])"
   ]
  },
  {
   "cell_type": "code",
   "execution_count": 3,
   "metadata": {},
   "outputs": [],
   "source": [
    "# build the initial model\n",
    "import h5py\n",
    "\n",
    "\n",
    "# model\n",
    "n_rtp = [61,61,61]\n",
    "dr = (rr2-rr1)/(n_rtp[0]-1)\n",
    "dt = (tt2-tt1)/(n_rtp[1]-1)\n",
    "dp = (pp2-pp1)/(n_rtp[2]-1)\n",
    "rr = np.array([rr1 + x*dr for x in range(n_rtp[0])])\n",
    "tt = np.array([tt1 + x*dt for x in range(n_rtp[1])])\n",
    "pp = np.array([pp1 + x*dp for x in range(n_rtp[2])])\n",
    "\n",
    "eta_ckb     = np.zeros(n_rtp)\n",
    "xi_ckb      = np.zeros(n_rtp)\n",
    "zeta_ckb    = np.zeros(n_rtp)\n",
    "vel_ckb     = np.zeros(n_rtp)\n",
    "\n",
    "# perturbation amplitude\n",
    "vel_pert = 0.06\n",
    "ani_pert = 0.04\n",
    "\n",
    "for ir in range(n_rtp[0]):\n",
    "    for it in range(n_rtp[1]):\n",
    "        for ip in range(n_rtp[2]):\n",
    "\n",
    "            dep = R_earth - rr[ir]\n",
    "\n",
    "            if (tt[it] >= 30.5 and tt[it] <= 31.5 and pp[ip] >= 30.5 and pp[ip] <= 31.5 and dep >= 0  and dep <= 40):\n",
    "                sigma = math.sin(math.pi*(tt[it]-30.5)/(0.5)) \\\n",
    "                      * math.sin(math.pi*(pp[ip]-30.5)/(0.5))  \\\n",
    "                      * math.sin(math.pi*(dep)/(20))\n",
    "            else:\n",
    "                sigma = 0.0\n",
    "\n",
    "            if sigma < 0:\n",
    "                psi = 60.0/180.0*math.pi\n",
    "            elif sigma > 0:\n",
    "                psi = 150.0/180.0*math.pi\n",
    "            else:\n",
    "                psi = 0.0\n",
    "\n",
    "            vel_ckb[ir,it,ip]   = vel_init[ir,it,ip] * (1.0 + vel_pert * sigma)\n",
    "            xi_ckb[ir,it,ip]    = ani_pert * abs(sigma) * math.cos(2*psi) \n",
    "            eta_ckb[ir,it,ip]   = ani_pert * abs(sigma) * math.sin(2*psi) \n",
    "            zeta_ckb[ir,it,ip]  = 0.0\n",
    "\n",
    "# write out in hdf5 format\n",
    "fout_ckb = h5py.File('2_models/model_ckb_N%d_%d_%d.h5'%(n_rtp[0],n_rtp[1],n_rtp[2]), 'w')\n",
    "# write out the arrays eta_init, xi_init, zeta_init, fun_init, a_init, b_init, c_init, f_init\n",
    "fout_ckb.create_dataset('eta', data=eta_ckb)\n",
    "fout_ckb.create_dataset('xi', data=xi_ckb)\n",
    "fout_ckb.create_dataset('zeta', data=zeta_ckb)\n",
    "fout_ckb.create_dataset('vel', data=vel_ckb)\n",
    "\n",
    "fout_ckb.close()\n",
    "\n",
    "\n"
   ]
  }
 ],
 "metadata": {
  "kernelspec": {
   "display_name": "Python 3",
   "language": "python",
   "name": "python3"
  },
  "language_info": {
   "codemirror_mode": {
    "name": "ipython",
    "version": 3
   },
   "file_extension": ".py",
   "mimetype": "text/x-python",
   "name": "python",
   "nbconvert_exporter": "python",
   "pygments_lexer": "ipython3",
   "version": "3.10.4"
  },
  "orig_nbformat": 4,
  "vscode": {
   "interpreter": {
    "hash": "c8112a80bcc57e66f52aa6c921b20667122cfa5e8b1ad09e9dfbd3a3ba336bd6"
   }
  }
 },
 "nbformat": 4,
 "nbformat_minor": 2
}
