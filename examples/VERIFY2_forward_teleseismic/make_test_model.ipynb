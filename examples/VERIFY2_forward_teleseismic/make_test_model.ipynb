{
 "cells": [
  {
   "attachments": {},
   "cell_type": "markdown",
   "metadata": {},
   "source": [
    "# notebook for create init and true test model"
   ]
  },
  {
   "cell_type": "code",
   "execution_count": 1,
   "metadata": {},
   "outputs": [],
   "source": [
    "import numpy as np\n",
    "import math\n",
    "\n",
    "# grid\n",
    "R_earth = 6371.0\n",
    "\n",
    "rr1=5900 \n",
    "rr2=6400\n",
    "tt1=(30.0)/180*math.pi\n",
    "tt2=(50.0)/180*math.pi\n",
    "pp1=(15.0)/180*math.pi\n",
    "pp2=(40.0)/180*math.pi\n",
    "\n"
   ]
  },
  {
   "cell_type": "code",
   "execution_count": 3,
   "metadata": {},
   "outputs": [
    {
     "name": "stdout",
     "output_type": "stream",
     "text": [
      "(138, 4)\n"
     ]
    }
   ],
   "source": [
    "# read ak135 model\n",
    "ak135 = np.loadtxt('ak135_model.txt')"
   ]
  },
  {
   "cell_type": "code",
   "execution_count": 4,
   "metadata": {},
   "outputs": [
    {
     "name": "stdout",
     "output_type": "stream",
     "text": [
      "dir models exists\n"
     ]
    }
   ],
   "source": [
    "import h5py\n",
    "import os\n",
    "\n",
    "try:\n",
    "    os.mkdir(\"2_models\")\n",
    "except:\n",
    "    print(\"dir models exists\")\n",
    "\n",
    "for Ngrid in [41,61,81,121,161]:\n",
    "    # model\n",
    "    n_rtp = [Ngrid,Ngrid,Ngrid]\n",
    "    dr = (rr2-rr1)/(n_rtp[0]-1)\n",
    "    dt = (tt2-tt1)/(n_rtp[1]-1)\n",
    "    dp = (pp2-pp1)/(n_rtp[2]-1)\n",
    "    rr = np.array([rr1 + x*dr for x in range(n_rtp[0])])\n",
    "    tt = np.array([tt1 + x*dt for x in range(n_rtp[1])])\n",
    "    pp = np.array([pp1 + x*dp for x in range(n_rtp[2])])\n",
    "\n",
    "    eta_init = np.zeros(n_rtp)\n",
    "    xi_init  = np.zeros(n_rtp)\n",
    "    zeta_init = np.zeros(n_rtp)\n",
    "    fun_init = np.zeros(n_rtp)\n",
    "    vel_init = np.zeros(n_rtp)\n",
    "\n",
    "    for ir in range(n_rtp[0]):\n",
    "        dep = R_earth - rr[ir]\n",
    "        if dep < 0:\n",
    "            vel = 5.8\n",
    "        else:\n",
    "            for i in range(ak135.shape[0]):\n",
    "                if (dep > ak135[i,0] and dep <= ak135[i+1,0]):\n",
    "                    vel = ak135[i,1] + (ak135[i+1,1]-ak135[i,1])/(ak135[i+1,0]-ak135[i,0])*(dep-ak135[i,0])\n",
    "                    break\n",
    "\n",
    "        for it in range(n_rtp[1]):\n",
    "            for ip in range(n_rtp[2]):\n",
    "\n",
    "                z = rr[ir] * math.sin(tt[it])\n",
    "                x = rr[ir] * math.cos(tt[it]) * math.cos(pp[ip])\n",
    "                y = rr[ir] * math.cos(tt[it]) * math.sin(pp[ip])\n",
    "                \n",
    "                vel_init[ir,it,ip] = vel\n",
    "\n",
    "    # write out in hdf5 format\n",
    "\n",
    "    fout_init = h5py.File('2_models/model_N%d_%d_%d.h5'%(n_rtp[0],n_rtp[1],n_rtp[2]), 'w')\n",
    "\n",
    "    # write out the arrays eta_init, xi_init, zeta_init, fun_init, a_init, b_init, c_init, f_init\n",
    "    fout_init.create_dataset('eta', data=eta_init)\n",
    "    fout_init.create_dataset('xi', data=xi_init)\n",
    "    fout_init.create_dataset('zeta', data=zeta_init)\n",
    "    fout_init.create_dataset('vel', data=vel_init)\n",
    "\n",
    "    fout_init.close()\n"
   ]
  }
 ],
 "metadata": {
  "kernelspec": {
   "display_name": "Python 3",
   "language": "python",
   "name": "python3"
  },
  "language_info": {
   "codemirror_mode": {
    "name": "ipython",
    "version": 3
   },
   "file_extension": ".py",
   "mimetype": "text/x-python",
   "name": "python",
   "nbconvert_exporter": "python",
   "pygments_lexer": "ipython3",
   "version": "3.10.4"
  },
  "orig_nbformat": 4,
  "vscode": {
   "interpreter": {
    "hash": "c8112a80bcc57e66f52aa6c921b20667122cfa5e8b1ad09e9dfbd3a3ba336bd6"
   }
  }
 },
 "nbformat": 4,
 "nbformat_minor": 2
}
