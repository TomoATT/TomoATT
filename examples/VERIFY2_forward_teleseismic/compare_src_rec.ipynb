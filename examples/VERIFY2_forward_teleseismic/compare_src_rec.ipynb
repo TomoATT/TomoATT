{
 "cells": [
  {
   "cell_type": "code",
   "execution_count": 22,
   "metadata": {},
   "outputs": [],
   "source": [
    "import numpy as np\n",
    "\n",
    "import sys\n",
    "sys.path.append('../utils')\n",
    "\n",
    "from functions_for_data import read_src_rec_file\n",
    "from functions_for_data import cal_dis"
   ]
  },
  {
   "cell_type": "code",
   "execution_count": 23,
   "metadata": {},
   "outputs": [],
   "source": [
    "fname = 'OUTPUT_FILES/OUTPUT_FILES_N41_41_41/src_rec_file_forward.dat'\n",
    "ev_N41, st_N41 = read_src_rec_file(fname)\n",
    "\n",
    "fname = 'OUTPUT_FILES/OUTPUT_FILES_N61_61_61/src_rec_file_forward.dat'\n",
    "ev_N61, st_N61 = read_src_rec_file(fname)\n",
    "\n",
    "fname = 'OUTPUT_FILES/OUTPUT_FILES_N81_81_81/src_rec_file_forward.dat'\n",
    "ev_N81, st_N81 = read_src_rec_file(fname)\n",
    "\n",
    "fname = 'OUTPUT_FILES/OUTPUT_FILES_N121_121_121/src_rec_file_forward.dat'\n",
    "ev_N121, st_N121 = read_src_rec_file(fname)\n",
    "\n",
    "fname = 'OUTPUT_FILES/OUTPUT_FILES_N161_161_161/src_rec_file_forward.dat'\n",
    "ev_N161, st_N161 = read_src_rec_file(fname)\n"
   ]
  },
  {
   "cell_type": "code",
   "execution_count": 24,
   "metadata": {},
   "outputs": [],
   "source": [
    "from obspy.taup import TauPyModel\n",
    "model = TauPyModel(model=\"ak135\")\n",
    "\n",
    "def compare_data(ev,st):\n",
    "    ev_N41 = ev\n",
    "    st_N41 = st\n",
    "    error = []\n",
    "    for key_ev in ev_N41:\n",
    "        src = ev_N41[key_ev]\n",
    "        src_lat = src.lat\n",
    "        src_lon = src.lon\n",
    "        src_dep = src.dep\n",
    "        for key_data in ev_N41[key_ev].cs_dt:\n",
    "            data = ev_N41[key_ev].cs_dt[key_data]\n",
    "\n",
    "            # get location of receiver\n",
    "            rec1 = st_N41[data[0]]\n",
    "            rec1_lat = rec1.lat\n",
    "            rec1_lon = rec1.lon\n",
    "\n",
    "            rec2 = st_N41[data[1]]\n",
    "            rec2_lat = rec2.lat\n",
    "            rec2_lon = rec2.lon\n",
    "\n",
    "            # calculate distance between source and receiver\n",
    "            dis1_km = cal_dis(src_lat, src_lon, rec1_lat, rec1_lon)\n",
    "            dis1_deg = dis1_km / 111.19\n",
    "\n",
    "            dis2_km = cal_dis(src_lat, src_lon, rec2_lat, rec2_lon)\n",
    "            dis2_deg = dis2_km / 111.19\n",
    "\n",
    "            # calculate travel time by TauP\n",
    "            arrivals = model.get_travel_times(source_depth_in_km=src_dep, distance_in_degree=dis1_deg,phase_list=[\"P\"])\n",
    "            taup_time1 = arrivals[0].time\n",
    "            \n",
    "            arrivals = model.get_travel_times(source_depth_in_km=src_dep, distance_in_degree=dis2_deg,phase_list=[\"P\"])\n",
    "            taup_time2 = arrivals[0].time\n",
    "\n",
    "            taup_time   = taup_time1 - taup_time2\n",
    "            syn_time    = data[3]\n",
    "            error.append(syn_time - taup_time)\n",
    "\n",
    "    return np.array(error)"
   ]
  },
  {
   "cell_type": "code",
   "execution_count": 25,
   "metadata": {},
   "outputs": [
    {
     "name": "stdout",
     "output_type": "stream",
     "text": [
      "The numerical error in a mesh of 41^3 is:  0.022 s (mean),  0.012 s (std),  0.049 (max)\n",
      "The numerical error in a mesh of 61^3 is:  0.022 s (mean),  0.012 s (std),  0.049 (max), order of accuracy is -0.00\n",
      "The numerical error in a mesh of 81^3 is:  0.024 s (mean),  0.015 s (std),  0.074 (max), order of accuracy is -0.24\n",
      "The numerical error in a mesh of 121^3 is:  0.024 s (mean),  0.018 s (std),  0.096 (max), order of accuracy is -0.03\n",
      "The numerical error in a mesh of 161^3 is:  0.024 s (mean),  0.020 s (std),  0.112 (max), order of accuracy is -0.04\n"
     ]
    }
   ],
   "source": [
    "import math\n",
    "error_N41 = compare_data(ev_N41,st_N41)\n",
    "error_N41 = abs(error_N41)\n",
    "print(\"The numerical error in a mesh of 41^3 is: %6.3f s (mean), %6.3f s (std), %6.3f (max)\"%(error_N41.mean(),error_N41.std(),error_N41.max()))\n",
    "\n",
    "error_N61 = compare_data(ev_N61,st_N61)\n",
    "error_N61 = abs(error_N41)\n",
    "order = math.log(error_N61.mean()/error_N41.mean())/math.log(40/60)\n",
    "print(\"The numerical error in a mesh of 61^3 is: %6.3f s (mean), %6.3f s (std), %6.3f (max), order of accuracy is %5.2f\"%\n",
    "      (error_N61.mean(),error_N61.std(),error_N61.max(),order))\n",
    "\n",
    "error_N81 = compare_data(ev_N81,st_N81)\n",
    "error_N81 = abs(error_N81)\n",
    "order = math.log(error_N81.mean()/error_N61.mean())/math.log(60/80)\n",
    "print(\"The numerical error in a mesh of 81^3 is: %6.3f s (mean), %6.3f s (std), %6.3f (max), order of accuracy is %5.2f\"%\n",
    "      (error_N81.mean(),error_N81.std(),error_N81.max(),order))\n",
    "\n",
    "error_N121 = compare_data(ev_N121,st_N121)\n",
    "error_N121 = abs(error_N121)\n",
    "order = math.log(error_N121.mean()/error_N81.mean())/math.log(80/120)\n",
    "print(\"The numerical error in a mesh of 121^3 is: %6.3f s (mean), %6.3f s (std), %6.3f (max), order of accuracy is %5.2f\"%\n",
    "      (error_N121.mean(),error_N121.std(),error_N121.max(),order))\n",
    "\n",
    "error_N161 = compare_data(ev_N161,st_N161)\n",
    "error_N161 = abs(error_N161)\n",
    "order = math.log(error_N161.mean()/error_N121.mean())/math.log(120/160)\n",
    "print(\"The numerical error in a mesh of 161^3 is: %6.3f s (mean), %6.3f s (std), %6.3f (max), order of accuracy is %5.2f\"%\n",
    "      (error_N161.mean(),error_N161.std(),error_N161.max(),order))\n",
    "\n"
   ]
  },
  {
   "cell_type": "code",
   "execution_count": 26,
   "metadata": {},
   "outputs": [
    {
     "name": "stdout",
     "output_type": "stream",
     "text": [
      "computational complexity is :  -2.659605866681124 -2.8714084060123115 -2.8514944305986063 -2.9189440029916476\n"
     ]
    }
   ],
   "source": [
    "computational_time = [0.9718, 2.8570, 6.5262, 20.7388, 48.0256]\n",
    "order1 = math.log(computational_time[1]/computational_time[0])/math.log(40/60)\n",
    "order2 = math.log(computational_time[2]/computational_time[1])/math.log(60/80)\n",
    "order3 = math.log(computational_time[3]/computational_time[2])/math.log(80/120)\n",
    "order4 = math.log(computational_time[4]/computational_time[3])/math.log(120/160)\n",
    "print(\"computational complexity is : \", order1, order2, order3, order4)"
   ]
  }
 ],
 "metadata": {
  "kernelspec": {
   "display_name": "Python 3",
   "language": "python",
   "name": "python3"
  },
  "language_info": {
   "codemirror_mode": {
    "name": "ipython",
    "version": 3
   },
   "file_extension": ".py",
   "mimetype": "text/x-python",
   "name": "python",
   "nbconvert_exporter": "python",
   "pygments_lexer": "ipython3",
   "version": "3.10.4"
  },
  "orig_nbformat": 4
 },
 "nbformat": 4,
 "nbformat_minor": 2
}
