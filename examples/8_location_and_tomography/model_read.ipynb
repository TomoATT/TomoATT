{
 "cells": [
  {
   "cell_type": "code",
   "execution_count": null,
   "metadata": {},
   "outputs": [],
   "source": [
    "import h5py\n",
    "import numpy as np\n",
    "\n",
    "R_earth = 6371\n",
    "# 读取数据\n",
    "\n",
    "model_fname = \"../data/5_data_inverted/after_3d_inversion/t6_real_data_try_1/out_data_sim_group_0.h5\"   # 检测板反演的最终模型\n",
    "Nstep = \"0020\"\n",
    "grid_fname = \"../data/5_data_inverted/after_3d_inversion/t6_real_data_try_1/out_data_grid.h5\"                # 网格文件\n",
    "\n",
    "\n",
    "fmodel  = h5py.File(model_fname, 'r')\n",
    "fgrid   = h5py.File(grid_fname, 'r')\n",
    "\n",
    "# print(fmodel.keys())\n",
    "\n",
    "vel_inv  = np.array(fmodel['model'][\"vel_inv_%s\"%(Nstep)])\n",
    "xi_inv  = np.array(fmodel['model'][\"xi_inv_%s\"%(Nstep)])\n",
    "eta_inv  = np.array(fmodel['model'][\"eta_inv_%s\"%(Nstep)])\n",
    "\n",
    "grid_r = np.array(fgrid[\"Mesh\"][\"node_coords_r\"])\n",
    "grid_t = np.array(fgrid[\"Mesh\"][\"node_coords_t\"])\n",
    "grid_p = np.array(fgrid[\"Mesh\"][\"node_coords_p\"])\n",
    "\n",
    "fmodel.close()\n",
    "fgrid.close()\n",
    "print(grid_t)\n",
    "\n",
    "# 生成数据数组\n",
    "model={}\n",
    "dir_lat={};dir_lon={};dir_dep={}\n",
    "np_lat=[];np_lon=[];np_dep=[]\n",
    "for i in range(len(vel_inv)):\n",
    "    lat  = '%.8g'%(grid_t[i]); \n",
    "    lon  = '%.8g'%(grid_p[i]); \n",
    "    dep  = '%.8g'%(R_earth - grid_r[i]); \n",
    "    vel = vel_inv[i]\n",
    "    xi   = xi_inv[i]\n",
    "    eta  = eta_inv[i]\n",
    "\n",
    "    print(lat,lon,dep,vel,xi,eta)"
   ]
  }
 ],
 "metadata": {
  "language_info": {
   "name": "python"
  },
  "orig_nbformat": 4
 },
 "nbformat": 4,
 "nbformat_minor": 2
}
