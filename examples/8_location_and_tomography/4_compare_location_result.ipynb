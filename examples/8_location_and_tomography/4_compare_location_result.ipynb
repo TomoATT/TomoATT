{
 "cells": [
  {
   "cell_type": "code",
   "execution_count": 4,
   "metadata": {},
   "outputs": [],
   "source": [
    "import os\n",
    "import math\n",
    "from obspy import UTCDateTime\n",
    "import numpy as np\n",
    "\n",
    "def compare_locations(fname1,fname2):\n",
    "    doc = open(fname1,'r')\n",
    "    srcrec1 = doc.readlines()\n",
    "    doc.close()\n",
    "\n",
    "    doc = open(fname2,'r')\n",
    "    srcrec2 = doc.readlines()\n",
    "    doc.close()\n",
    "\n",
    "    if(not len(srcrec1) == len(srcrec2)):\n",
    "        print(\"input srec rec files are not consistent\")\n",
    "        return \n",
    "\n",
    "    error_ortime    = []\n",
    "    error_lat       = []\n",
    "    error_lon       = []\n",
    "    error_dep       = []\n",
    "\n",
    "    cc = 0\n",
    "    for iline in range(len(srcrec1)):\n",
    "        if (cc == 0):   # event line\n",
    "            tmp = srcrec1[iline].split()\n",
    "            year    = int(tmp[1])\n",
    "            month   = int(tmp[2])\n",
    "            day     = int(tmp[3])\n",
    "            hour    = int(tmp[4])\n",
    "            minute  = int(tmp[5])\n",
    "            second  = float(tmp[6])\n",
    "            ortime1 = UTCDateTime(year,month,day,hour,minute,0) + second\n",
    "\n",
    "            lat1    = float(tmp[7])/180*math.pi*6371\n",
    "            lon1    = float(tmp[8])/180*math.pi*6371 * math.cos(lat1/180*math.pi)\n",
    "            dep1    = float(tmp[9])\n",
    "\n",
    "            tmp = srcrec2[iline].split()\n",
    "            year    = int(tmp[1])\n",
    "            month   = int(tmp[2])\n",
    "            day     = int(tmp[3])\n",
    "            hour    = int(tmp[4])\n",
    "            minute  = int(tmp[5])\n",
    "            second  = float(tmp[6])\n",
    "            ortime2 = UTCDateTime(year,month,day,hour,minute,0) + second\n",
    "\n",
    "            lat2    = float(tmp[7])/180*math.pi*6371\n",
    "            lon2    = float(tmp[8])/180*math.pi*6371 * math.cos(lat1/180*math.pi)\n",
    "            dep2    = float(tmp[9])\n",
    "\n",
    "            error_ortime.append(ortime1 - ortime2)\n",
    "            error_lat.append(lat1 - lat2)\n",
    "            error_lon.append(lon1 - lon2)\n",
    "            error_dep.append(dep1 - dep2)\n",
    "\n",
    "            ndata   = int(tmp[11])\n",
    "            # if(abs(dep1 - dep2) > 3):\n",
    "            #     print(tmp[12])\n",
    "            cc += 1\n",
    "        else:   # data line\n",
    "            if (cc == ndata):\n",
    "                cc = 0\n",
    "            else:\n",
    "                cc += 1\n",
    "\n",
    "    return (np.array(error_ortime),np.array(error_lat),np.array(error_lon),np.array(error_dep))\n",
    "\n",
    "\n"
   ]
  },
  {
   "cell_type": "code",
   "execution_count": 5,
   "metadata": {},
   "outputs": [
    {
     "name": "stdout",
     "output_type": "stream",
     "text": [
      "600 earthquakes, the initial location errors are\n",
      "The location error of ortime (s) are, max value: 1.5 s, mean value: 0.73377 s, standard deviation: 0.43067 s.\n",
      "The location error of lat (km)   are, max value: 22.217 km, mean value: 11.126 km, standard deviation: 6.4824 km.\n",
      "The location error of lon (km)   are, max value: 21.272 km, mean value: 7.1904 km, standard deviation: 5.8983 km.\n",
      "The location error of dep (km)   are, max value: 4.989 km, mean value: 2.4076 km, standard deviation: 1.4416 km.\n",
      "\n"
     ]
    }
   ],
   "source": [
    "fname1 = \"OUTPUT_FILES/OUTPUT_FILES_signal/src_rec_file_forward.dat\"\n",
    "fname2 = \"src_rec_obs.dat\"\n",
    "error_ortime,error_lat,error_lon,error_dep = compare_locations(fname1,fname2)\n",
    "\n",
    "print(\"%d earthquakes, the initial location errors are\"%(len(error_ortime)))\n",
    "print(\"The location error of ortime (s) are, max value: %.5g s, mean value: %.5g s, standard deviation: %.5g s.\"%(max(abs(error_ortime)), abs(error_ortime).mean(), abs(error_ortime).std()))\n",
    "print(\"The location error of lat (km)   are, max value: %.5g km, mean value: %.5g km, standard deviation: %.5g km.\"%(max(abs(error_lat)), abs(error_lat).mean(), abs(error_lat).std()))\n",
    "print(\"The location error of lon (km)   are, max value: %.5g km, mean value: %.5g km, standard deviation: %.5g km.\"%(max(abs(error_lon)), abs(error_lon).mean(), abs(error_lon).std()))\n",
    "print(\"The location error of dep (km)   are, max value: %.5g km, mean value: %.5g km, standard deviation: %.5g km.\"%(max(abs(error_dep)), abs(error_dep).mean(), abs(error_dep).std()))\n",
    "print(\"\")"
   ]
  },
  {
   "cell_type": "code",
   "execution_count": 7,
   "metadata": {},
   "outputs": [
    {
     "name": "stdout",
     "output_type": "stream",
     "text": [
      "600 earthquakes are located in the wrong model using absolute traveltime data\n",
      "The location error of ortime (s) are, max value: 1.49 s, mean value: 0.4613 s, standard deviation: 0.33204 s.\n",
      "The location error of lat (km)   are, max value: 12.543 km, mean value: 3.1987 km, standard deviation: 2.8182 km.\n",
      "The location error of lon (km)   are, max value: 14.652 km, mean value: 2.2572 km, standard deviation: 2.5527 km.\n",
      "The location error of dep (km)   are, max value: 7.0403 km, mean value: 2.1952 km, standard deviation: 1.4308 km.\n",
      "\n"
     ]
    }
   ],
   "source": [
    "fname1 = \"OUTPUT_FILES/OUTPUT_FILES_signal/src_rec_file_forward.dat\"\n",
    "fname2 = \"OUTPUT_FILES/OUTPUT_FILES_inv_abs_reloc_abs/src_rec_file_inv_0039_reloc_0039.dat\"\n",
    "error_ortime,error_lat,error_lon,error_dep = compare_locations(fname1,fname2)\n",
    "\n",
    "print(\"%d earthquakes are located using absolute traveltime data\"%(len(error_ortime)))\n",
    "print(\"The location error of ortime (s) are, max value: %.5g s, mean value: %.5g s, standard deviation: %.5g s.\"%(max(abs(error_ortime)), abs(error_ortime).mean(), abs(error_ortime).std()))\n",
    "print(\"The location error of lat (km)   are, max value: %.5g km, mean value: %.5g km, standard deviation: %.5g km.\"%(max(abs(error_lat)), abs(error_lat).mean(), abs(error_lat).std()))\n",
    "print(\"The location error of lon (km)   are, max value: %.5g km, mean value: %.5g km, standard deviation: %.5g km.\"%(max(abs(error_lon)), abs(error_lon).mean(), abs(error_lon).std()))\n",
    "print(\"The location error of dep (km)   are, max value: %.5g km, mean value: %.5g km, standard deviation: %.5g km.\"%(max(abs(error_dep)), abs(error_dep).mean(), abs(error_dep).std()))\n",
    "print(\"\")"
   ]
  }
 ],
 "metadata": {
  "kernelspec": {
   "display_name": "Python 3",
   "language": "python",
   "name": "python3"
  },
  "language_info": {
   "codemirror_mode": {
    "name": "ipython",
    "version": 3
   },
   "file_extension": ".py",
   "mimetype": "text/x-python",
   "name": "python",
   "nbconvert_exporter": "python",
   "pygments_lexer": "ipython3",
   "version": "3.10.4"
  },
  "orig_nbformat": 4,
  "vscode": {
   "interpreter": {
    "hash": "c8112a80bcc57e66f52aa6c921b20667122cfa5e8b1ad09e9dfbd3a3ba336bd6"
   }
  }
 },
 "nbformat": 4,
 "nbformat_minor": 2
}
