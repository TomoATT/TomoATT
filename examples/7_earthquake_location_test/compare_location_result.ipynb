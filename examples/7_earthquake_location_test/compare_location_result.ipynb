{
 "cells": [
  {
   "cell_type": "code",
   "execution_count": 26,
   "metadata": {},
   "outputs": [],
   "source": [
    "import os\n",
    "import math\n",
    "from obspy import UTCDateTime\n",
    "import numpy as np\n",
    "\n",
    "def compare_locations(fname1,fname2):\n",
    "    doc = open(fname1,'r')\n",
    "    srcrec1 = doc.readlines()\n",
    "    doc.close()\n",
    "\n",
    "    doc = open(fname2,'r')\n",
    "    srcrec2 = doc.readlines()\n",
    "    doc.close()\n",
    "\n",
    "    if(not len(srcrec1) == len(srcrec2)):\n",
    "        print(\"input srec rec files are not consistent\")\n",
    "        return \n",
    "\n",
    "    error_ortime    = []\n",
    "    error_lat       = []\n",
    "    error_lon       = []\n",
    "    error_dep       = []\n",
    "\n",
    "    cc = 0\n",
    "    for iline in range(len(srcrec1)):\n",
    "        if (cc == 0):   # event line\n",
    "            tmp = srcrec1[iline].split()\n",
    "            year    = int(tmp[1])\n",
    "            month   = int(tmp[2])\n",
    "            day     = int(tmp[3])\n",
    "            hour    = int(tmp[4])\n",
    "            minute  = int(tmp[5])\n",
    "            second  = float(tmp[6])\n",
    "            ortime1 = UTCDateTime(year,month,day,hour,minute,0) + second\n",
    "\n",
    "            lat1    = float(tmp[7])/180*math.pi*6371\n",
    "            lon1    = float(tmp[8])/180*math.pi*6371 * math.cos(lat1/180*math.pi)\n",
    "            dep1    = float(tmp[9])\n",
    "\n",
    "            tmp = srcrec2[iline].split()\n",
    "            year    = int(tmp[1])\n",
    "            month   = int(tmp[2])\n",
    "            day     = int(tmp[3])\n",
    "            hour    = int(tmp[4])\n",
    "            minute  = int(tmp[5])\n",
    "            second  = float(tmp[6])\n",
    "            ortime2 = UTCDateTime(year,month,day,hour,minute,0) + second\n",
    "\n",
    "            lat2    = float(tmp[7])/180*math.pi*6371\n",
    "            lon2    = float(tmp[8])/180*math.pi*6371 * math.cos(lat1/180*math.pi)\n",
    "            dep2    = float(tmp[9])\n",
    "\n",
    "            error_ortime.append(ortime1 - ortime2)\n",
    "            error_lat.append(lat1 - lat2)\n",
    "            error_lon.append(lon1 - lon2)\n",
    "            error_dep.append(dep1 - dep2)\n",
    "\n",
    "            ndata   = int(tmp[11])\n",
    "\n",
    "            cc += 1\n",
    "        else:   # data line\n",
    "            if (cc == ndata):\n",
    "                cc = 0\n",
    "            else:\n",
    "                cc += 1\n",
    "\n",
    "    return (np.array(error_ortime),np.array(error_lat),np.array(error_lon),np.array(error_dep))\n",
    "\n",
    "\n"
   ]
  },
  {
   "cell_type": "code",
   "execution_count": 27,
   "metadata": {},
   "outputs": [
    {
     "name": "stdout",
     "output_type": "stream",
     "text": [
      "100 earthquakes, the initial location errors are\n",
      "The location error of ortime (s) are, max value: 1.5 s, mean value: 0.7752 s, standard deviation: 0.44056 s.\n",
      "The location error of lat (km)   are, max value: 21.894 km, mean value: 10.905 km, standard deviation: 6.2229 km.\n",
      "The location error of lon (km)   are, max value: 21.272 km, mean value: 7.7282 km, standard deviation: 6.1017 km.\n",
      "The location error of dep (km)   are, max value: 4.961 km, mean value: 2.562 km, standard deviation: 1.4173 km.\n",
      "\n"
     ]
    }
   ],
   "source": [
    "fname1 = \"OUTPUT_FILES/OUTPUT_FILES_signal/src_rec_file_forward.dat\"\n",
    "fname2 = \"src_rec_obs.dat\"\n",
    "error_ortime,error_lat,error_lon,error_dep = compare_locations(fname1,fname2)\n",
    "\n",
    "print(\"%d earthquakes, the initial location errors are\"%(len(error_ortime)))\n",
    "print(\"The location error of ortime (s) are, max value: %.5g s, mean value: %.5g s, standard deviation: %.5g s.\"%(max(abs(error_ortime)), abs(error_ortime).mean(), abs(error_ortime).std()))\n",
    "print(\"The location error of lat (km)   are, max value: %.5g km, mean value: %.5g km, standard deviation: %.5g km.\"%(max(abs(error_lat)), abs(error_lat).mean(), abs(error_lat).std()))\n",
    "print(\"The location error of lon (km)   are, max value: %.5g km, mean value: %.5g km, standard deviation: %.5g km.\"%(max(abs(error_lon)), abs(error_lon).mean(), abs(error_lon).std()))\n",
    "print(\"The location error of dep (km)   are, max value: %.5g km, mean value: %.5g km, standard deviation: %.5g km.\"%(max(abs(error_dep)), abs(error_dep).mean(), abs(error_dep).std()))\n",
    "print(\"\")"
   ]
  },
  {
   "cell_type": "code",
   "execution_count": 28,
   "metadata": {},
   "outputs": [
    {
     "name": "stdout",
     "output_type": "stream",
     "text": [
      "100 earthquakes are located using absolute traveltime data\n",
      "The location error of ortime (s) are, max value: 0.04 s, mean value: 0.0009 s, standard deviation: 0.0047106 s.\n",
      "The location error of lat (km)   are, max value: 0.12231 km, mean value: 0.0047814 km, standard deviation: 0.019018 km.\n",
      "The location error of lon (km)   are, max value: 0.14766 km, mean value: 0.0037811 km, standard deviation: 0.017919 km.\n",
      "The location error of dep (km)   are, max value: 0.1661 km, mean value: 0.003973 km, standard deviation: 0.016721 km.\n",
      "\n"
     ]
    }
   ],
   "source": [
    "fname1 = \"OUTPUT_FILES/OUTPUT_FILES_signal/src_rec_file_forward.dat\"\n",
    "fname2 = \"OUTPUT_FILES/OUTPUT_FILES_reloc_abs/src_rec_file_reloc_obs.dat\"\n",
    "error_ortime,error_lat,error_lon,error_dep = compare_locations(fname1,fname2)\n",
    "\n",
    "print(\"%d earthquakes are located using absolute traveltime data\"%(len(error_ortime)))\n",
    "print(\"The location error of ortime (s) are, max value: %.5g s, mean value: %.5g s, standard deviation: %.5g s.\"%(max(abs(error_ortime)), abs(error_ortime).mean(), abs(error_ortime).std()))\n",
    "print(\"The location error of lat (km)   are, max value: %.5g km, mean value: %.5g km, standard deviation: %.5g km.\"%(max(abs(error_lat)), abs(error_lat).mean(), abs(error_lat).std()))\n",
    "print(\"The location error of lon (km)   are, max value: %.5g km, mean value: %.5g km, standard deviation: %.5g km.\"%(max(abs(error_lon)), abs(error_lon).mean(), abs(error_lon).std()))\n",
    "print(\"The location error of dep (km)   are, max value: %.5g km, mean value: %.5g km, standard deviation: %.5g km.\"%(max(abs(error_dep)), abs(error_dep).mean(), abs(error_dep).std()))\n",
    "print(\"\")"
   ]
  },
  {
   "cell_type": "code",
   "execution_count": 29,
   "metadata": {},
   "outputs": [
    {
     "name": "stdout",
     "output_type": "stream",
     "text": [
      "100 earthquakes are located using common receiver differential traveltime data\n",
      "The location error of ortime (s) are, max value: 0.34 s, mean value: 0.0747 s, standard deviation: 0.060505 s.\n",
      "The location error of lat (km)   are, max value: 3.1802 km, mean value: 0.34537 km, standard deviation: 0.47472 km.\n",
      "The location error of lon (km)   are, max value: 1.1988 km, mean value: 0.21254 km, standard deviation: 0.25627 km.\n",
      "The location error of dep (km)   are, max value: 2.889 km, mean value: 0.40379 km, standard deviation: 0.46606 km.\n",
      "\n"
     ]
    }
   ],
   "source": [
    "fname1 = \"OUTPUT_FILES/OUTPUT_FILES_signal/src_rec_file_forward.dat\"\n",
    "fname2 = \"OUTPUT_FILES/OUTPUT_FILES_reloc_cr/src_rec_file_reloc_obs.dat\"\n",
    "error_ortime,error_lat,error_lon,error_dep = compare_locations(fname1,fname2)\n",
    "\n",
    "print(\"%d earthquakes are located using common receiver differential traveltime data\"%(len(error_ortime)))\n",
    "print(\"The location error of ortime (s) are, max value: %.5g s, mean value: %.5g s, standard deviation: %.5g s.\"%(max(abs(error_ortime)), abs(error_ortime).mean(), abs(error_ortime).std()))\n",
    "print(\"The location error of lat (km)   are, max value: %.5g km, mean value: %.5g km, standard deviation: %.5g km.\"%(max(abs(error_lat)), abs(error_lat).mean(), abs(error_lat).std()))\n",
    "print(\"The location error of lon (km)   are, max value: %.5g km, mean value: %.5g km, standard deviation: %.5g km.\"%(max(abs(error_lon)), abs(error_lon).mean(), abs(error_lon).std()))\n",
    "print(\"The location error of dep (km)   are, max value: %.5g km, mean value: %.5g km, standard deviation: %.5g km.\"%(max(abs(error_dep)), abs(error_dep).mean(), abs(error_dep).std()))\n",
    "print(\"\")"
   ]
  },
  {
   "cell_type": "code",
   "execution_count": 30,
   "metadata": {},
   "outputs": [
    {
     "name": "stdout",
     "output_type": "stream",
     "text": [
      "100 earthquakes are located using both data\n",
      "The location error of ortime (s) are, max value: 0.11 s, mean value: 0.0042 s, standard deviation: 0.013355 s.\n",
      "The location error of lat (km)   are, max value: 0.98963 km, mean value: 0.054486 km, standard deviation: 0.11114 km.\n",
      "The location error of lon (km)   are, max value: 0.31424 km, mean value: 0.036969 km, standard deviation: 0.052224 km.\n",
      "The location error of dep (km)   are, max value: 0.9037 km, mean value: 0.046054 km, standard deviation: 0.095867 km.\n",
      "\n"
     ]
    }
   ],
   "source": [
    "fname1 = \"OUTPUT_FILES/OUTPUT_FILES_signal/src_rec_file_forward.dat\"\n",
    "fname2 = \"OUTPUT_FILES/OUTPUT_FILES_reloc_abs_cr/src_rec_file_reloc_obs.dat\"\n",
    "error_ortime,error_lat,error_lon,error_dep = compare_locations(fname1,fname2)\n",
    "\n",
    "print(\"%d earthquakes are located using both data\"%(len(error_ortime)))\n",
    "print(\"The location error of ortime (s) are, max value: %.5g s, mean value: %.5g s, standard deviation: %.5g s.\"%(max(abs(error_ortime)), abs(error_ortime).mean(), abs(error_ortime).std()))\n",
    "print(\"The location error of lat (km)   are, max value: %.5g km, mean value: %.5g km, standard deviation: %.5g km.\"%(max(abs(error_lat)), abs(error_lat).mean(), abs(error_lat).std()))\n",
    "print(\"The location error of lon (km)   are, max value: %.5g km, mean value: %.5g km, standard deviation: %.5g km.\"%(max(abs(error_lon)), abs(error_lon).mean(), abs(error_lon).std()))\n",
    "print(\"The location error of dep (km)   are, max value: %.5g km, mean value: %.5g km, standard deviation: %.5g km.\"%(max(abs(error_dep)), abs(error_dep).mean(), abs(error_dep).std()))\n",
    "print(\"\")"
   ]
  }
 ],
 "metadata": {
  "kernelspec": {
   "display_name": "Python 3",
   "language": "python",
   "name": "python3"
  },
  "language_info": {
   "codemirror_mode": {
    "name": "ipython",
    "version": 3
   },
   "file_extension": ".py",
   "mimetype": "text/x-python",
   "name": "python",
   "nbconvert_exporter": "python",
   "pygments_lexer": "ipython3",
   "version": "3.10.4"
  },
  "orig_nbformat": 4,
  "vscode": {
   "interpreter": {
    "hash": "c8112a80bcc57e66f52aa6c921b20667122cfa5e8b1ad09e9dfbd3a3ba336bd6"
   }
  }
 },
 "nbformat": 4,
 "nbformat_minor": 2
}
