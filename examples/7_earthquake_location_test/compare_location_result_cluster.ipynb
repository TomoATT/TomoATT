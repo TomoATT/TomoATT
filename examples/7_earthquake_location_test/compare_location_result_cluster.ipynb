{
 "cells": [
  {
   "cell_type": "code",
   "execution_count": 1,
   "metadata": {},
   "outputs": [],
   "source": [
    "import os\n",
    "import math\n",
    "from obspy import UTCDateTime\n",
    "import numpy as np\n",
    "\n",
    "def compare_locations(fname1,fname2):\n",
    "    doc = open(fname1,'r')\n",
    "    srcrec1 = doc.readlines()\n",
    "    doc.close()\n",
    "\n",
    "    doc = open(fname2,'r')\n",
    "    srcrec2 = doc.readlines()\n",
    "    doc.close()\n",
    "\n",
    "    if(not len(srcrec1) == len(srcrec2)):\n",
    "        print(\"input srec rec files are not consistent\")\n",
    "        return \n",
    "\n",
    "    error_ortime    = []\n",
    "    error_lat       = []\n",
    "    error_lon       = []\n",
    "    error_dep       = []\n",
    "\n",
    "    cc = 0\n",
    "    for iline in range(len(srcrec1)):\n",
    "        if (cc == 0):   # event line\n",
    "            tmp = srcrec1[iline].split()\n",
    "            year    = int(tmp[1])\n",
    "            month   = int(tmp[2])\n",
    "            day     = int(tmp[3])\n",
    "            hour    = int(tmp[4])\n",
    "            minute  = int(tmp[5])\n",
    "            second  = float(tmp[6])\n",
    "            ortime1 = UTCDateTime(year,month,day,hour,minute,0) + second\n",
    "\n",
    "            lat1    = float(tmp[7])/180*math.pi*6371\n",
    "            lon1    = float(tmp[8])/180*math.pi*6371 * math.cos(lat1/180*math.pi)\n",
    "            dep1    = float(tmp[9])\n",
    "\n",
    "            tmp = srcrec2[iline].split()\n",
    "            year    = int(tmp[1])\n",
    "            month   = int(tmp[2])\n",
    "            day     = int(tmp[3])\n",
    "            hour    = int(tmp[4])\n",
    "            minute  = int(tmp[5])\n",
    "            second  = float(tmp[6])\n",
    "            ortime2 = UTCDateTime(year,month,day,hour,minute,0) + second\n",
    "\n",
    "            lat2    = float(tmp[7])/180*math.pi*6371\n",
    "            lon2    = float(tmp[8])/180*math.pi*6371 * math.cos(lat1/180*math.pi)\n",
    "            dep2    = float(tmp[9])\n",
    "\n",
    "            error_ortime.append(ortime1 - ortime2)\n",
    "            error_lat.append(lat1 - lat2)\n",
    "            error_lon.append(lon1 - lon2)\n",
    "            error_dep.append(dep1 - dep2)\n",
    "\n",
    "            ndata   = int(tmp[11])\n",
    "\n",
    "            cc += 1\n",
    "        else:   # data line\n",
    "            if (cc == ndata):\n",
    "                cc = 0\n",
    "            else:\n",
    "                cc += 1\n",
    "\n",
    "    return (np.array(error_ortime),np.array(error_lat),np.array(error_lon),np.array(error_dep))\n",
    "\n",
    "\n"
   ]
  },
  {
   "cell_type": "code",
   "execution_count": 2,
   "metadata": {},
   "outputs": [
    {
     "name": "stdout",
     "output_type": "stream",
     "text": [
      "100 earthquakes, the initial location errors are\n",
      "The location error of ortime (s) are, max value: 1.5 s, mean value: 0.7752 s, standard deviation: 0.44056 s.\n",
      "The location error of lat (km)   are, max value: 21.894 km, mean value: 10.905 km, standard deviation: 6.2229 km.\n",
      "The location error of lon (km)   are, max value: 20.059 km, mean value: 11.001 km, standard deviation: 5.4788 km.\n",
      "The location error of dep (km)   are, max value: 4.961 km, mean value: 2.542 km, standard deviation: 1.411 km.\n",
      "\n"
     ]
    }
   ],
   "source": [
    "fname1 = \"OUTPUT_FILES/OUTPUT_FILES_signal_cluster/src_rec_file_forward.dat\"\n",
    "fname2 = \"src_rec_obs_cluster.dat\"\n",
    "error_ortime,error_lat,error_lon,error_dep = compare_locations(fname1,fname2)\n",
    "\n",
    "print(\"%d earthquakes, the initial location errors are\"%(len(error_ortime)))\n",
    "print(\"The location error of ortime (s) are, max value: %.5g s, mean value: %.5g s, standard deviation: %.5g s.\"%(max(abs(error_ortime)), abs(error_ortime).mean(), abs(error_ortime).std()))\n",
    "print(\"The location error of lat (km)   are, max value: %.5g km, mean value: %.5g km, standard deviation: %.5g km.\"%(max(abs(error_lat)), abs(error_lat).mean(), abs(error_lat).std()))\n",
    "print(\"The location error of lon (km)   are, max value: %.5g km, mean value: %.5g km, standard deviation: %.5g km.\"%(max(abs(error_lon)), abs(error_lon).mean(), abs(error_lon).std()))\n",
    "print(\"The location error of dep (km)   are, max value: %.5g km, mean value: %.5g km, standard deviation: %.5g km.\"%(max(abs(error_dep)), abs(error_dep).mean(), abs(error_dep).std()))\n",
    "print(\"\")"
   ]
  },
  {
   "cell_type": "code",
   "execution_count": 5,
   "metadata": {},
   "outputs": [
    {
     "name": "stdout",
     "output_type": "stream",
     "text": [
      "100 earthquakes are located using absolute traveltime data\n",
      "The location error of ortime (s) are, max value: 0.01 s, mean value: 0.0002 s, standard deviation: 0.0014 s.\n",
      "The location error of lat (km)   are, max value: 0.033358 km, mean value: 0.0018903 km, standard deviation: 0.0056818 km.\n",
      "The location error of lon (km)   are, max value: 0.030491 km, mean value: 0.0010914 km, standard deviation: 0.0042181 km.\n",
      "The location error of dep (km)   are, max value: 0.0114 km, mean value: 0.002102 km, standard deviation: 0.0020998 km.\n",
      "\n"
     ]
    }
   ],
   "source": [
    "fname1 = \"OUTPUT_FILES/OUTPUT_FILES_signal_cluster/src_rec_file_forward.dat\"\n",
    "fname2 = \"OUTPUT_FILES/OUTPUT_FILES_reloc_cluster_abs/src_rec_file_reloc_obs.dat\"\n",
    "error_ortime,error_lat,error_lon,error_dep = compare_locations(fname1,fname2)\n",
    "\n",
    "print(\"%d earthquakes are located using absolute traveltime data\"%(len(error_ortime)))\n",
    "print(\"The location error of ortime (s) are, max value: %.5g s, mean value: %.5g s, standard deviation: %.5g s.\"%(max(abs(error_ortime)), abs(error_ortime).mean(), abs(error_ortime).std()))\n",
    "print(\"The location error of lat (km)   are, max value: %.5g km, mean value: %.5g km, standard deviation: %.5g km.\"%(max(abs(error_lat)), abs(error_lat).mean(), abs(error_lat).std()))\n",
    "print(\"The location error of lon (km)   are, max value: %.5g km, mean value: %.5g km, standard deviation: %.5g km.\"%(max(abs(error_lon)), abs(error_lon).mean(), abs(error_lon).std()))\n",
    "print(\"The location error of dep (km)   are, max value: %.5g km, mean value: %.5g km, standard deviation: %.5g km.\"%(max(abs(error_dep)), abs(error_dep).mean(), abs(error_dep).std()))\n",
    "print(\"\")"
   ]
  },
  {
   "cell_type": "code",
   "execution_count": 6,
   "metadata": {},
   "outputs": [
    {
     "name": "stdout",
     "output_type": "stream",
     "text": [
      "100 earthquakes are located using common receiver differential traveltime data\n",
      "The location error of ortime (s) are, max value: 0.03 s, mean value: 0.0082 s, standard deviation: 0.0063844 s.\n",
      "The location error of lat (km)   are, max value: 0.36694 km, mean value: 0.10964 km, standard deviation: 0.059028 km.\n",
      "The location error of lon (km)   are, max value: 0.23446 km, mean value: 0.06143 km, standard deviation: 0.051541 km.\n",
      "The location error of dep (km)   are, max value: 0.4712 km, mean value: 0.17442 km, standard deviation: 0.045934 km.\n",
      "\n"
     ]
    }
   ],
   "source": [
    "fname1 = \"OUTPUT_FILES/OUTPUT_FILES_signal_cluster/src_rec_file_forward.dat\"\n",
    "fname2 = \"OUTPUT_FILES/OUTPUT_FILES_reloc_cluster_cr/src_rec_file_reloc_obs.dat\"\n",
    "error_ortime,error_lat,error_lon,error_dep = compare_locations(fname1,fname2)\n",
    "\n",
    "print(\"%d earthquakes are located using common receiver differential traveltime data\"%(len(error_ortime)))\n",
    "print(\"The location error of ortime (s) are, max value: %.5g s, mean value: %.5g s, standard deviation: %.5g s.\"%(max(abs(error_ortime)), abs(error_ortime).mean(), abs(error_ortime).std()))\n",
    "print(\"The location error of lat (km)   are, max value: %.5g km, mean value: %.5g km, standard deviation: %.5g km.\"%(max(abs(error_lat)), abs(error_lat).mean(), abs(error_lat).std()))\n",
    "print(\"The location error of lon (km)   are, max value: %.5g km, mean value: %.5g km, standard deviation: %.5g km.\"%(max(abs(error_lon)), abs(error_lon).mean(), abs(error_lon).std()))\n",
    "print(\"The location error of dep (km)   are, max value: %.5g km, mean value: %.5g km, standard deviation: %.5g km.\"%(max(abs(error_dep)), abs(error_dep).mean(), abs(error_dep).std()))\n",
    "print(\"\")"
   ]
  },
  {
   "cell_type": "code",
   "execution_count": 7,
   "metadata": {},
   "outputs": [
    {
     "name": "stdout",
     "output_type": "stream",
     "text": [
      "100 earthquakes are located using both data\n",
      "The location error of ortime (s) are, max value: 0.03 s, mean value: 0.0062 s, standard deviation: 0.0062897 s.\n",
      "The location error of lat (km)   are, max value: 0.55597 km, mean value: 0.19937 km, standard deviation: 0.083674 km.\n",
      "The location error of lon (km)   are, max value: 0.39483 km, mean value: 0.099834 km, standard deviation: 0.074284 km.\n",
      "The location error of dep (km)   are, max value: 0.4075 km, mean value: 0.079769 km, standard deviation: 0.038172 km.\n",
      "\n"
     ]
    }
   ],
   "source": [
    "fname1 = \"OUTPUT_FILES/OUTPUT_FILES_signal_cluster/src_rec_file_forward.dat\"\n",
    "fname2 = \"OUTPUT_FILES/OUTPUT_FILES_reloc_cluster_abs_cr/src_rec_file_reloc_obs.dat\"\n",
    "error_ortime,error_lat,error_lon,error_dep = compare_locations(fname1,fname2)\n",
    "\n",
    "print(\"%d earthquakes are located using both data\"%(len(error_ortime)))\n",
    "print(\"The location error of ortime (s) are, max value: %.5g s, mean value: %.5g s, standard deviation: %.5g s.\"%(max(abs(error_ortime)), abs(error_ortime).mean(), abs(error_ortime).std()))\n",
    "print(\"The location error of lat (km)   are, max value: %.5g km, mean value: %.5g km, standard deviation: %.5g km.\"%(max(abs(error_lat)), abs(error_lat).mean(), abs(error_lat).std()))\n",
    "print(\"The location error of lon (km)   are, max value: %.5g km, mean value: %.5g km, standard deviation: %.5g km.\"%(max(abs(error_lon)), abs(error_lon).mean(), abs(error_lon).std()))\n",
    "print(\"The location error of dep (km)   are, max value: %.5g km, mean value: %.5g km, standard deviation: %.5g km.\"%(max(abs(error_dep)), abs(error_dep).mean(), abs(error_dep).std()))\n",
    "print(\"\")"
   ]
  }
 ],
 "metadata": {
  "kernelspec": {
   "display_name": "Python 3",
   "language": "python",
   "name": "python3"
  },
  "language_info": {
   "codemirror_mode": {
    "name": "ipython",
    "version": 3
   },
   "file_extension": ".py",
   "mimetype": "text/x-python",
   "name": "python",
   "nbconvert_exporter": "python",
   "pygments_lexer": "ipython3",
   "version": "3.10.4"
  },
  "orig_nbformat": 4,
  "vscode": {
   "interpreter": {
    "hash": "c8112a80bcc57e66f52aa6c921b20667122cfa5e8b1ad09e9dfbd3a3ba336bd6"
   }
  }
 },
 "nbformat": 4,
 "nbformat_minor": 2
}
